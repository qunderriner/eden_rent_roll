{
 "cells": [
  {
   "cell_type": "code",
   "execution_count": 1,
   "metadata": {},
   "outputs": [],
   "source": [
    "import pandas as pd\n",
    "import numpy as np \n",
    "import re\n",
    "from fuzzywuzzy import fuzz\n",
    "pd.options.display.float_format = '{:}'.format #get rid of scientific notation \n",
    "pd.set_option('display.max_columns', None)"
   ]
  },
  {
   "cell_type": "code",
   "execution_count": 2,
   "metadata": {},
   "outputs": [],
   "source": [
    "#read in Eden residents to see if can match \n",
    "eden_residents = pd.read_csv(\"Eden2018_2019residents.csv\")\n",
    "#read in eden data with names intact \n",
    "df_tenants=pd.read_csv(\"eden_tenants_for_matching.csv\")"
   ]
  },
  {
   "cell_type": "code",
   "execution_count": 52,
   "metadata": {},
   "outputs": [],
   "source": [
    "eden_residents_old = pd.read_csv(\"Eden2018_2019residents.csv\")\n"
   ]
  },
  {
   "cell_type": "code",
   "execution_count": 3,
   "metadata": {},
   "outputs": [],
   "source": [
    "def clean_names(df,col,col2):\n",
    "    df[col] = df[col].str.lower()\n",
    "    p = re.compile(r'[^\\w\\s]+')\n",
    "    df['Name_Clean'] = [p.sub('', x) for x in df[col].tolist()]\n",
    "    df.Name_Clean = df.Name_Clean.str.replace(' ', '')\n",
    "    \n",
    "    df.Property = df.Property.str.lower()\n",
    "    df.Property = [p.sub('', x) for x in df.Property.tolist()]\n",
    "    df.Property = df.Property.str.replace(' ', '')\n",
    " \n",
    "    return df"
   ]
  },
  {
   "cell_type": "code",
   "execution_count": 4,
   "metadata": {},
   "outputs": [],
   "source": [
    "#change names of things we want to keep so not lost in fliter \n",
    "df_tenants[\"key1\"] = df_tenants[\"Name_x\"]\n",
    "df_tenants[\"key2\"] = df_tenants[\"Tenant_x\"]\n",
    "\n",
    "#keep only subset of columns \n",
    "drop_name_tenant = [x for x in df_tenants.columns if not \"Name\" in x]\n",
    "drop_name_tenant = [x for x in drop_name_tenant if not \"Tenant_y\" in x]\n",
    "drop_name_tenant = [x for x in drop_name_tenant if not \"Tenant_x\" in x]\n",
    "df_tenants = df_tenants[drop_name_tenant]\n",
    "fixed_cols = ['Property', 'City', 'County', 'Unit',\"key\", \n",
    "       'Is Subsidized?', 'Fixed Income?',\"key\",\"key1\",\"key2\"]#grab initial fixed columns for first month in dataset \n",
    "percent_charged = [num for num in df_tenants.columns if (\"Tenant Lease Charge\") in num]\n",
    "charged = fixed_cols + percent_charged\n",
    "df_tenants = df_tenants[charged]\n",
    "\n",
    "#align col names with other tenants data \n",
    "eden_residents = eden_residents.rename(columns={\"Property_Name\":\"Property\",\"Unit_Code\":\"Unit\"})\n",
    "\n",
    "#names are order flipped in one set (e.g, Smith, John vs John Smith), need to standardize \n",
    "df_tenants[\"Flipped_Name\"] = df_tenants[\"key1\"].str.replace(r'(.+),\\s+(.+)', r'\\2 \\1')"
   ]
  },
  {
   "cell_type": "code",
   "execution_count": 5,
   "metadata": {},
   "outputs": [],
   "source": [
    "#make clean both data sets \n",
    "df_tenants_clean = clean_names(df_tenants,\"Flipped_Name\",\"key2\")\n",
    "eden_residents_clean = clean_names(eden_residents,\"Member_Name\",\"Tenant_Code\")"
   ]
  },
  {
   "cell_type": "code",
   "execution_count": 6,
   "metadata": {},
   "outputs": [],
   "source": [
    "#based on scratch work at the bottom of this notebook, need to fix difference in naming conventions between data sets \n",
    "df_tenants_clean = df_tenants_clean.replace({\n",
    "    'Property':{\"paulineweaverseniorapartmentsfour\": \"paulineweaverseniorapart\", \n",
    "            \"paulineweaverseniorapartmentsnine\": \"paulineweaverseniorapart\",\n",
    "                                 \"altenheimseniorhousingphaseii\":\"altenheimseniorhousing\",\n",
    "                                  \"vistapointatpacificgrove\":\"pacificgrove\",\n",
    "                                  \"warnercreekseniorhousinglp\":\"warnercreekseniorhousing\"}})\n",
    "eden_residents_clean = eden_residents_clean.replace({\n",
    "    'Property':{\"altenheimseniorhousingp\":\"altenheimseniorhousing\",\n",
    "                            \"seacliffhighlandsapartmen\":\"seacliffhighlandsapartments\",\n",
    "                            \"universityvillageapartmen\":\"universityvillageapartments\",\n",
    "                              \"belleterreseniorapartmen\":\"belleterreseniorapartments\",\n",
    "                              \"mirafloresseniorapartment\":\"mirafloresseniorapartments\",\n",
    "                              \"monteverdevilla\":\"monteverde\"}})"
   ]
  },
  {
   "cell_type": "code",
   "execution_count": 7,
   "metadata": {},
   "outputs": [],
   "source": [
    "#now make key to match on \n",
    "df_tenants_clean[\"Match\"] = df_tenants_clean.Name_Clean + df_tenants_clean[\"key2\"] + df_tenants_clean.Property\n",
    "\n",
    "eden_residents_clean[\"Match\"] = eden_residents_clean.Name_Clean + eden_residents_clean[\"Tenant_Code\"] + eden_residents_clean.Property"
   ]
  },
  {
   "cell_type": "code",
   "execution_count": 8,
   "metadata": {},
   "outputs": [],
   "source": [
    "#Do some additional data cleaning before the match \n",
    "\n",
    "#keep only heads and co-heads of households\n",
    "head_household = ['HoH']\n",
    "#note, not including Co-Head, any household with a co-head will have a head still, and they share a tenant ID\n",
    "eden_residents_clean = eden_residents_clean[eden_residents_clean[\"Member_Relation\"].isin(head_household)]\n",
    "#drop some redundant columns \n",
    "df_tenants_clean = df_tenants_clean.drop(columns={\"key\",'key1', 'key2','Name_Clean'})\n",
    "#keep only 2019 data for Tenants \n",
    "eden_residents_clean = eden_residents_clean[eden_residents_clean.year == 2019]\n",
    "#drop true duplicates (those who share both exact name and tenant code match)\n",
    "eden_residents_clean = eden_residents_clean[~eden_residents_clean.duplicated(['Tenant_Code',\"Name_Clean\"],keep=False)].sort_values(\"Tenant_Code\")\n",
    "\n",
    "#currently there are 24 pairs of duplicates where a house shares a head of house\n",
    "tenant_duplicates = eden_residents_clean[eden_residents_clean.duplicated(['Tenant_Code'],keep=False)].sort_values(\"Tenant_Code\")\n",
    "#these should not be removed so we have a chance to match on either of them "
   ]
  },
  {
   "cell_type": "code",
   "execution_count": 9,
   "metadata": {},
   "outputs": [],
   "source": [
    "#merge data, no fuzzy matching \n",
    "eden_merged = df_tenants_clean.merge(eden_residents_clean,on=\"Match\",how=\"inner\")\n",
    "#without fuzzy matching, but after fixing location names, we get 4284 matched records \n",
    "len(eden_merged)"
   ]
  },
  {
   "cell_type": "code",
   "execution_count": 10,
   "metadata": {},
   "outputs": [
    {
     "data": {
      "text/plain": [
       "4284"
      ]
     },
     "execution_count": 10,
     "metadata": {},
     "output_type": "execute_result"
    }
   ],
   "source": [
    "#without fuzzy matching, but after fixing location names, we get 4284 matched records \n",
    "len(eden_merged)"
   ]
  },
  {
   "cell_type": "markdown",
   "metadata": {},
   "source": [
    "Now to do some fuzzy matching and get a hisogram of the match scores. \n",
    "The package fuzzy wuzzy uses Levenshtein distance"
   ]
  },
  {
   "cell_type": "code",
   "execution_count": 11,
   "metadata": {},
   "outputs": [],
   "source": [
    "def match_name(name, list_names, min_score=0):\n",
    "    # -1 score if no match  \n",
    "    max_score = -1\n",
    "    max_name = \"\"\n",
    "    for name2 in list_names:\n",
    "        score = fuzz.ratio(name, name2)\n",
    "        if (score > min_score) & (score > max_score):\n",
    "            max_name = name2\n",
    "            max_score = score\n",
    "    return (max_name, max_score)"
   ]
  },
  {
   "cell_type": "code",
   "execution_count": null,
   "metadata": {},
   "outputs": [],
   "source": [
    "#NOTE, this is going to take like 5 minutes to run \n",
    "dict_list_big = []\n",
    "for name in df_tenants_clean.Match:\n",
    "    match = match_name(name, eden_residents_clean.Match, 50)\n",
    "    \n",
    "    dict_ = {}\n",
    "    dict_.update({\"player_name\" : name})\n",
    "    dict_.update({\"match_name\" : match[0]})\n",
    "    dict_.update({\"score\" : match[1]})\n",
    "    dict_list_big.append(dict_)\n",
    "    \n",
    "merge_table_big = pd.DataFrame(dict_list_big)"
   ]
  },
  {
   "cell_type": "code",
   "execution_count": 13,
   "metadata": {},
   "outputs": [],
   "source": [
    "#merge_table_big.to_csv(\"merge_table_big_Nov24.csv\")"
   ]
  },
  {
   "cell_type": "code",
   "execution_count": 14,
   "metadata": {},
   "outputs": [],
   "source": [
    "merge_table_big = pd.read_csv(\"merge_table_big_Nov24.csv\")"
   ]
  },
  {
   "cell_type": "code",
   "execution_count": 15,
   "metadata": {},
   "outputs": [
    {
     "data": {
      "text/plain": [
       "<matplotlib.axes._subplots.AxesSubplot at 0x122fdcba8>"
      ]
     },
     "execution_count": 15,
     "metadata": {},
     "output_type": "execute_result"
    },
    {
     "data": {
      "image/png": "[encoded data removed]",
      "text/plain": [
       "<Figure size 432x288 with 1 Axes>"
      ]
     },
     "metadata": {
      "needs_background": "light"
     },
     "output_type": "display_data"
    }
   ],
   "source": [
    "%matplotlib inline\n",
    "merge_table_big.score.hist()"
   ]
  },
  {
   "cell_type": "code",
   "execution_count": 16,
   "metadata": {},
   "outputs": [],
   "source": [
    "# lets take a look at borderline scores, those in the 80-90 range, want to \n",
    "#update values \n",
    "mod_match = merge_table_big[(merge_table_big[\"score\"]>80)&(merge_table_big[\"score\"]<90)]\n",
    "\n",
    "#merge_table_big.score.value_counts()"
   ]
  },
  {
   "cell_type": "code",
   "execution_count": null,
   "metadata": {},
   "outputs": [],
   "source": [
    "#set max rows as number of cols in this dataframe \n",
    "#look through the list and see that probably matches def drop off after 89 \n",
    "#pd.options.display.max_rows = 694\n",
    "\n",
    "mod_match.sort_values(\"score\",ascending=False).head()"
   ]
  },
  {
   "cell_type": "code",
   "execution_count": 18,
   "metadata": {},
   "outputs": [],
   "source": [
    "#make matches above threshold  we want to keep into a dictonary \n",
    "high_score_merge = merge_table_big[(merge_table_big[\"score\"]>=89)&(merge_table_big[\"score\"]<100)]\n",
    "merge_dict_eden = dict(zip(high_score_merge.player_name, high_score_merge.match_name))\n",
    "#Use dictionary to update values in Rent Roll Data to be ones that match tenant data \n",
    "df_tenants_clean['Match'] = df_tenants_clean['Match'].replace(merge_dict_eden)"
   ]
  },
  {
   "cell_type": "code",
   "execution_count": 19,
   "metadata": {},
   "outputs": [],
   "source": [
    "#take2 do it backwards\n",
    "high_score_merge = merge_table_big[(merge_table_big[\"score\"]>=89)&(merge_table_big[\"score\"]<100)]\n",
    "merge_dict_eden = dict(zip(high_score_merge.match_name,high_score_merge.player_name))\n",
    "#Use dictionary to update values in  to be ones that match tenant data \n",
    "eden_residents_clean['Match'] = eden_residents_clean['Match'].replace(merge_dict_eden)\n"
   ]
  },
  {
   "cell_type": "code",
   "execution_count": 20,
   "metadata": {},
   "outputs": [],
   "source": [
    "#merge data now using fuzzy matching \n",
    "eden_merged_fuzzy = df_tenants_clean.merge(eden_residents_clean,on=\"Match\",how=\"inner\")"
   ]
  },
  {
   "cell_type": "code",
   "execution_count": 21,
   "metadata": {},
   "outputs": [],
   "source": [
    "# drop and rename cols post merge \n",
    "eden_merged_fuzzy = eden_merged_fuzzy.drop(columns={'Property_y', 'Unit_y'})\n",
    "eden_merged_fuzzy = eden_merged_fuzzy.rename(columns={'Property_x':\"Property\", 'Unit_x':\"Unit\"})\n"
   ]
  },
  {
   "cell_type": "code",
   "execution_count": 22,
   "metadata": {},
   "outputs": [
    {
     "data": {
      "text/plain": [
       "4276"
      ]
     },
     "execution_count": 22,
     "metadata": {},
     "output_type": "execute_result"
    }
   ],
   "source": [
    "#now we have 4458 Matches \n",
    "eden_merged_fuzzy.Match.nunique()"
   ]
  },
  {
   "cell_type": "markdown",
   "metadata": {},
   "source": [
    "### Check to see if different properties have different match rates"
   ]
  },
  {
   "cell_type": "code",
   "execution_count": 23,
   "metadata": {},
   "outputs": [],
   "source": [
    "#use a left join to count the number of unmatched per property \n",
    "eden_merged_fuzzy_left = df_tenants_clean.merge(eden_residents_clean,on=\"Match\",how=\"left\")"
   ]
  },
  {
   "cell_type": "code",
   "execution_count": 24,
   "metadata": {},
   "outputs": [
    {
     "data": {
      "text/plain": [
       "<matplotlib.axes._subplots.AxesSubplot at 0x1185a7320>"
      ]
     },
     "execution_count": 24,
     "metadata": {},
     "output_type": "execute_result"
    },
    {
     "data": {
      "image/png": "[encoded data removed]",
      "text/plain": [
       "<Figure size 432x288 with 1 Axes>"
      ]
     },
     "metadata": {
      "needs_background": "light"
     },
     "output_type": "display_data"
    }
   ],
   "source": [
    "#Decent distribution of percentage of matched tenants per property \n",
    "eden_merged_fuzzy_left.groupby('Property_x').apply(lambda x: x.Property_y.notnull().mean()).hist()"
   ]
  },
  {
   "cell_type": "code",
   "execution_count": 25,
   "metadata": {},
   "outputs": [],
   "source": [
    "eden_merged_fuzzy_left = eden_merged_fuzzy_left.groupby('Property_x').apply(lambda x: x.Property_y.notnull().mean()).reset_index()\n"
   ]
  },
  {
   "cell_type": "code",
   "execution_count": 26,
   "metadata": {},
   "outputs": [
    {
     "data": {
      "text/html": [
       "<div>\n",
       "<style scoped>\n",
       "    .dataframe tbody tr th:only-of-type {\n",
       "        vertical-align: middle;\n",
       "    }\n",
       "\n",
       "    .dataframe tbody tr th {\n",
       "        vertical-align: top;\n",
       "    }\n",
       "\n",
       "    .dataframe thead th {\n",
       "        text-align: right;\n",
       "    }\n",
       "</style>\n",
       "<table border=\"1\" class=\"dataframe\">\n",
       "  <thead>\n",
       "    <tr style=\"text-align: right;\">\n",
       "      <th></th>\n",
       "      <th>Property</th>\n",
       "      <th>Percentage_Prop_in_Final</th>\n",
       "    </tr>\n",
       "  </thead>\n",
       "  <tbody>\n",
       "    <tr>\n",
       "      <th>0</th>\n",
       "      <td>801almafamilyapartments</td>\n",
       "      <td>1.0</td>\n",
       "    </tr>\n",
       "    <tr>\n",
       "      <th>86</th>\n",
       "      <td>rivertownplace</td>\n",
       "      <td>1.0</td>\n",
       "    </tr>\n",
       "    <tr>\n",
       "      <th>110</th>\n",
       "      <td>valorcrossing</td>\n",
       "      <td>1.0</td>\n",
       "    </tr>\n",
       "    <tr>\n",
       "      <th>99</th>\n",
       "      <td>studio819apartments</td>\n",
       "      <td>1.0</td>\n",
       "    </tr>\n",
       "    <tr>\n",
       "      <th>87</th>\n",
       "      <td>rockyhill</td>\n",
       "      <td>1.0</td>\n",
       "    </tr>\n",
       "    <tr>\n",
       "      <th>...</th>\n",
       "      <td>...</td>\n",
       "      <td>...</td>\n",
       "    </tr>\n",
       "    <tr>\n",
       "      <th>80</th>\n",
       "      <td>pajarocourt</td>\n",
       "      <td>0.0</td>\n",
       "    </tr>\n",
       "    <tr>\n",
       "      <th>79</th>\n",
       "      <td>pacificterrace</td>\n",
       "      <td>0.0</td>\n",
       "    </tr>\n",
       "    <tr>\n",
       "      <th>95</th>\n",
       "      <td>skeelsapartments</td>\n",
       "      <td>0.0</td>\n",
       "    </tr>\n",
       "    <tr>\n",
       "      <th>128</th>\n",
       "      <td>windscapeapartments</td>\n",
       "      <td>0.0</td>\n",
       "    </tr>\n",
       "    <tr>\n",
       "      <th>70</th>\n",
       "      <td>monterravillage</td>\n",
       "      <td>0.0</td>\n",
       "    </tr>\n",
       "  </tbody>\n",
       "</table>\n",
       "<p>131 rows × 2 columns</p>\n",
       "</div>"
      ],
      "text/plain": [
       "                    Property  Percentage_Prop_in_Final\n",
       "0    801almafamilyapartments                       1.0\n",
       "86            rivertownplace                       1.0\n",
       "110            valorcrossing                       1.0\n",
       "99       studio819apartments                       1.0\n",
       "87                 rockyhill                       1.0\n",
       "..                       ...                       ...\n",
       "80               pajarocourt                       0.0\n",
       "79            pacificterrace                       0.0\n",
       "95          skeelsapartments                       0.0\n",
       "128      windscapeapartments                       0.0\n",
       "70           monterravillage                       0.0\n",
       "\n",
       "[131 rows x 2 columns]"
      ]
     },
     "execution_count": 26,
     "metadata": {},
     "output_type": "execute_result"
    }
   ],
   "source": [
    "eden_merged_fuzzy_left  = eden_merged_fuzzy_left.rename(columns={\"Property_x\":\"Property\",0:\"Percentage_Prop_in_Final\"})\n",
    "eden_merged_fuzzy_left = eden_merged_fuzzy_left.sort_values(\"Percentage_Prop_in_Final\",ascending=False)\n",
    "eden_merged_fuzzy_left"
   ]
  },
  {
   "cell_type": "markdown",
   "metadata": {},
   "source": [
    "### Now I want to compare properties with a match rate below 30% to the rest of the properties to see if there is a difference "
   ]
  },
  {
   "cell_type": "code",
   "execution_count": 27,
   "metadata": {},
   "outputs": [
    {
     "data": {
      "text/plain": [
       "42"
      ]
     },
     "execution_count": 27,
     "metadata": {},
     "output_type": "execute_result"
    }
   ],
   "source": [
    "len(eden_merged_fuzzy_left[eden_merged_fuzzy_left[\"Percentage_Prop_in_Final\"] < .3].Property)"
   ]
  },
  {
   "cell_type": "code",
   "execution_count": 28,
   "metadata": {},
   "outputs": [
    {
     "data": {
      "text/plain": [
       "33"
      ]
     },
     "execution_count": 28,
     "metadata": {},
     "output_type": "execute_result"
    }
   ],
   "source": [
    "len(eden_merged_fuzzy_left[eden_merged_fuzzy_left[\"Percentage_Prop_in_Final\"] > .9].Property)"
   ]
  },
  {
   "cell_type": "code",
   "execution_count": 29,
   "metadata": {},
   "outputs": [],
   "source": [
    "#create list of properties that have below 30 percent of tenants matched \n",
    "bad_props = list(eden_merged_fuzzy_left[eden_merged_fuzzy_left[\"Percentage_Prop_in_Final\"] < .3].Property)\n",
    "def bad_prop(x):\n",
    "    if x in bad_props:\n",
    "        return 1\n",
    "    else:\n",
    "        return 0\n",
    "#label those properties in the eden residents data\n",
    "eden_residents_clean[\"Bad_Prop\"] = eden_residents_clean.Property.apply(lambda x: bad_prop(x))"
   ]
  },
  {
   "cell_type": "code",
   "execution_count": 30,
   "metadata": {},
   "outputs": [],
   "source": [
    "#to be able to better do comparison between the groups need dummies for categorical variables \n",
    "def dummy(df, colname):\n",
    "    \"\"\"\n",
    "    Takes a categorical variable and creates binary/dummy variables\n",
    "    Inputs:\n",
    "        df (dataframe)\n",
    "        colname (str) name of column to make dummys  \n",
    "    \"\"\"\n",
    "    dummies = pd.get_dummies(df[colname]).rename(columns=lambda x: colname + \"_\" + str(x))\n",
    "    df = pd.concat([df, dummies], axis=1)\n",
    "    df = df.drop([colname], axis=1)\n",
    "    return df"
   ]
  },
  {
   "cell_type": "code",
   "execution_count": 31,
   "metadata": {},
   "outputs": [],
   "source": [
    "#make dummies for race and SSI status\n",
    "eden_residents_clean = dummy(eden_residents_clean,\"race\")\n",
    "eden_residents_clean = dummy(eden_residents_clean,\"Receives_SSI\")\n",
    "eden_residents_clean = dummy(eden_residents_clean,\"program\")"
   ]
  },
  {
   "cell_type": "code",
   "execution_count": 49,
   "metadata": {},
   "outputs": [
    {
     "data": {
      "text/plain": [
       "array(['HoH'], dtype=object)"
      ]
     },
     "execution_count": 49,
     "metadata": {},
     "output_type": "execute_result"
    }
   ],
   "source": [
    "eden_residents_clean.Member_Relation.unique()"
   ]
  },
  {
   "cell_type": "code",
   "execution_count": 32,
   "metadata": {},
   "outputs": [
    {
     "data": {
      "text/html": [
       "<div>\n",
       "<style scoped>\n",
       "    .dataframe tbody tr th:only-of-type {\n",
       "        vertical-align: middle;\n",
       "    }\n",
       "\n",
       "    .dataframe tbody tr th {\n",
       "        vertical-align: top;\n",
       "    }\n",
       "\n",
       "    .dataframe thead th {\n",
       "        text-align: right;\n",
       "    }\n",
       "</style>\n",
       "<table border=\"1\" class=\"dataframe\">\n",
       "  <thead>\n",
       "    <tr style=\"text-align: right;\">\n",
       "      <th></th>\n",
       "      <th>Household_Size</th>\n",
       "      <th>movein_year</th>\n",
       "      <th>age</th>\n",
       "      <th>hh_income</th>\n",
       "      <th>race_Asian</th>\n",
       "      <th>race_Black</th>\n",
       "      <th>race_Latinx</th>\n",
       "      <th>race_Other</th>\n",
       "      <th>race_PI</th>\n",
       "      <th>race_White</th>\n",
       "      <th>Receives_SSI_Yes</th>\n",
       "      <th>program_HOME</th>\n",
       "      <th>program_RD</th>\n",
       "      <th>program_Section 8</th>\n",
       "      <th>program_Tax Credit</th>\n",
       "    </tr>\n",
       "    <tr>\n",
       "      <th>Bad_Prop</th>\n",
       "      <th></th>\n",
       "      <th></th>\n",
       "      <th></th>\n",
       "      <th></th>\n",
       "      <th></th>\n",
       "      <th></th>\n",
       "      <th></th>\n",
       "      <th></th>\n",
       "      <th></th>\n",
       "      <th></th>\n",
       "      <th></th>\n",
       "      <th></th>\n",
       "      <th></th>\n",
       "      <th></th>\n",
       "      <th></th>\n",
       "    </tr>\n",
       "  </thead>\n",
       "  <tbody>\n",
       "    <tr>\n",
       "      <th>0</th>\n",
       "      <td>2.3</td>\n",
       "      <td>2013.53</td>\n",
       "      <td>55.88</td>\n",
       "      <td>31821.43</td>\n",
       "      <td>0.2</td>\n",
       "      <td>0.22</td>\n",
       "      <td>0.29</td>\n",
       "      <td>0.04</td>\n",
       "      <td>0.01</td>\n",
       "      <td>0.2</td>\n",
       "      <td>0.24</td>\n",
       "      <td>0.0</td>\n",
       "      <td>0.0</td>\n",
       "      <td>0.21</td>\n",
       "      <td>0.79</td>\n",
       "    </tr>\n",
       "    <tr>\n",
       "      <th>1</th>\n",
       "      <td>2.91</td>\n",
       "      <td>2016.03</td>\n",
       "      <td>45.12</td>\n",
       "      <td>35527.76</td>\n",
       "      <td>0.09</td>\n",
       "      <td>0.1</td>\n",
       "      <td>0.6</td>\n",
       "      <td>0.05</td>\n",
       "      <td>0.0</td>\n",
       "      <td>0.1</td>\n",
       "      <td>0.17</td>\n",
       "      <td>0.0</td>\n",
       "      <td>0.06</td>\n",
       "      <td>0.26</td>\n",
       "      <td>0.68</td>\n",
       "    </tr>\n",
       "  </tbody>\n",
       "</table>\n",
       "</div>"
      ],
      "text/plain": [
       "          Household_Size  movein_year   age  hh_income  race_Asian  \\\n",
       "Bad_Prop                                                             \n",
       "0                    2.3      2013.53 55.88   31821.43         0.2   \n",
       "1                   2.91      2016.03 45.12   35527.76        0.09   \n",
       "\n",
       "          race_Black  race_Latinx  race_Other  race_PI  race_White  \\\n",
       "Bad_Prop                                                             \n",
       "0               0.22         0.29        0.04     0.01         0.2   \n",
       "1                0.1          0.6        0.05      0.0         0.1   \n",
       "\n",
       "          Receives_SSI_Yes  program_HOME  program_RD  program_Section 8  \\\n",
       "Bad_Prop                                                                  \n",
       "0                     0.24           0.0         0.0               0.21   \n",
       "1                     0.17           0.0        0.06               0.26   \n",
       "\n",
       "          program_Tax Credit  \n",
       "Bad_Prop                      \n",
       "0                       0.79  \n",
       "1                       0.68  "
      ]
     },
     "execution_count": 32,
     "metadata": {},
     "output_type": "execute_result"
    }
   ],
   "source": [
    "#difference between these groups \n",
    "eden_residents_clean.groupby(\"Bad_Prop\").mean().round(2).drop(columns={\"year\",\"Property_Code\",\"fips\",\"Receives_SSI_No\"})"
   ]
  },
  {
   "cell_type": "code",
   "execution_count": 33,
   "metadata": {},
   "outputs": [],
   "source": [
    "#get count by property pre merge for both datasets for \n",
    "df_tenants_clean_prop_count = df_tenants_clean.drop_duplicates(\"Match\")\\\n",
    "                            .groupby(\"Property\").count()\\\n",
    "                                .reset_index()[[\"Property\",\"City\"]]\\\n",
    "                            .rename(columns={\"City\":\"Tenant Count\"})\n",
    "\n",
    "eden_residents_clean_prop_count = eden_residents_clean.drop_duplicates(\"Match\")\\\n",
    "                                .groupby(\"Property\").count()\\\n",
    "                                .reset_index()[[\"Property\",\"Property_Code\"]]\\\n",
    "                                .rename(columns={\"Property_Code\":\"Rent Roll Count\"})"
   ]
  },
  {
   "cell_type": "code",
   "execution_count": 34,
   "metadata": {},
   "outputs": [
    {
     "name": "stderr",
     "output_type": "stream",
     "text": [
      "/Users/quinnunderriner/anaconda3/lib/python3.7/site-packages/ipykernel_launcher.py:5: SettingWithCopyWarning: \n",
      "A value is trying to be set on a copy of a slice from a DataFrame.\n",
      "Try using .loc[row_indexer,col_indexer] = value instead\n",
      "\n",
      "See the caveats in the documentation: https://pandas.pydata.org/pandas-docs/stable/user_guide/indexing.html#returning-a-view-versus-a-copy\n",
      "  \"\"\"\n"
     ]
    }
   ],
   "source": [
    "#merge on property\n",
    "prop_count_dif = df_tenants_clean_prop_count.merge(eden_residents_clean_prop_count,on=\"Property\")\n",
    "#drop so we can only see bad_properties \n",
    "prop_count_dif_bad_props = prop_count_dif[prop_count_dif.Property.isin(bad_props)]\n",
    "prop_count_dif_bad_props[\"Difference\"] = prop_count_dif_bad_props[\"Rent Roll Count\"] / prop_count_dif_bad_props[\"Tenant Count\"]"
   ]
  },
  {
   "cell_type": "code",
   "execution_count": 35,
   "metadata": {},
   "outputs": [
    {
     "name": "stderr",
     "output_type": "stream",
     "text": [
      "/Users/quinnunderriner/anaconda3/lib/python3.7/site-packages/ipykernel_launcher.py:4: SettingWithCopyWarning: \n",
      "A value is trying to be set on a copy of a slice from a DataFrame.\n",
      "Try using .loc[row_indexer,col_indexer] = value instead\n",
      "\n",
      "See the caveats in the documentation: https://pandas.pydata.org/pandas-docs/stable/user_guide/indexing.html#returning-a-view-versus-a-copy\n",
      "  after removing the cwd from sys.path.\n"
     ]
    },
    {
     "data": {
      "text/plain": [
       "1.0058391166106633"
      ]
     },
     "execution_count": 35,
     "metadata": {},
     "output_type": "execute_result"
    }
   ],
   "source": [
    "#these figures are able to > 100 because the rent roll data here has been whittled down from its origonal size \n",
    "# to only account for people we have full payment data for \n",
    "prop_count_dif_good_props = prop_count_dif[~prop_count_dif.Property.isin(bad_props)]\n",
    "prop_count_dif_good_props[\"Difference\"] = prop_count_dif_good_props[\"Rent Roll Count\"] / prop_count_dif_good_props[\"Tenant Count\"]\n",
    "prop_count_dif_good_props[\"Difference\"].mean()"
   ]
  },
  {
   "cell_type": "code",
   "execution_count": 36,
   "metadata": {},
   "outputs": [
    {
     "data": {
      "text/plain": [
       "0.20773599024234388"
      ]
     },
     "execution_count": 36,
     "metadata": {},
     "output_type": "execute_result"
    }
   ],
   "source": [
    "prop_count_dif_bad_props[\"Difference\"].mean()"
   ]
  },
  {
   "cell_type": "markdown",
   "metadata": {},
   "source": [
    "### Below here is scratch work to figure out differences in property names \n"
   ]
  },
  {
   "cell_type": "code",
   "execution_count": 37,
   "metadata": {},
   "outputs": [],
   "source": [
    "rent_roll_prop_set = set(df_tenants_clean.Property)\n",
    "eden_prop_set = set(eden_residents_clean.Property)\n",
    "# we are only missing \n",
    "set_difference = rent_roll_prop_set.difference(eden_prop_set)"
   ]
  },
  {
   "cell_type": "code",
   "execution_count": 38,
   "metadata": {},
   "outputs": [
    {
     "data": {
      "text/plain": [
       "{'depotcommons',\n",
       " 'grovewayapartments',\n",
       " 'monterravillage',\n",
       " 'pacificterrace',\n",
       " 'skeelsapartments',\n",
       " 'windscapeapartments'}"
      ]
     },
     "execution_count": 38,
     "metadata": {},
     "output_type": "execute_result"
    }
   ],
   "source": [
    "#names in rent roll that are not in tenants \n",
    "#NB: this is final list after renaming code at beginning of file has been run \n",
    "set_difference"
   ]
  },
  {
   "cell_type": "code",
   "execution_count": 40,
   "metadata": {},
   "outputs": [
    {
     "data": {
      "text/plain": [
       "128"
      ]
     },
     "execution_count": 40,
     "metadata": {},
     "output_type": "execute_result"
    }
   ],
   "source": [
    "#the missing properties account for 128 missing records \n",
    "len(df_tenants_clean[df_tenants_clean.Property.isin(set_difference)])"
   ]
  }
 ],
 "metadata": {
  "kernelspec": {
   "display_name": "Python 3",
   "language": "python",
   "name": "python3"
  },
  "language_info": {
   "codemirror_mode": {
    "name": "ipython",
    "version": 3
   },
   "file_extension": ".py",
   "mimetype": "text/x-python",
   "name": "python",
   "nbconvert_exporter": "python",
   "pygments_lexer": "ipython3",
   "version": "3.7.2"
  }
 },
 "nbformat": 4,
 "nbformat_minor": 2
}
