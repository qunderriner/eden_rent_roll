{
 "cells": [
  {
   "cell_type": "code",
   "execution_count": 1,
   "metadata": {},
   "outputs": [],
   "source": [
    "import pandas as pd\n",
    "import numpy as np\n",
    "import os\n",
    "import xlrd\n",
    "from functools import reduce\n",
    "from itertools import groupby\n",
    "from matplotlib import pyplot as plt\n",
    "plt.show()\n",
    "import seaborn as sns; sns.set()\n",
    "import altair as alt\n",
    "alt.data_transformers.disable_max_rows()\n",
    "import warnings\n",
    "warnings.filterwarnings('ignore')\n"
   ]
  },
  {
   "cell_type": "markdown",
   "metadata": {},
   "source": [
    "To read in these massive excel files first want to extract names of sheets"
   ]
  },
  {
   "cell_type": "code",
   "execution_count": 2,
   "metadata": {},
   "outputs": [],
   "source": [
    "file1 = \"/Users/quinnunderriner/Desktop/Work/eden_rent_roll/TenantLeasePayments_Trending_(Active)_May_2020_Sept_2020.xlsx\"\n",
    "file2 = \"/Users/quinnunderriner/Desktop/Work/eden_rent_roll/Tenant_Lease_Payments_May 2019_Sept_2019.xlsx\""
   ]
  },
  {
   "cell_type": "code",
   "execution_count": 3,
   "metadata": {},
   "outputs": [],
   "source": [
    "xls = xlrd.open_workbook(file1, on_demand=True)\n",
    "may2020_sept2020 = xls.sheet_names()\n",
    "may2020_sept2020 = [x for x in may2020_sept2020 if not x.endswith('Summary')] #we want to drop summary tabs "
   ]
  },
  {
   "cell_type": "code",
   "execution_count": 4,
   "metadata": {},
   "outputs": [],
   "source": [
    "# need to drop data from earlier in months where we have double data \n",
    "may2020_sept2020 = [x for x in may2020_sept2020 if not \"15\" in x]\n",
    "may2020_sept2020 = [x for x in may2020_sept2020 if not \"10\" in x]\n"
   ]
  },
  {
   "cell_type": "code",
   "execution_count": 5,
   "metadata": {},
   "outputs": [],
   "source": [
    "xls2 = xlrd.open_workbook(file2, on_demand=True)\n",
    "may19_sept19 = xls2.sheet_names()"
   ]
  },
  {
   "cell_type": "code",
   "execution_count": 6,
   "metadata": {},
   "outputs": [],
   "source": [
    "def read_in(file,sheet):\n",
    "    \"\"\"\n",
    "    inputs:\n",
    "        file (str): filepath of excel file\n",
    "        sheet (str): name of sheet in excel sheet\n",
    "    returns:\n",
    "        df (dataframe)\n",
    "    Read in data from a given excel sheet, do some cleaning and then \n",
    "    make new column names that adds the date for financial transaction \n",
    "    and drops the rest of the data. \n",
    "    \"\"\"\n",
    "    df = pd.read_excel(file,sheet_name =sheet)\n",
    "    new_header = df.iloc[4] #grab the forth row for the header\n",
    "    df = df[5:] #take the data less the blank rows\n",
    "    df.columns = new_header\n",
    "    df = df[:-2]#drop bottom two rows, which contain summary info\n",
    "    df = df.reset_index().drop(columns=[\"index\"])\n",
    "    df = df[['Tenant Lease Charge','Is Subsidized?', 'Fixed Income?', 'Tenant Rent Collected',\n",
    "             'Percent Collected',\"Period\",\"Tenant\"]]\n",
    "    df = df.rename(columns={\"Tenant Lease Charge\":\"Tenant Lease Charge\"+\" \"+df[\"Period\"][5],\n",
    "                   \"Tenant Rent Collected\":\"Tenant Rent Charge\"+\" \"+df[\"Period\"][5],\n",
    "                  \"Percent Collected\":\"Tenant Percent Collected\"+\" \"+df[\"Period\"][5],\n",
    "                   'Is Subsidized?':\"Is Subsidized?\"+\" \"+df[\"Period\"][5], \n",
    "                    'Fixed Income?':\"Fixed Income?\"+\" \"+df[\"Period\"][5]}) \n",
    "    df = df.drop(columns={\"Period\"})\n",
    "    return df"
   ]
  },
  {
   "cell_type": "code",
   "execution_count": 7,
   "metadata": {},
   "outputs": [],
   "source": [
    "def read_in_check_status(file,sheet):\n",
    "    \"\"\"\n",
    "    inputs:\n",
    "        file (str): filepath of excel file\n",
    "        sheet (str): name of sheet in excel sheet\n",
    "    returns:\n",
    "        df (dataframe)\n",
    "    Read in data from a given excel sheet, do some cleaning \n",
    "    \"\"\"\n",
    "    df = pd.read_excel(file,sheet_name =sheet)\n",
    "    new_header = df.iloc[4] #grab the forth row for the header\n",
    "    df = df[5:] #take the data less the blank rows\n",
    "    df.columns = new_header\n",
    "    df = df[:-2]#drop bottom two rows, which contain summary info\n",
    "    df = df.reset_index().drop(columns=[\"index\"])\n",
    "    df = df.rename(columns={\"Tenant Lease Charge\":\"Tenant Lease Charge\"+\" \"+df[\"Period\"][5],\n",
    "                   \"Tenant Rent Collected\":\"Tenant Rent Charge\"+\" \"+df[\"Period\"][5],\n",
    "                  \"Percent Collected\":\"Tenant Percent Collected\"+\" \"+df[\"Period\"][5]})\n",
    "\n",
    "    #df = df.drop(columns={\"Period\"})\n",
    "    return df"
   ]
  },
  {
   "cell_type": "code",
   "execution_count": 8,
   "metadata": {},
   "outputs": [],
   "source": [
    "def make_header(df):\n",
    "    \"\"\"\n",
    "    inputs:\n",
    "        df (dataframe)\n",
    "    returns:\n",
    "        df (dataframe)\n",
    "    do some basic cleanup of the header row \n",
    "    \"\"\"\n",
    "    new_header = df.iloc[4] #grab the forth row for the header\n",
    "    df = df[5:] #take the data less the blank rows\n",
    "    df.columns = new_header\n",
    "    return df"
   ]
  },
  {
   "cell_type": "code",
   "execution_count": 9,
   "metadata": {},
   "outputs": [],
   "source": [
    "#read in the correct sheets from all files calling read_in function \n",
    "df = read_in_check_status(file2,may19_sept19[0])\n",
    "\n",
    "df_list = [df, read_in(file2,may19_sept19[1]),\n",
    "           read_in(file2,may19_sept19[2]),\n",
    "           read_in(file2,may19_sept19[3]),\n",
    "           read_in(file2,may19_sept19[4]),\n",
    "           read_in(file1,may2020_sept2020[0]),\n",
    "           read_in(file1,may2020_sept2020[1]),\n",
    "           read_in(file1,may2020_sept2020[2]),\n",
    "           read_in(file1,may2020_sept2020[3]),\n",
    "           read_in(file1,may2020_sept2020[4])]"
   ]
  },
  {
   "cell_type": "code",
   "execution_count": 10,
   "metadata": {},
   "outputs": [],
   "source": [
    "#This lambda function then merges all the dataframes from df_list together \n",
    "df_final = reduce(lambda left,right: pd.merge(left,right,on='Tenant'), df_list)\n",
    "\n",
    "df_final = df_final.drop(columns=[\"Name\",\"Period\"]) #drop cols"
   ]
  },
  {
   "cell_type": "code",
   "execution_count": 11,
   "metadata": {},
   "outputs": [],
   "source": [
    "#write out initial data to csv\n",
    "df_final.to_csv(\"Inital_eden_rent_roll_data_19-20_v2.csv\")"
   ]
  },
  {
   "cell_type": "code",
   "execution_count": 12,
   "metadata": {},
   "outputs": [],
   "source": [
    "#UPDATED SECTION TO REMOVE PROPERTIES ONLY ACTIVE IN 2020 \n",
    "all_hands_on_the_bad_ones = ['Stone Pine Meadows','Quail Run Apartments','Lincoln Corner Apartments',\n",
    "'Vacaville Meadows Drive','Orchard/Maples Apartments','Willows Apartments',\n",
    "'Highlands Apartments', 'Hillside Senior Apartments']\n",
    "df_final = df_final[~df_final[\"Property Name\"].isin(all_hands_on_the_bad_ones)]"
   ]
  },
  {
   "cell_type": "markdown",
   "metadata": {},
   "source": [
    "Q: “Have rent collections changed in 2020 compared to last year (e.g., collective rent roll shortfalls, number of tenants with underpayment or no payment in each month)?”\n",
    " \n"
   ]
  },
  {
   "cell_type": "markdown",
   "metadata": {},
   "source": [
    "Need to melt dataset so each row is amount of rent collected in a given month to be able to do groupbys"
   ]
  },
  {
   "cell_type": "code",
   "execution_count": 13,
   "metadata": {},
   "outputs": [],
   "source": [
    "#grab initial fixed columns for first month in dataset \n",
    "fixed_cols = ['Property', 'Property Name', 'City', 'County', 'Unit', 'Tenant',\n",
    "       'Is Subsidized?', 'Fixed Income?']"
   ]
  },
  {
   "cell_type": "code",
   "execution_count": 14,
   "metadata": {},
   "outputs": [],
   "source": [
    "# additionally grab just monthly percentage payment columns \n",
    "percent_collected = [num for num in df_final.columns if (\"Percent\") in num]"
   ]
  },
  {
   "cell_type": "code",
   "execution_count": 15,
   "metadata": {},
   "outputs": [],
   "source": [
    "#merge these two lists in the total list of columns we want so we can melt dataset \n",
    "# for this initial analysis assuming that fixed income status and stuff do not change\n",
    "collect = fixed_cols + percent_collected\n",
    "df_rent_collected = df_final[collect]"
   ]
  },
  {
   "cell_type": "code",
   "execution_count": 16,
   "metadata": {},
   "outputs": [],
   "source": [
    "#create a melted dataset so that each row is a payment \n",
    "monthly_percent_collected = pd.melt(df_rent_collected, id_vars=fixed_cols,var_name='Percent Collected')"
   ]
  },
  {
   "cell_type": "code",
   "execution_count": 17,
   "metadata": {},
   "outputs": [
    {
     "data": {
      "text/plain": [
       "83220"
      ]
     },
     "execution_count": 17,
     "metadata": {},
     "output_type": "execute_result"
    }
   ],
   "source": [
    "# there are 83,220 payments in this dataset \n",
    "len(monthly_percent_collected)"
   ]
  },
  {
   "cell_type": "code",
   "execution_count": 18,
   "metadata": {},
   "outputs": [],
   "source": [
    "# to group by year, need a year col \n",
    "monthly_percent_collected[\"year\"] = monthly_percent_collected[\"Percent Collected\"].str[-2:]"
   ]
  },
  {
   "cell_type": "code",
   "execution_count": 19,
   "metadata": {},
   "outputs": [
    {
     "data": {
      "text/plain": [
       "Tenant Percent Collected 05/01/19 - 05/31/19    8322\n",
       "Tenant Percent Collected 08/01/19 - 08/31/19    8322\n",
       "Tenant Percent Collected 08/01/20 - 08/31/20    8322\n",
       "Tenant Percent Collected 06/01/19 - 06/30/19    8322\n",
       "Tenant Percent Collected 05/01/20 - 05/31/20    8322\n",
       "Tenant Percent Collected 07/01/20 - 07/31/20    8322\n",
       "Tenant Percent Collected 09/01/19 - 09/30/19    8322\n",
       "Tenant Percent Collected 06/01/20 - 06/30/20    8322\n",
       "Tenant Percent Collected 07/01/19 - 07/31/19    8322\n",
       "Tenant Percent Collected 09/01/20 - 09/30/20    8322\n",
       "Name: Percent Collected, dtype: int64"
      ]
     },
     "execution_count": 19,
     "metadata": {},
     "output_type": "execute_result"
    }
   ],
   "source": [
    "monthly_percent_collected[\"Percent Collected\"].value_counts()"
   ]
  },
  {
   "cell_type": "code",
   "execution_count": 20,
   "metadata": {},
   "outputs": [
    {
     "data": {
      "text/plain": [
       "14022"
      ]
     },
     "execution_count": 20,
     "metadata": {},
     "output_type": "execute_result"
    }
   ],
   "source": [
    "len(monthly_percent_collected[monthly_percent_collected.value > 100])"
   ]
  },
  {
   "cell_type": "code",
   "execution_count": 21,
   "metadata": {},
   "outputs": [
    {
     "data": {
      "text/plain": [
       "0.1684931506849315"
      ]
     },
     "execution_count": 21,
     "metadata": {},
     "output_type": "execute_result"
    }
   ],
   "source": [
    "#16 percent of all payments exceed total, implying paying back rent. \n",
    "len(monthly_percent_collected[monthly_percent_collected.value > 100])/ len(monthly_percent_collected)"
   ]
  },
  {
   "cell_type": "code",
   "execution_count": null,
   "metadata": {},
   "outputs": [],
   "source": [
    "#negative rent total \n",
    "len(monthly_percent_collected[monthly_percent_collected.value < 0])"
   ]
  },
  {
   "cell_type": "code",
   "execution_count": 23,
   "metadata": {},
   "outputs": [
    {
     "data": {
      "text/plain": [
       "0.0007570295602018746"
      ]
     },
     "execution_count": 23,
     "metadata": {},
     "output_type": "execute_result"
    }
   ],
   "source": [
    "(len(monthly_percent_collected[monthly_percent_collected.value < 0])/len(monthly_percent_collected))"
   ]
  },
  {
   "cell_type": "code",
   "execution_count": 24,
   "metadata": {},
   "outputs": [],
   "source": [
    "#I'm going to drop these negative values as I believe them to be errors. \n",
    "monthly_percent_collected = monthly_percent_collected[monthly_percent_collected.value >= 0]"
   ]
  },
  {
   "cell_type": "code",
   "execution_count": 25,
   "metadata": {},
   "outputs": [
    {
     "data": {
      "text/html": [
       "<div>\n",
       "<style scoped>\n",
       "    .dataframe tbody tr th:only-of-type {\n",
       "        vertical-align: middle;\n",
       "    }\n",
       "\n",
       "    .dataframe tbody tr th {\n",
       "        vertical-align: top;\n",
       "    }\n",
       "\n",
       "    .dataframe thead tr th {\n",
       "        text-align: left;\n",
       "    }\n",
       "\n",
       "    .dataframe thead tr:last-of-type th {\n",
       "        text-align: right;\n",
       "    }\n",
       "</style>\n",
       "<table border=\"1\" class=\"dataframe\">\n",
       "  <thead>\n",
       "    <tr>\n",
       "      <th></th>\n",
       "      <th colspan=\"8\" halign=\"left\">value</th>\n",
       "    </tr>\n",
       "    <tr>\n",
       "      <th></th>\n",
       "      <th>count</th>\n",
       "      <th>mean</th>\n",
       "      <th>std</th>\n",
       "      <th>min</th>\n",
       "      <th>25%</th>\n",
       "      <th>50%</th>\n",
       "      <th>75%</th>\n",
       "      <th>max</th>\n",
       "    </tr>\n",
       "    <tr>\n",
       "      <th>year</th>\n",
       "      <th></th>\n",
       "      <th></th>\n",
       "      <th></th>\n",
       "      <th></th>\n",
       "      <th></th>\n",
       "      <th></th>\n",
       "      <th></th>\n",
       "      <th></th>\n",
       "    </tr>\n",
       "  </thead>\n",
       "  <tbody>\n",
       "    <tr>\n",
       "      <th>19</th>\n",
       "      <td>34137.0</td>\n",
       "      <td>87.02</td>\n",
       "      <td>33.01</td>\n",
       "      <td>0.0</td>\n",
       "      <td>100.0</td>\n",
       "      <td>100.0</td>\n",
       "      <td>100.0</td>\n",
       "      <td>100.0</td>\n",
       "    </tr>\n",
       "    <tr>\n",
       "      <th>20</th>\n",
       "      <td>34998.0</td>\n",
       "      <td>91.26</td>\n",
       "      <td>26.87</td>\n",
       "      <td>0.0</td>\n",
       "      <td>100.0</td>\n",
       "      <td>100.0</td>\n",
       "      <td>100.0</td>\n",
       "      <td>100.0</td>\n",
       "    </tr>\n",
       "  </tbody>\n",
       "</table>\n",
       "</div>"
      ],
      "text/plain": [
       "        value                                               \n",
       "        count   mean    std  min    25%    50%    75%    max\n",
       "year                                                        \n",
       "19    34137.0  87.02  33.01  0.0  100.0  100.0  100.0  100.0\n",
       "20    34998.0  91.26  26.87  0.0  100.0  100.0  100.0  100.0"
      ]
     },
     "execution_count": 25,
     "metadata": {},
     "output_type": "execute_result"
    }
   ],
   "source": [
    "monthly_percent_collected.value = monthly_percent_collected.value.astype(float) #make value type that works with groupby \n",
    "monthly_percent_collected[monthly_percent_collected.value <=100][[\"year\",\"value\"]].groupby(\"year\").describe().round(2)"
   ]
  },
  {
   "cell_type": "code",
   "execution_count": 26,
   "metadata": {},
   "outputs": [],
   "source": [
    "#count the number of non payments per year \n",
    "monthly_percent_collected_zeros = monthly_percent_collected[[\"year\",\"value\"]].groupby('year').agg(lambda x: x.eq(0).sum())\n",
    "\n"
   ]
  },
  {
   "cell_type": "code",
   "execution_count": 90,
   "metadata": {},
   "outputs": [
    {
     "data": {
      "text/html": [
       "<div>\n",
       "<style scoped>\n",
       "    .dataframe tbody tr th:only-of-type {\n",
       "        vertical-align: middle;\n",
       "    }\n",
       "\n",
       "    .dataframe tbody tr th {\n",
       "        vertical-align: top;\n",
       "    }\n",
       "\n",
       "    .dataframe thead th {\n",
       "        text-align: right;\n",
       "    }\n",
       "</style>\n",
       "<table border=\"1\" class=\"dataframe\">\n",
       "  <thead>\n",
       "    <tr style=\"text-align: right;\">\n",
       "      <th></th>\n",
       "      <th>value</th>\n",
       "    </tr>\n",
       "    <tr>\n",
       "      <th>year</th>\n",
       "      <th></th>\n",
       "    </tr>\n",
       "  </thead>\n",
       "  <tbody>\n",
       "    <tr>\n",
       "      <th>19</th>\n",
       "      <td>4188.0</td>\n",
       "    </tr>\n",
       "    <tr>\n",
       "      <th>20</th>\n",
       "      <td>2532.0</td>\n",
       "    </tr>\n",
       "  </tbody>\n",
       "</table>\n",
       "</div>"
      ],
      "text/plain": [
       "       value\n",
       "year        \n",
       "19    4188.0\n",
       "20    2532.0"
      ]
     },
     "execution_count": 90,
     "metadata": {},
     "output_type": "execute_result"
    }
   ],
   "source": [
    "monthly_percent_collected_zeros"
   ]
  },
  {
   "cell_type": "markdown",
   "metadata": {},
   "source": [
    "Q: “For tenants who are short or don't pay rent...is that typically a one-off thing or are they likely to be in arrears multiple months. How far short do they tend to be? Has that shifted in 2020?”"
   ]
  },
  {
   "cell_type": "code",
   "execution_count": 29,
   "metadata": {},
   "outputs": [],
   "source": [
    "#create a datetime column to make altair happy \n",
    "monthly_percent_collected_chart = monthly_percent_collected\n",
    "monthly_percent_collected_chart[\"Percent Collected\"] = monthly_percent_collected_chart[\"Percent Collected\"].str[-8:]\n",
    "monthly_percent_collected_chart[\"Percent Collected\"] = pd.to_datetime(monthly_percent_collected_chart[\"Percent Collected\"])"
   ]
  },
  {
   "cell_type": "code",
   "execution_count": 30,
   "metadata": {},
   "outputs": [],
   "source": [
    "monthly_percent_collected_chart = monthly_percent_collected_chart[[\"value\",\"Percent Collected\"]].groupby(\"Percent Collected\").mean().reset_index()"
   ]
  },
  {
   "cell_type": "code",
   "execution_count": 31,
   "metadata": {},
   "outputs": [
    {
     "data": {
      "text/plain": [
       "1905"
      ]
     },
     "execution_count": 31,
     "metadata": {},
     "output_type": "execute_result"
    }
   ],
   "source": [
    "#melt, group by person, do a value counts \n",
    "people_with_nonpayment = df_rent_collected.loc[~(df_rent_collected != 0).all(axis=1), :]\n",
    "len(people_with_nonpayment)"
   ]
  },
  {
   "cell_type": "markdown",
   "metadata": {},
   "source": [
    "There are 1905 people who have at least one nonpayment.\n"
   ]
  },
  {
   "cell_type": "code",
   "execution_count": 32,
   "metadata": {},
   "outputs": [],
   "source": [
    "people_with_nonpayment_data_only = people_with_nonpayment[percent_collected]"
   ]
  },
  {
   "cell_type": "code",
   "execution_count": 34,
   "metadata": {},
   "outputs": [
    {
     "data": {
      "text/html": [
       "<div>\n",
       "<style scoped>\n",
       "    .dataframe tbody tr th:only-of-type {\n",
       "        vertical-align: middle;\n",
       "    }\n",
       "\n",
       "    .dataframe tbody tr th {\n",
       "        vertical-align: top;\n",
       "    }\n",
       "\n",
       "    .dataframe thead th {\n",
       "        text-align: right;\n",
       "    }\n",
       "</style>\n",
       "<table border=\"1\" class=\"dataframe\">\n",
       "  <thead>\n",
       "    <tr style=\"text-align: right;\">\n",
       "      <th>4</th>\n",
       "      <th>Tenant Percent Collected 05/01/19 - 05/31/19</th>\n",
       "      <th>Tenant Percent Collected 06/01/19 - 06/30/19</th>\n",
       "      <th>Tenant Percent Collected 07/01/19 - 07/31/19</th>\n",
       "      <th>Tenant Percent Collected 08/01/19 - 08/31/19</th>\n",
       "      <th>Tenant Percent Collected 09/01/19 - 09/30/19</th>\n",
       "      <th>Tenant Percent Collected 05/01/20 - 05/31/20</th>\n",
       "      <th>Tenant Percent Collected 06/01/20 - 06/30/20</th>\n",
       "      <th>Tenant Percent Collected 07/01/20 - 07/31/20</th>\n",
       "      <th>Tenant Percent Collected 08/01/20 - 08/31/20</th>\n",
       "      <th>Tenant Percent Collected 09/01/20 - 09/30/20</th>\n",
       "    </tr>\n",
       "  </thead>\n",
       "  <tbody>\n",
       "    <tr>\n",
       "      <th>2</th>\n",
       "      <td>0</td>\n",
       "      <td>0</td>\n",
       "      <td>0</td>\n",
       "      <td>0</td>\n",
       "      <td>0</td>\n",
       "      <td>100</td>\n",
       "      <td>100</td>\n",
       "      <td>100</td>\n",
       "      <td>100</td>\n",
       "      <td>100</td>\n",
       "    </tr>\n",
       "    <tr>\n",
       "      <th>5</th>\n",
       "      <td>0</td>\n",
       "      <td>0</td>\n",
       "      <td>0</td>\n",
       "      <td>0</td>\n",
       "      <td>0</td>\n",
       "      <td>0</td>\n",
       "      <td>0</td>\n",
       "      <td>0</td>\n",
       "      <td>0</td>\n",
       "      <td>0</td>\n",
       "    </tr>\n",
       "    <tr>\n",
       "      <th>7</th>\n",
       "      <td>0</td>\n",
       "      <td>0</td>\n",
       "      <td>0</td>\n",
       "      <td>0</td>\n",
       "      <td>0</td>\n",
       "      <td>100</td>\n",
       "      <td>100</td>\n",
       "      <td>100</td>\n",
       "      <td>100</td>\n",
       "      <td>100</td>\n",
       "    </tr>\n",
       "    <tr>\n",
       "      <th>44</th>\n",
       "      <td>0</td>\n",
       "      <td>0</td>\n",
       "      <td>0</td>\n",
       "      <td>0</td>\n",
       "      <td>0</td>\n",
       "      <td>100</td>\n",
       "      <td>100</td>\n",
       "      <td>100</td>\n",
       "      <td>100</td>\n",
       "      <td>100</td>\n",
       "    </tr>\n",
       "    <tr>\n",
       "      <th>46</th>\n",
       "      <td>0</td>\n",
       "      <td>0</td>\n",
       "      <td>307.89</td>\n",
       "      <td>100</td>\n",
       "      <td>100</td>\n",
       "      <td>100</td>\n",
       "      <td>100</td>\n",
       "      <td>100</td>\n",
       "      <td>100</td>\n",
       "      <td>100</td>\n",
       "    </tr>\n",
       "  </tbody>\n",
       "</table>\n",
       "</div>"
      ],
      "text/plain": [
       "4  Tenant Percent Collected 05/01/19 - 05/31/19  \\\n",
       "2                                             0   \n",
       "5                                             0   \n",
       "7                                             0   \n",
       "44                                            0   \n",
       "46                                            0   \n",
       "\n",
       "4  Tenant Percent Collected 06/01/19 - 06/30/19  \\\n",
       "2                                             0   \n",
       "5                                             0   \n",
       "7                                             0   \n",
       "44                                            0   \n",
       "46                                            0   \n",
       "\n",
       "4  Tenant Percent Collected 07/01/19 - 07/31/19  \\\n",
       "2                                             0   \n",
       "5                                             0   \n",
       "7                                             0   \n",
       "44                                            0   \n",
       "46                                       307.89   \n",
       "\n",
       "4  Tenant Percent Collected 08/01/19 - 08/31/19  \\\n",
       "2                                             0   \n",
       "5                                             0   \n",
       "7                                             0   \n",
       "44                                            0   \n",
       "46                                          100   \n",
       "\n",
       "4  Tenant Percent Collected 09/01/19 - 09/30/19  \\\n",
       "2                                             0   \n",
       "5                                             0   \n",
       "7                                             0   \n",
       "44                                            0   \n",
       "46                                          100   \n",
       "\n",
       "4  Tenant Percent Collected 05/01/20 - 05/31/20  \\\n",
       "2                                           100   \n",
       "5                                             0   \n",
       "7                                           100   \n",
       "44                                          100   \n",
       "46                                          100   \n",
       "\n",
       "4  Tenant Percent Collected 06/01/20 - 06/30/20  \\\n",
       "2                                           100   \n",
       "5                                             0   \n",
       "7                                           100   \n",
       "44                                          100   \n",
       "46                                          100   \n",
       "\n",
       "4  Tenant Percent Collected 07/01/20 - 07/31/20  \\\n",
       "2                                           100   \n",
       "5                                             0   \n",
       "7                                           100   \n",
       "44                                          100   \n",
       "46                                          100   \n",
       "\n",
       "4  Tenant Percent Collected 08/01/20 - 08/31/20  \\\n",
       "2                                           100   \n",
       "5                                             0   \n",
       "7                                           100   \n",
       "44                                          100   \n",
       "46                                          100   \n",
       "\n",
       "4  Tenant Percent Collected 09/01/20 - 09/30/20  \n",
       "2                                           100  \n",
       "5                                             0  \n",
       "7                                           100  \n",
       "44                                          100  \n",
       "46                                          100  "
      ]
     },
     "execution_count": 34,
     "metadata": {},
     "output_type": "execute_result"
    }
   ],
   "source": [
    "people_with_nonpayment_data_only.head()"
   ]
  },
  {
   "cell_type": "code",
   "execution_count": 33,
   "metadata": {},
   "outputs": [
    {
     "ename": "KeyError",
     "evalue": "\"['conseq_0'] not found in axis\"",
     "output_type": "error",
     "traceback": [
      "\u001b[0;31m---------------------------------------------------------------------------\u001b[0m",
      "\u001b[0;31mKeyError\u001b[0m                                  Traceback (most recent call last)",
      "\u001b[0;32m<ipython-input-33-1311f9087898>\u001b[0m in \u001b[0;36m<module>\u001b[0;34m()\u001b[0m\n\u001b[0;32m----> 1\u001b[0;31m \u001b[0mpeople_with_nonpayment_data_only\u001b[0m \u001b[0;34m=\u001b[0m \u001b[0mpeople_with_nonpayment_data_only\u001b[0m\u001b[0;34m.\u001b[0m\u001b[0mdrop\u001b[0m\u001b[0;34m(\u001b[0m\u001b[0mcolumns\u001b[0m\u001b[0;34m=\u001b[0m\u001b[0;34m\"conseq_0\"\u001b[0m\u001b[0;34m)\u001b[0m\u001b[0;34m\u001b[0m\u001b[0;34m\u001b[0m\u001b[0m\n\u001b[0m\u001b[1;32m      2\u001b[0m \u001b[0mpeople_with_nonpayment_data_only\u001b[0m \u001b[0;34m=\u001b[0m \u001b[0mpeople_with_nonpayment\u001b[0m\u001b[0;34m[\u001b[0m\u001b[0mpercent_collected\u001b[0m\u001b[0;34m]\u001b[0m\u001b[0;34m\u001b[0m\u001b[0;34m\u001b[0m\u001b[0m\n",
      "\u001b[0;32m/Users/quinnunderriner/anaconda3/lib/python3.7/site-packages/pandas/core/frame.py\u001b[0m in \u001b[0;36mdrop\u001b[0;34m(self, labels, axis, index, columns, level, inplace, errors)\u001b[0m\n\u001b[1;32m   4167\u001b[0m             \u001b[0mlevel\u001b[0m\u001b[0;34m=\u001b[0m\u001b[0mlevel\u001b[0m\u001b[0;34m,\u001b[0m\u001b[0;34m\u001b[0m\u001b[0;34m\u001b[0m\u001b[0m\n\u001b[1;32m   4168\u001b[0m             \u001b[0minplace\u001b[0m\u001b[0;34m=\u001b[0m\u001b[0minplace\u001b[0m\u001b[0;34m,\u001b[0m\u001b[0;34m\u001b[0m\u001b[0;34m\u001b[0m\u001b[0m\n\u001b[0;32m-> 4169\u001b[0;31m             \u001b[0merrors\u001b[0m\u001b[0;34m=\u001b[0m\u001b[0merrors\u001b[0m\u001b[0;34m,\u001b[0m\u001b[0;34m\u001b[0m\u001b[0;34m\u001b[0m\u001b[0m\n\u001b[0m\u001b[1;32m   4170\u001b[0m         )\n\u001b[1;32m   4171\u001b[0m \u001b[0;34m\u001b[0m\u001b[0m\n",
      "\u001b[0;32m/Users/quinnunderriner/anaconda3/lib/python3.7/site-packages/pandas/core/generic.py\u001b[0m in \u001b[0;36mdrop\u001b[0;34m(self, labels, axis, index, columns, level, inplace, errors)\u001b[0m\n\u001b[1;32m   3882\u001b[0m         \u001b[0;32mfor\u001b[0m \u001b[0maxis\u001b[0m\u001b[0;34m,\u001b[0m \u001b[0mlabels\u001b[0m \u001b[0;32min\u001b[0m \u001b[0maxes\u001b[0m\u001b[0;34m.\u001b[0m\u001b[0mitems\u001b[0m\u001b[0;34m(\u001b[0m\u001b[0;34m)\u001b[0m\u001b[0;34m:\u001b[0m\u001b[0;34m\u001b[0m\u001b[0;34m\u001b[0m\u001b[0m\n\u001b[1;32m   3883\u001b[0m             \u001b[0;32mif\u001b[0m \u001b[0mlabels\u001b[0m \u001b[0;32mis\u001b[0m \u001b[0;32mnot\u001b[0m \u001b[0;32mNone\u001b[0m\u001b[0;34m:\u001b[0m\u001b[0;34m\u001b[0m\u001b[0;34m\u001b[0m\u001b[0m\n\u001b[0;32m-> 3884\u001b[0;31m                 \u001b[0mobj\u001b[0m \u001b[0;34m=\u001b[0m \u001b[0mobj\u001b[0m\u001b[0;34m.\u001b[0m\u001b[0m_drop_axis\u001b[0m\u001b[0;34m(\u001b[0m\u001b[0mlabels\u001b[0m\u001b[0;34m,\u001b[0m \u001b[0maxis\u001b[0m\u001b[0;34m,\u001b[0m \u001b[0mlevel\u001b[0m\u001b[0;34m=\u001b[0m\u001b[0mlevel\u001b[0m\u001b[0;34m,\u001b[0m \u001b[0merrors\u001b[0m\u001b[0;34m=\u001b[0m\u001b[0merrors\u001b[0m\u001b[0;34m)\u001b[0m\u001b[0;34m\u001b[0m\u001b[0;34m\u001b[0m\u001b[0m\n\u001b[0m\u001b[1;32m   3885\u001b[0m \u001b[0;34m\u001b[0m\u001b[0m\n\u001b[1;32m   3886\u001b[0m         \u001b[0;32mif\u001b[0m \u001b[0minplace\u001b[0m\u001b[0;34m:\u001b[0m\u001b[0;34m\u001b[0m\u001b[0;34m\u001b[0m\u001b[0m\n",
      "\u001b[0;32m/Users/quinnunderriner/anaconda3/lib/python3.7/site-packages/pandas/core/generic.py\u001b[0m in \u001b[0;36m_drop_axis\u001b[0;34m(self, labels, axis, level, errors)\u001b[0m\n\u001b[1;32m   3916\u001b[0m                 \u001b[0mnew_axis\u001b[0m \u001b[0;34m=\u001b[0m \u001b[0maxis\u001b[0m\u001b[0;34m.\u001b[0m\u001b[0mdrop\u001b[0m\u001b[0;34m(\u001b[0m\u001b[0mlabels\u001b[0m\u001b[0;34m,\u001b[0m \u001b[0mlevel\u001b[0m\u001b[0;34m=\u001b[0m\u001b[0mlevel\u001b[0m\u001b[0;34m,\u001b[0m \u001b[0merrors\u001b[0m\u001b[0;34m=\u001b[0m\u001b[0merrors\u001b[0m\u001b[0;34m)\u001b[0m\u001b[0;34m\u001b[0m\u001b[0;34m\u001b[0m\u001b[0m\n\u001b[1;32m   3917\u001b[0m             \u001b[0;32melse\u001b[0m\u001b[0;34m:\u001b[0m\u001b[0;34m\u001b[0m\u001b[0;34m\u001b[0m\u001b[0m\n\u001b[0;32m-> 3918\u001b[0;31m                 \u001b[0mnew_axis\u001b[0m \u001b[0;34m=\u001b[0m \u001b[0maxis\u001b[0m\u001b[0;34m.\u001b[0m\u001b[0mdrop\u001b[0m\u001b[0;34m(\u001b[0m\u001b[0mlabels\u001b[0m\u001b[0;34m,\u001b[0m \u001b[0merrors\u001b[0m\u001b[0;34m=\u001b[0m\u001b[0merrors\u001b[0m\u001b[0;34m)\u001b[0m\u001b[0;34m\u001b[0m\u001b[0;34m\u001b[0m\u001b[0m\n\u001b[0m\u001b[1;32m   3919\u001b[0m             \u001b[0mresult\u001b[0m \u001b[0;34m=\u001b[0m \u001b[0mself\u001b[0m\u001b[0;34m.\u001b[0m\u001b[0mreindex\u001b[0m\u001b[0;34m(\u001b[0m\u001b[0;34m**\u001b[0m\u001b[0;34m{\u001b[0m\u001b[0maxis_name\u001b[0m\u001b[0;34m:\u001b[0m \u001b[0mnew_axis\u001b[0m\u001b[0;34m}\u001b[0m\u001b[0;34m)\u001b[0m\u001b[0;34m\u001b[0m\u001b[0;34m\u001b[0m\u001b[0m\n\u001b[1;32m   3920\u001b[0m \u001b[0;34m\u001b[0m\u001b[0m\n",
      "\u001b[0;32m/Users/quinnunderriner/anaconda3/lib/python3.7/site-packages/pandas/core/indexes/base.py\u001b[0m in \u001b[0;36mdrop\u001b[0;34m(self, labels, errors)\u001b[0m\n\u001b[1;32m   5276\u001b[0m         \u001b[0;32mif\u001b[0m \u001b[0mmask\u001b[0m\u001b[0;34m.\u001b[0m\u001b[0many\u001b[0m\u001b[0;34m(\u001b[0m\u001b[0;34m)\u001b[0m\u001b[0;34m:\u001b[0m\u001b[0;34m\u001b[0m\u001b[0;34m\u001b[0m\u001b[0m\n\u001b[1;32m   5277\u001b[0m             \u001b[0;32mif\u001b[0m \u001b[0merrors\u001b[0m \u001b[0;34m!=\u001b[0m \u001b[0;34m\"ignore\"\u001b[0m\u001b[0;34m:\u001b[0m\u001b[0;34m\u001b[0m\u001b[0;34m\u001b[0m\u001b[0m\n\u001b[0;32m-> 5278\u001b[0;31m                 \u001b[0;32mraise\u001b[0m \u001b[0mKeyError\u001b[0m\u001b[0;34m(\u001b[0m\u001b[0;34mf\"{labels[mask]} not found in axis\"\u001b[0m\u001b[0;34m)\u001b[0m\u001b[0;34m\u001b[0m\u001b[0;34m\u001b[0m\u001b[0m\n\u001b[0m\u001b[1;32m   5279\u001b[0m             \u001b[0mindexer\u001b[0m \u001b[0;34m=\u001b[0m \u001b[0mindexer\u001b[0m\u001b[0;34m[\u001b[0m\u001b[0;34m~\u001b[0m\u001b[0mmask\u001b[0m\u001b[0;34m]\u001b[0m\u001b[0;34m\u001b[0m\u001b[0;34m\u001b[0m\u001b[0m\n\u001b[1;32m   5280\u001b[0m         \u001b[0;32mreturn\u001b[0m \u001b[0mself\u001b[0m\u001b[0;34m.\u001b[0m\u001b[0mdelete\u001b[0m\u001b[0;34m(\u001b[0m\u001b[0mindexer\u001b[0m\u001b[0;34m)\u001b[0m\u001b[0;34m\u001b[0m\u001b[0;34m\u001b[0m\u001b[0m\n",
      "\u001b[0;31mKeyError\u001b[0m: \"['conseq_0'] not found in axis\""
     ]
    }
   ],
   "source": [
    "#people_with_nonpayment_data_only = people_with_nonpayment_data_only.drop(columns=\"conseq_0\")\n",
    "#people_with_nonpayment_data_only = people_with_nonpayment[percent_collected]"
   ]
  },
  {
   "cell_type": "code",
   "execution_count": 36,
   "metadata": {},
   "outputs": [],
   "source": [
    "def count0(a):\n",
    "    b = [sum(1 for i in g) for k,g in groupby(a) if k==0]\n",
    "    if len(b)>0:\n",
    "        return b\n",
    "    else:\n",
    "        return [0]\n",
    "people_with_nonpayment_data_only['zeros2'] = people_with_nonpayment_data_only.apply(lambda x: count0(x.values), axis=1)"
   ]
  },
  {
   "cell_type": "code",
   "execution_count": 37,
   "metadata": {},
   "outputs": [],
   "source": [
    "nonpayment_stretches = []\n",
    "for i in people_with_nonpayment_data_only.zeros2:\n",
    "    nonpayment_stretches += i\n"
   ]
  },
  {
   "cell_type": "code",
   "execution_count": 38,
   "metadata": {},
   "outputs": [
    {
     "data": {
      "text/plain": [
       "2.77800744109136"
      ]
     },
     "execution_count": 38,
     "metadata": {},
     "output_type": "execute_result"
    }
   ],
   "source": [
    "sum(nonpayment_stretches)/len(nonpayment_stretches)"
   ]
  },
  {
   "cell_type": "markdown",
   "metadata": {},
   "source": [
    "now we want to see if this calculation differs by year"
   ]
  },
  {
   "cell_type": "code",
   "execution_count": 75,
   "metadata": {},
   "outputs": [],
   "source": [
    "people_with_nonpayment_19 = people_with_nonpayment[[x for x in people_with_nonpayment if  x.endswith('19')]]\n",
    "people_with_nonpayment_20 = people_with_nonpayment[[x for x in people_with_nonpayment if  x.endswith('20')]]"
   ]
  },
  {
   "cell_type": "code",
   "execution_count": 76,
   "metadata": {},
   "outputs": [],
   "source": [
    "people_with_nonpayment_19['zeros2'] = people_with_nonpayment_19.apply(lambda x: count0(x.values), axis=1)\n",
    "people_with_nonpayment_20['zeros2'] = people_with_nonpayment_20.apply(lambda x: count0(x.values), axis=1)\n"
   ]
  },
  {
   "cell_type": "code",
   "execution_count": 77,
   "metadata": {},
   "outputs": [
    {
     "data": {
      "text/html": [
       "<div>\n",
       "<style scoped>\n",
       "    .dataframe tbody tr th:only-of-type {\n",
       "        vertical-align: middle;\n",
       "    }\n",
       "\n",
       "    .dataframe tbody tr th {\n",
       "        vertical-align: top;\n",
       "    }\n",
       "\n",
       "    .dataframe thead th {\n",
       "        text-align: right;\n",
       "    }\n",
       "</style>\n",
       "<table border=\"1\" class=\"dataframe\">\n",
       "  <thead>\n",
       "    <tr style=\"text-align: right;\">\n",
       "      <th>4</th>\n",
       "      <th>Tenant Percent Collected 05/01/20 - 05/31/20</th>\n",
       "      <th>Tenant Percent Collected 06/01/20 - 06/30/20</th>\n",
       "      <th>Tenant Percent Collected 07/01/20 - 07/31/20</th>\n",
       "      <th>Tenant Percent Collected 08/01/20 - 08/31/20</th>\n",
       "      <th>Tenant Percent Collected 09/01/20 - 09/30/20</th>\n",
       "      <th>zeros2</th>\n",
       "    </tr>\n",
       "  </thead>\n",
       "  <tbody>\n",
       "    <tr>\n",
       "      <th>2</th>\n",
       "      <td>100</td>\n",
       "      <td>100</td>\n",
       "      <td>100</td>\n",
       "      <td>100</td>\n",
       "      <td>100</td>\n",
       "      <td>[0]</td>\n",
       "    </tr>\n",
       "    <tr>\n",
       "      <th>5</th>\n",
       "      <td>0</td>\n",
       "      <td>0</td>\n",
       "      <td>0</td>\n",
       "      <td>0</td>\n",
       "      <td>0</td>\n",
       "      <td>[5]</td>\n",
       "    </tr>\n",
       "    <tr>\n",
       "      <th>7</th>\n",
       "      <td>100</td>\n",
       "      <td>100</td>\n",
       "      <td>100</td>\n",
       "      <td>100</td>\n",
       "      <td>100</td>\n",
       "      <td>[0]</td>\n",
       "    </tr>\n",
       "    <tr>\n",
       "      <th>44</th>\n",
       "      <td>100</td>\n",
       "      <td>100</td>\n",
       "      <td>100</td>\n",
       "      <td>100</td>\n",
       "      <td>100</td>\n",
       "      <td>[0]</td>\n",
       "    </tr>\n",
       "    <tr>\n",
       "      <th>46</th>\n",
       "      <td>100</td>\n",
       "      <td>100</td>\n",
       "      <td>100</td>\n",
       "      <td>100</td>\n",
       "      <td>100</td>\n",
       "      <td>[0]</td>\n",
       "    </tr>\n",
       "  </tbody>\n",
       "</table>\n",
       "</div>"
      ],
      "text/plain": [
       "4  Tenant Percent Collected 05/01/20 - 05/31/20  \\\n",
       "2                                           100   \n",
       "5                                             0   \n",
       "7                                           100   \n",
       "44                                          100   \n",
       "46                                          100   \n",
       "\n",
       "4  Tenant Percent Collected 06/01/20 - 06/30/20  \\\n",
       "2                                           100   \n",
       "5                                             0   \n",
       "7                                           100   \n",
       "44                                          100   \n",
       "46                                          100   \n",
       "\n",
       "4  Tenant Percent Collected 07/01/20 - 07/31/20  \\\n",
       "2                                           100   \n",
       "5                                             0   \n",
       "7                                           100   \n",
       "44                                          100   \n",
       "46                                          100   \n",
       "\n",
       "4  Tenant Percent Collected 08/01/20 - 08/31/20  \\\n",
       "2                                           100   \n",
       "5                                             0   \n",
       "7                                           100   \n",
       "44                                          100   \n",
       "46                                          100   \n",
       "\n",
       "4  Tenant Percent Collected 09/01/20 - 09/30/20 zeros2  \n",
       "2                                           100    [0]  \n",
       "5                                             0    [5]  \n",
       "7                                           100    [0]  \n",
       "44                                          100    [0]  \n",
       "46                                          100    [0]  "
      ]
     },
     "execution_count": 77,
     "metadata": {},
     "output_type": "execute_result"
    }
   ],
   "source": [
    "people_with_nonpayment_20.head()"
   ]
  },
  {
   "cell_type": "code",
   "execution_count": 78,
   "metadata": {},
   "outputs": [],
   "source": [
    "def count_nonpayment(df):\n",
    "    nonpayment_stretches = []\n",
    "    for i in people_with_nonpayment_data_only.zeros2:\n",
    "        nonpayment_stretches += i\n",
    "    return sum(nonpayment_stretches)/len(nonpayment_stretches)"
   ]
  },
  {
   "cell_type": "code",
   "execution_count": 79,
   "metadata": {},
   "outputs": [
    {
     "data": {
      "text/plain": [
       "2.129130655821047"
      ]
     },
     "execution_count": 79,
     "metadata": {},
     "output_type": "execute_result"
    }
   ],
   "source": [
    "nonpayment_stretches_19 = []\n",
    "for i in people_with_nonpayment_19.zeros2:\n",
    "    nonpayment_stretches_19 += i\n",
    "sum(nonpayment_stretches_19)/len(nonpayment_stretches_19)"
   ]
  },
  {
   "cell_type": "code",
   "execution_count": 80,
   "metadata": {},
   "outputs": [
    {
     "data": {
      "text/plain": [
       "(array([677.,   0., 437.,   0.,  99.,   0.,  82.,   0.,  53., 619.]),\n",
       " array([0. , 0.5, 1. , 1.5, 2. , 2.5, 3. , 3.5, 4. , 4.5, 5. ]),\n",
       " <a list of 10 Patch objects>)"
      ]
     },
     "execution_count": 80,
     "metadata": {},
     "output_type": "execute_result"
    },
    {
     "data": {
      "image/png": "[encoded data removed]",
      "text/plain": [
       "<Figure size 432x288 with 1 Axes>"
      ]
     },
     "metadata": {
      "needs_background": "light"
     },
     "output_type": "display_data"
    }
   ],
   "source": [
    "plt.hist(nonpayment_stretches_19)"
   ]
  },
  {
   "cell_type": "code",
   "execution_count": 81,
   "metadata": {},
   "outputs": [
    {
     "data": {
      "text/plain": [
       "1.1842843779232928"
      ]
     },
     "execution_count": 81,
     "metadata": {},
     "output_type": "execute_result"
    }
   ],
   "source": [
    "nonpayment_stretches_20 = []\n",
    "for i in people_with_nonpayment_20.zeros2:\n",
    "    nonpayment_stretches_20 += i\n",
    "sum(nonpayment_stretches_20)/len(nonpayment_stretches_20)"
   ]
  },
  {
   "cell_type": "code",
   "execution_count": 82,
   "metadata": {},
   "outputs": [
    {
     "data": {
      "text/plain": [
       "(array([764.,   0., 925.,   0., 154.,   0.,  77.,   0.,  22., 196.]),\n",
       " array([0. , 0.5, 1. , 1.5, 2. , 2.5, 3. , 3.5, 4. , 4.5, 5. ]),\n",
       " <a list of 10 Patch objects>)"
      ]
     },
     "execution_count": 82,
     "metadata": {},
     "output_type": "execute_result"
    },
    {
     "data": {
      "image/png": "[encoded data removed]",
      "text/plain": [
       "<Figure size 432x288 with 1 Axes>"
      ]
     },
     "metadata": {
      "needs_background": "light"
     },
     "output_type": "display_data"
    }
   ],
   "source": [
    "plt.hist(nonpayment_stretches_20)"
   ]
  },
  {
   "cell_type": "code",
   "execution_count": 83,
   "metadata": {},
   "outputs": [],
   "source": [
    "nonpayment_only = people_with_nonpayment[['Tenant Percent Collected 05/01/19 - 05/31/19',\n",
    "       'Tenant Percent Collected 06/01/19 - 06/30/19',\n",
    "       'Tenant Percent Collected 07/01/19 - 07/31/19',\n",
    "       'Tenant Percent Collected 08/01/19 - 08/31/19',\n",
    "       'Tenant Percent Collected 09/01/19 - 09/30/19',\n",
    "       'Tenant Percent Collected 05/01/20 - 05/31/20',\n",
    "       'Tenant Percent Collected 06/01/20 - 06/30/20',\n",
    "       'Tenant Percent Collected 07/01/20 - 07/31/20',\n",
    "       'Tenant Percent Collected 08/01/20 - 08/31/20',\n",
    "       'Tenant Percent Collected 09/01/20 - 09/30/20']]"
   ]
  },
  {
   "cell_type": "code",
   "execution_count": 84,
   "metadata": {},
   "outputs": [],
   "source": [
    "melted_nonpayment = pd.melt(people_with_nonpayment, id_vars=fixed_cols,var_name='Percent Collected')"
   ]
  },
  {
   "cell_type": "code",
   "execution_count": 85,
   "metadata": {},
   "outputs": [],
   "source": [
    "melted_nonpayment = melted_nonpayment[['Tenant', 'value']]\n",
    "melted_nonpayment.value = melted_nonpayment.value.astype(float)"
   ]
  },
  {
   "cell_type": "markdown",
   "metadata": {},
   "source": [
    "now calculate the total number of nonpayments in the dataset"
   ]
  },
  {
   "cell_type": "markdown",
   "metadata": {},
   "source": [
    "6720 Total nonpayments in the dataset. "
   ]
  },
  {
   "cell_type": "code",
   "execution_count": 86,
   "metadata": {},
   "outputs": [
    {
     "data": {
      "text/plain": [
       "6720"
      ]
     },
     "execution_count": 86,
     "metadata": {},
     "output_type": "execute_result"
    }
   ],
   "source": [
    "(melted_nonpayment.value == 0).sum()"
   ]
  },
  {
   "cell_type": "code",
   "execution_count": 87,
   "metadata": {},
   "outputs": [],
   "source": [
    "melted_nonpayment_des = melted_nonpayment.groupby(\"Tenant\").describe().reset_index()"
   ]
  },
  {
   "cell_type": "code",
   "execution_count": 91,
   "metadata": {},
   "outputs": [
    {
     "data": {
      "text/html": [
       "<div>\n",
       "<style scoped>\n",
       "    .dataframe tbody tr th:only-of-type {\n",
       "        vertical-align: middle;\n",
       "    }\n",
       "\n",
       "    .dataframe tbody tr th {\n",
       "        vertical-align: top;\n",
       "    }\n",
       "\n",
       "    .dataframe thead th {\n",
       "        text-align: right;\n",
       "    }\n",
       "</style>\n",
       "<table border=\"1\" class=\"dataframe\">\n",
       "  <thead>\n",
       "    <tr style=\"text-align: right;\">\n",
       "      <th></th>\n",
       "      <th>Property</th>\n",
       "      <th>Property Name</th>\n",
       "      <th>City</th>\n",
       "      <th>County</th>\n",
       "      <th>Unit</th>\n",
       "      <th>Tenant</th>\n",
       "      <th>Is Subsidized?</th>\n",
       "      <th>Fixed Income?</th>\n",
       "      <th>Date Collected</th>\n",
       "      <th>Percentage of Rent Paid</th>\n",
       "      <th>year</th>\n",
       "      <th>Assistance</th>\n",
       "      <th>Aid</th>\n",
       "    </tr>\n",
       "  </thead>\n",
       "  <tbody>\n",
       "    <tr>\n",
       "      <th>0</th>\n",
       "      <td>304</td>\n",
       "      <td>Almond Terrace</td>\n",
       "      <td>Manteca</td>\n",
       "      <td>San Joaquin</td>\n",
       "      <td>A101</td>\n",
       "      <td>t0028148</td>\n",
       "      <td>Yes Subsidy</td>\n",
       "      <td>No Assistance</td>\n",
       "      <td>2019-05-31</td>\n",
       "      <td>98.98</td>\n",
       "      <td>19</td>\n",
       "      <td>Yes Subsidy No Assistance</td>\n",
       "      <td>Aid</td>\n",
       "    </tr>\n",
       "    <tr>\n",
       "      <th>1</th>\n",
       "      <td>304</td>\n",
       "      <td>Almond Terrace</td>\n",
       "      <td>Manteca</td>\n",
       "      <td>San Joaquin</td>\n",
       "      <td>A102</td>\n",
       "      <td>t0009751</td>\n",
       "      <td>Yes Subsidy</td>\n",
       "      <td>No Assistance</td>\n",
       "      <td>2019-05-31</td>\n",
       "      <td>100.00</td>\n",
       "      <td>19</td>\n",
       "      <td>Yes Subsidy No Assistance</td>\n",
       "      <td>Aid</td>\n",
       "    </tr>\n",
       "    <tr>\n",
       "      <th>2</th>\n",
       "      <td>304</td>\n",
       "      <td>Almond Terrace</td>\n",
       "      <td>Manteca</td>\n",
       "      <td>San Joaquin</td>\n",
       "      <td>A103</td>\n",
       "      <td>t0029469</td>\n",
       "      <td>No Subsidy</td>\n",
       "      <td>No Assistance</td>\n",
       "      <td>2019-05-31</td>\n",
       "      <td>0.00</td>\n",
       "      <td>19</td>\n",
       "      <td>No Subsidy No Assistance</td>\n",
       "      <td>No Aid</td>\n",
       "    </tr>\n",
       "    <tr>\n",
       "      <th>3</th>\n",
       "      <td>304</td>\n",
       "      <td>Almond Terrace</td>\n",
       "      <td>Manteca</td>\n",
       "      <td>San Joaquin</td>\n",
       "      <td>A104</td>\n",
       "      <td>t0023101</td>\n",
       "      <td>Yes Subsidy</td>\n",
       "      <td>No Assistance</td>\n",
       "      <td>2019-05-31</td>\n",
       "      <td>100.00</td>\n",
       "      <td>19</td>\n",
       "      <td>Yes Subsidy No Assistance</td>\n",
       "      <td>Aid</td>\n",
       "    </tr>\n",
       "    <tr>\n",
       "      <th>4</th>\n",
       "      <td>304</td>\n",
       "      <td>Almond Terrace</td>\n",
       "      <td>Manteca</td>\n",
       "      <td>San Joaquin</td>\n",
       "      <td>A105</td>\n",
       "      <td>t0000702</td>\n",
       "      <td>Yes Subsidy</td>\n",
       "      <td>SS</td>\n",
       "      <td>2019-05-31</td>\n",
       "      <td>100.00</td>\n",
       "      <td>19</td>\n",
       "      <td>Yes Subsidy SS</td>\n",
       "      <td>Aid</td>\n",
       "    </tr>\n",
       "  </tbody>\n",
       "</table>\n",
       "</div>"
      ],
      "text/plain": [
       "  Property   Property Name     City       County  Unit    Tenant  \\\n",
       "0      304  Almond Terrace  Manteca  San Joaquin  A101  t0028148   \n",
       "1      304  Almond Terrace  Manteca  San Joaquin  A102  t0009751   \n",
       "2      304  Almond Terrace  Manteca  San Joaquin  A103  t0029469   \n",
       "3      304  Almond Terrace  Manteca  San Joaquin  A104  t0023101   \n",
       "4      304  Almond Terrace  Manteca  San Joaquin  A105  t0000702   \n",
       "\n",
       "  Is Subsidized?  Fixed Income? Date Collected  Percentage of Rent Paid year  \\\n",
       "0    Yes Subsidy  No Assistance     2019-05-31                    98.98   19   \n",
       "1    Yes Subsidy  No Assistance     2019-05-31                   100.00   19   \n",
       "2     No Subsidy  No Assistance     2019-05-31                     0.00   19   \n",
       "3    Yes Subsidy  No Assistance     2019-05-31                   100.00   19   \n",
       "4    Yes Subsidy             SS     2019-05-31                   100.00   19   \n",
       "\n",
       "                  Assistance     Aid  \n",
       "0  Yes Subsidy No Assistance     Aid  \n",
       "1  Yes Subsidy No Assistance     Aid  \n",
       "2   No Subsidy No Assistance  No Aid  \n",
       "3  Yes Subsidy No Assistance     Aid  \n",
       "4             Yes Subsidy SS     Aid  "
      ]
     },
     "execution_count": 91,
     "metadata": {},
     "output_type": "execute_result"
    }
   ],
   "source": [
    "monthly_percent_collected.head()"
   ]
  },
  {
   "cell_type": "code",
   "execution_count": 93,
   "metadata": {},
   "outputs": [
    {
     "data": {
      "text/html": [
       "<div>\n",
       "<style scoped>\n",
       "    .dataframe tbody tr th:only-of-type {\n",
       "        vertical-align: middle;\n",
       "    }\n",
       "\n",
       "    .dataframe tbody tr th {\n",
       "        vertical-align: top;\n",
       "    }\n",
       "\n",
       "    .dataframe thead th {\n",
       "        text-align: right;\n",
       "    }\n",
       "</style>\n",
       "<table border=\"1\" class=\"dataframe\">\n",
       "  <thead>\n",
       "    <tr style=\"text-align: right;\">\n",
       "      <th></th>\n",
       "      <th>Percentage of Rent Paid</th>\n",
       "    </tr>\n",
       "    <tr>\n",
       "      <th>Fixed Income?</th>\n",
       "      <th></th>\n",
       "    </tr>\n",
       "  </thead>\n",
       "  <tbody>\n",
       "    <tr>\n",
       "      <th>No Assistance</th>\n",
       "      <td>85.06</td>\n",
       "    </tr>\n",
       "    <tr>\n",
       "      <th>SS</th>\n",
       "      <td>97.24</td>\n",
       "    </tr>\n",
       "    <tr>\n",
       "      <th>SS/SSI</th>\n",
       "      <td>97.47</td>\n",
       "    </tr>\n",
       "    <tr>\n",
       "      <th>SSI</th>\n",
       "      <td>96.80</td>\n",
       "    </tr>\n",
       "  </tbody>\n",
       "</table>\n",
       "</div>"
      ],
      "text/plain": [
       "               Percentage of Rent Paid\n",
       "Fixed Income?                         \n",
       "No Assistance                    85.06\n",
       "SS                               97.24\n",
       "SS/SSI                           97.47\n",
       "SSI                              96.80"
      ]
     },
     "execution_count": 93,
     "metadata": {},
     "output_type": "execute_result"
    }
   ],
   "source": [
    "monthly_percent_collected[\"Fixed Income?\"] = monthly_percent_collected[\"Fixed Income?\"].replace(np.nan, 'No Assistance', regex=True)\n",
    "monthly_percent_collected[[\"Fixed Income?\",\"Percentage of Rent Paid\"]].groupby(\"Fixed Income?\").mean().round(2)"
   ]
  },
  {
   "cell_type": "code",
   "execution_count": 94,
   "metadata": {},
   "outputs": [
    {
     "data": {
      "text/html": [
       "<div>\n",
       "<style scoped>\n",
       "    .dataframe tbody tr th:only-of-type {\n",
       "        vertical-align: middle;\n",
       "    }\n",
       "\n",
       "    .dataframe tbody tr th {\n",
       "        vertical-align: top;\n",
       "    }\n",
       "\n",
       "    .dataframe thead th {\n",
       "        text-align: right;\n",
       "    }\n",
       "</style>\n",
       "<table border=\"1\" class=\"dataframe\">\n",
       "  <thead>\n",
       "    <tr style=\"text-align: right;\">\n",
       "      <th></th>\n",
       "      <th>Property</th>\n",
       "      <th>Property Name</th>\n",
       "      <th>City</th>\n",
       "      <th>County</th>\n",
       "      <th>Unit</th>\n",
       "      <th>Tenant</th>\n",
       "      <th>Is Subsidized?</th>\n",
       "      <th>Fixed Income?</th>\n",
       "      <th>Date Collected</th>\n",
       "      <th>Percentage of Rent Paid</th>\n",
       "      <th>year</th>\n",
       "      <th>Assistance</th>\n",
       "      <th>Aid</th>\n",
       "    </tr>\n",
       "  </thead>\n",
       "  <tbody>\n",
       "    <tr>\n",
       "      <th>0</th>\n",
       "      <td>304</td>\n",
       "      <td>Almond Terrace</td>\n",
       "      <td>Manteca</td>\n",
       "      <td>San Joaquin</td>\n",
       "      <td>A101</td>\n",
       "      <td>t0028148</td>\n",
       "      <td>Yes Subsidy</td>\n",
       "      <td>No Assistance</td>\n",
       "      <td>2019-05-31</td>\n",
       "      <td>98.98</td>\n",
       "      <td>19</td>\n",
       "      <td>Yes Subsidy No Assistance</td>\n",
       "      <td>Aid</td>\n",
       "    </tr>\n",
       "    <tr>\n",
       "      <th>1</th>\n",
       "      <td>304</td>\n",
       "      <td>Almond Terrace</td>\n",
       "      <td>Manteca</td>\n",
       "      <td>San Joaquin</td>\n",
       "      <td>A102</td>\n",
       "      <td>t0009751</td>\n",
       "      <td>Yes Subsidy</td>\n",
       "      <td>No Assistance</td>\n",
       "      <td>2019-05-31</td>\n",
       "      <td>100.00</td>\n",
       "      <td>19</td>\n",
       "      <td>Yes Subsidy No Assistance</td>\n",
       "      <td>Aid</td>\n",
       "    </tr>\n",
       "    <tr>\n",
       "      <th>2</th>\n",
       "      <td>304</td>\n",
       "      <td>Almond Terrace</td>\n",
       "      <td>Manteca</td>\n",
       "      <td>San Joaquin</td>\n",
       "      <td>A103</td>\n",
       "      <td>t0029469</td>\n",
       "      <td>No Subsidy</td>\n",
       "      <td>No Assistance</td>\n",
       "      <td>2019-05-31</td>\n",
       "      <td>0.00</td>\n",
       "      <td>19</td>\n",
       "      <td>No Subsidy No Assistance</td>\n",
       "      <td>No Aid</td>\n",
       "    </tr>\n",
       "    <tr>\n",
       "      <th>3</th>\n",
       "      <td>304</td>\n",
       "      <td>Almond Terrace</td>\n",
       "      <td>Manteca</td>\n",
       "      <td>San Joaquin</td>\n",
       "      <td>A104</td>\n",
       "      <td>t0023101</td>\n",
       "      <td>Yes Subsidy</td>\n",
       "      <td>No Assistance</td>\n",
       "      <td>2019-05-31</td>\n",
       "      <td>100.00</td>\n",
       "      <td>19</td>\n",
       "      <td>Yes Subsidy No Assistance</td>\n",
       "      <td>Aid</td>\n",
       "    </tr>\n",
       "    <tr>\n",
       "      <th>4</th>\n",
       "      <td>304</td>\n",
       "      <td>Almond Terrace</td>\n",
       "      <td>Manteca</td>\n",
       "      <td>San Joaquin</td>\n",
       "      <td>A105</td>\n",
       "      <td>t0000702</td>\n",
       "      <td>Yes Subsidy</td>\n",
       "      <td>SS</td>\n",
       "      <td>2019-05-31</td>\n",
       "      <td>100.00</td>\n",
       "      <td>19</td>\n",
       "      <td>Yes Subsidy SS</td>\n",
       "      <td>Aid</td>\n",
       "    </tr>\n",
       "  </tbody>\n",
       "</table>\n",
       "</div>"
      ],
      "text/plain": [
       "  Property   Property Name     City       County  Unit    Tenant  \\\n",
       "0      304  Almond Terrace  Manteca  San Joaquin  A101  t0028148   \n",
       "1      304  Almond Terrace  Manteca  San Joaquin  A102  t0009751   \n",
       "2      304  Almond Terrace  Manteca  San Joaquin  A103  t0029469   \n",
       "3      304  Almond Terrace  Manteca  San Joaquin  A104  t0023101   \n",
       "4      304  Almond Terrace  Manteca  San Joaquin  A105  t0000702   \n",
       "\n",
       "  Is Subsidized?  Fixed Income? Date Collected  Percentage of Rent Paid year  \\\n",
       "0    Yes Subsidy  No Assistance     2019-05-31                    98.98   19   \n",
       "1    Yes Subsidy  No Assistance     2019-05-31                   100.00   19   \n",
       "2     No Subsidy  No Assistance     2019-05-31                     0.00   19   \n",
       "3    Yes Subsidy  No Assistance     2019-05-31                   100.00   19   \n",
       "4    Yes Subsidy             SS     2019-05-31                   100.00   19   \n",
       "\n",
       "                  Assistance     Aid  \n",
       "0  Yes Subsidy No Assistance     Aid  \n",
       "1  Yes Subsidy No Assistance     Aid  \n",
       "2   No Subsidy No Assistance  No Aid  \n",
       "3  Yes Subsidy No Assistance     Aid  \n",
       "4             Yes Subsidy SS     Aid  "
      ]
     },
     "execution_count": 94,
     "metadata": {},
     "output_type": "execute_result"
    }
   ],
   "source": [
    "monthly_percent_collected.head()"
   ]
  },
  {
   "cell_type": "code",
   "execution_count": 95,
   "metadata": {},
   "outputs": [],
   "source": [
    "df_rent_collected[\"Fixed Income?\"] = df_rent_collected[\"Fixed Income?\"].replace(np.nan, 'No Assistance', regex=True)\n",
    "df_rent_collected[\"Is Subsidized?\"] = df_rent_collected[\"Is Subsidized?\"].replace(np.nan, 'No', regex=True)\n",
    "df_rent_collected[\"Is Subsidized?\"] = df_rent_collected[\"Is Subsidized?\"] + \" \" + \"Subsidy\"\n",
    "df_rent_collected[\"Assistance\"] = df_rent_collected[\"Is Subsidized?\"] +\" \"+ df_rent_collected[\"Fixed Income?\"]"
   ]
  },
  {
   "cell_type": "code",
   "execution_count": 96,
   "metadata": {},
   "outputs": [
    {
     "data": {
      "text/plain": [
       "No Assistance    5576\n",
       "SS               1361\n",
       "SSI               750\n",
       "SS/SSI            635\n",
       "Name: Fixed Income?, dtype: int64"
      ]
     },
     "execution_count": 96,
     "metadata": {},
     "output_type": "execute_result"
    }
   ],
   "source": [
    "df_rent_collected[\"Fixed Income?\"].value_counts()"
   ]
  },
  {
   "cell_type": "code",
   "execution_count": 97,
   "metadata": {},
   "outputs": [
    {
     "data": {
      "text/plain": [
       "No Subsidy     4875\n",
       "Yes Subsidy    3447\n",
       "Name: Is Subsidized?, dtype: int64"
      ]
     },
     "execution_count": 97,
     "metadata": {},
     "output_type": "execute_result"
    }
   ],
   "source": [
    "df_rent_collected[\"Is Subsidized?\"].value_counts()"
   ]
  },
  {
   "cell_type": "code",
   "execution_count": 98,
   "metadata": {},
   "outputs": [
    {
     "data": {
      "text/plain": [
       "0.49724183583406883"
      ]
     },
     "execution_count": 98,
     "metadata": {},
     "output_type": "execute_result"
    }
   ],
   "source": [
    "4507 /(5617 + 3447)"
   ]
  },
  {
   "cell_type": "markdown",
   "metadata": {},
   "source": [
    "0.49 percent of people have no form of gov assistance "
   ]
  },
  {
   "cell_type": "code",
   "execution_count": 99,
   "metadata": {},
   "outputs": [
    {
     "data": {
      "text/plain": [
       "No Subsidy No Assistance     3844\n",
       "Yes Subsidy No Assistance    1732\n",
       "Yes Subsidy SS                768\n",
       "No Subsidy SS                 593\n",
       "Yes Subsidy SSI               485\n",
       "Yes Subsidy SS/SSI            462\n",
       "No Subsidy SSI                265\n",
       "No Subsidy SS/SSI             173\n",
       "Name: Assistance, dtype: int64"
      ]
     },
     "execution_count": 99,
     "metadata": {},
     "output_type": "execute_result"
    }
   ],
   "source": [
    "df_rent_collected[\"Assistance\"].value_counts()"
   ]
  },
  {
   "cell_type": "code",
   "execution_count": 100,
   "metadata": {},
   "outputs": [],
   "source": [
    "monthly_percent_collected[\"Assistance\"] = monthly_percent_collected[\"Is Subsidized?\"] +\" \"+ monthly_percent_collected[\"Fixed Income?\"]"
   ]
  },
  {
   "cell_type": "code",
   "execution_count": 101,
   "metadata": {},
   "outputs": [],
   "source": [
    "monthly_percent_collected = monthly_percent_collected.rename(columns={\"value\":\"Percentage of Rent Paid\"})"
   ]
  },
  {
   "cell_type": "code",
   "execution_count": 102,
   "metadata": {},
   "outputs": [
    {
     "data": {
      "text/html": [
       "<div>\n",
       "<style scoped>\n",
       "    .dataframe tbody tr th:only-of-type {\n",
       "        vertical-align: middle;\n",
       "    }\n",
       "\n",
       "    .dataframe tbody tr th {\n",
       "        vertical-align: top;\n",
       "    }\n",
       "\n",
       "    .dataframe thead th {\n",
       "        text-align: right;\n",
       "    }\n",
       "</style>\n",
       "<table border=\"1\" class=\"dataframe\">\n",
       "  <thead>\n",
       "    <tr style=\"text-align: right;\">\n",
       "      <th></th>\n",
       "      <th></th>\n",
       "      <th>Percentage of Rent Paid</th>\n",
       "    </tr>\n",
       "    <tr>\n",
       "      <th>Fixed Income?</th>\n",
       "      <th>year</th>\n",
       "      <th></th>\n",
       "    </tr>\n",
       "  </thead>\n",
       "  <tbody>\n",
       "    <tr>\n",
       "      <th rowspan=\"2\" valign=\"top\">No Assistance</th>\n",
       "      <th>19</th>\n",
       "      <td>81.55</td>\n",
       "    </tr>\n",
       "    <tr>\n",
       "      <th>20</th>\n",
       "      <td>88.51</td>\n",
       "    </tr>\n",
       "    <tr>\n",
       "      <th rowspan=\"2\" valign=\"top\">SS</th>\n",
       "      <th>19</th>\n",
       "      <td>97.90</td>\n",
       "    </tr>\n",
       "    <tr>\n",
       "      <th>20</th>\n",
       "      <td>96.61</td>\n",
       "    </tr>\n",
       "    <tr>\n",
       "      <th rowspan=\"2\" valign=\"top\">SS/SSI</th>\n",
       "      <th>19</th>\n",
       "      <td>97.59</td>\n",
       "    </tr>\n",
       "    <tr>\n",
       "      <th>20</th>\n",
       "      <td>97.35</td>\n",
       "    </tr>\n",
       "    <tr>\n",
       "      <th rowspan=\"2\" valign=\"top\">SSI</th>\n",
       "      <th>19</th>\n",
       "      <td>97.82</td>\n",
       "    </tr>\n",
       "    <tr>\n",
       "      <th>20</th>\n",
       "      <td>95.83</td>\n",
       "    </tr>\n",
       "  </tbody>\n",
       "</table>\n",
       "</div>"
      ],
      "text/plain": [
       "                    Percentage of Rent Paid\n",
       "Fixed Income? year                         \n",
       "No Assistance 19                      81.55\n",
       "              20                      88.51\n",
       "SS            19                      97.90\n",
       "              20                      96.61\n",
       "SS/SSI        19                      97.59\n",
       "              20                      97.35\n",
       "SSI           19                      97.82\n",
       "              20                      95.83"
      ]
     },
     "execution_count": 102,
     "metadata": {},
     "output_type": "execute_result"
    }
   ],
   "source": [
    "monthly_percent_collected[[\"Fixed Income?\",\"Percentage of Rent Paid\",\"year\"]].groupby([\"Fixed Income?\",\"year\"]).mean().round(2)"
   ]
  },
  {
   "cell_type": "code",
   "execution_count": 103,
   "metadata": {},
   "outputs": [
    {
     "data": {
      "text/html": [
       "<div>\n",
       "<style scoped>\n",
       "    .dataframe tbody tr th:only-of-type {\n",
       "        vertical-align: middle;\n",
       "    }\n",
       "\n",
       "    .dataframe tbody tr th {\n",
       "        vertical-align: top;\n",
       "    }\n",
       "\n",
       "    .dataframe thead th {\n",
       "        text-align: right;\n",
       "    }\n",
       "</style>\n",
       "<table border=\"1\" class=\"dataframe\">\n",
       "  <thead>\n",
       "    <tr style=\"text-align: right;\">\n",
       "      <th></th>\n",
       "      <th></th>\n",
       "      <th>Percentage of Rent Paid</th>\n",
       "    </tr>\n",
       "    <tr>\n",
       "      <th>Is Subsidized?</th>\n",
       "      <th>year</th>\n",
       "      <th></th>\n",
       "    </tr>\n",
       "  </thead>\n",
       "  <tbody>\n",
       "    <tr>\n",
       "      <th rowspan=\"2\" valign=\"top\">No Subsidy</th>\n",
       "      <th>19</th>\n",
       "      <td>81.805073</td>\n",
       "    </tr>\n",
       "    <tr>\n",
       "      <th>20</th>\n",
       "      <td>90.165662</td>\n",
       "    </tr>\n",
       "    <tr>\n",
       "      <th rowspan=\"2\" valign=\"top\">Yes Subsidy</th>\n",
       "      <th>19</th>\n",
       "      <td>94.768673</td>\n",
       "    </tr>\n",
       "    <tr>\n",
       "      <th>20</th>\n",
       "      <td>92.836676</td>\n",
       "    </tr>\n",
       "  </tbody>\n",
       "</table>\n",
       "</div>"
      ],
      "text/plain": [
       "                     Percentage of Rent Paid\n",
       "Is Subsidized? year                         \n",
       "No Subsidy     19                  81.805073\n",
       "               20                  90.165662\n",
       "Yes Subsidy    19                  94.768673\n",
       "               20                  92.836676"
      ]
     },
     "execution_count": 103,
     "metadata": {},
     "output_type": "execute_result"
    }
   ],
   "source": [
    "monthly_percent_collected[[\"Is Subsidized?\",\"Percentage of Rent Paid\",\"year\"]].groupby([\"Is Subsidized?\",\"year\"]).mean()"
   ]
  },
  {
   "cell_type": "code",
   "execution_count": 104,
   "metadata": {},
   "outputs": [],
   "source": [
    "monthly_percent_collected[\"Fixed Income?\"] = monthly_percent_collected[\"Fixed Income?\"].replace(np.nan, 'No Assistance', regex=True)\n",
    "monthly_percent_collected[\"Is Subsidized?\"] = monthly_percent_collected[\"Is Subsidized?\"].replace(np.nan, 'No', regex=True)\n",
    "monthly_percent_collected[\"Is Subsidized?\"] = monthly_percent_collected[\"Is Subsidized?\"] + \" \" + \"Subsidy\"\n",
    "monthly_percent_collected[\"Assistance\"] = monthly_percent_collected[\"Is Subsidized?\"] +\" \"+ monthly_percent_collected[\"Fixed Income?\"]"
   ]
  },
  {
   "cell_type": "code",
   "execution_count": 105,
   "metadata": {},
   "outputs": [
    {
     "data": {
      "text/plain": [
       "No Subsidy Subsidy No Assistance     32050\n",
       "Yes Subsidy Subsidy No Assistance    13661\n",
       "Yes Subsidy Subsidy SS                6473\n",
       "No Subsidy Subsidy SS                 5245\n",
       "Yes Subsidy Subsidy SSI               4021\n",
       "Yes Subsidy Subsidy SS/SSI            3894\n",
       "No Subsidy Subsidy SSI                2297\n",
       "No Subsidy Subsidy SS/SSI             1494\n",
       "Name: Assistance, dtype: int64"
      ]
     },
     "execution_count": 105,
     "metadata": {},
     "output_type": "execute_result"
    }
   ],
   "source": [
    "monthly_percent_collected[\"Assistance\"].value_counts()"
   ]
  },
  {
   "cell_type": "code",
   "execution_count": 106,
   "metadata": {},
   "outputs": [],
   "source": [
    "def any_aid(x):\n",
    "    if x == \"No Subsidy No Assistance\":\n",
    "        return \"No Aid\"\n",
    "    else:\n",
    "        return \"Aid\""
   ]
  },
  {
   "cell_type": "code",
   "execution_count": 107,
   "metadata": {},
   "outputs": [],
   "source": [
    "monthly_percent_collected[\"Aid\"] = monthly_percent_collected.Assistance.apply(lambda x: any_aid(x))"
   ]
  },
  {
   "cell_type": "code",
   "execution_count": 134,
   "metadata": {},
   "outputs": [
    {
     "data": {
      "text/html": [
       "<div>\n",
       "<style scoped>\n",
       "    .dataframe tbody tr th:only-of-type {\n",
       "        vertical-align: middle;\n",
       "    }\n",
       "\n",
       "    .dataframe tbody tr th {\n",
       "        vertical-align: top;\n",
       "    }\n",
       "\n",
       "    .dataframe thead th {\n",
       "        text-align: right;\n",
       "    }\n",
       "</style>\n",
       "<table border=\"1\" class=\"dataframe\">\n",
       "  <thead>\n",
       "    <tr style=\"text-align: right;\">\n",
       "      <th></th>\n",
       "      <th></th>\n",
       "      <th>Percentage of Rent Paid</th>\n",
       "    </tr>\n",
       "    <tr>\n",
       "      <th>Aid</th>\n",
       "      <th>year</th>\n",
       "      <th></th>\n",
       "    </tr>\n",
       "  </thead>\n",
       "  <tbody>\n",
       "    <tr>\n",
       "      <th rowspan=\"2\" valign=\"top\">Aid</th>\n",
       "      <th>19</th>\n",
       "      <td>87.02</td>\n",
       "    </tr>\n",
       "    <tr>\n",
       "      <th>20</th>\n",
       "      <td>91.26</td>\n",
       "    </tr>\n",
       "  </tbody>\n",
       "</table>\n",
       "</div>"
      ],
      "text/plain": [
       "          Percentage of Rent Paid\n",
       "Aid year                         \n",
       "Aid 19                      87.02\n",
       "    20                      91.26"
      ]
     },
     "execution_count": 134,
     "metadata": {},
     "output_type": "execute_result"
    }
   ],
   "source": [
    "monthly_percent_collected[[\"Aid\",\"Percentage of Rent Paid\",\"year\"]].groupby([\"Aid\",\"year\"]).mean().round(2)"
   ]
  },
  {
   "cell_type": "code",
   "execution_count": 109,
   "metadata": {},
   "outputs": [
    {
     "data": {
      "text/plain": [
       "100.00    56796\n",
       "0.00       6720\n",
       "99.91        80\n",
       "99.93        50\n",
       "96.00        50\n",
       "          ...  \n",
       "81.51         1\n",
       "79.56         1\n",
       "78.44         1\n",
       "87.26         1\n",
       "93.15         1\n",
       "Name: Percentage of Rent Paid, Length: 2073, dtype: int64"
      ]
     },
     "execution_count": 109,
     "metadata": {},
     "output_type": "execute_result"
    }
   ],
   "source": [
    "monthly_percent_collected[\"Percentage of Rent Paid\"].value_counts()"
   ]
  },
  {
   "cell_type": "code",
   "execution_count": 110,
   "metadata": {},
   "outputs": [
    {
     "data": {
      "text/plain": [
       "array([[<matplotlib.axes._subplots.AxesSubplot object at 0x11de0dd30>]],\n",
       "      dtype=object)"
      ]
     },
     "execution_count": 110,
     "metadata": {},
     "output_type": "execute_result"
    },
    {
     "data": {
      "image/png": "[encoded data removed]",
      "text/plain": [
       "<Figure size 432x288 with 1 Axes>"
      ]
     },
     "metadata": {
      "needs_background": "light"
     },
     "output_type": "display_data"
    }
   ],
   "source": [
    "monthly_percent_collected[monthly_percent_collected[\"Percentage of Rent Paid\"]<=100].hist()"
   ]
  },
  {
   "cell_type": "code",
   "execution_count": 111,
   "metadata": {},
   "outputs": [
    {
     "data": {
      "text/plain": [
       "array([[<matplotlib.axes._subplots.AxesSubplot object at 0x11e497828>]],\n",
       "      dtype=object)"
      ]
     },
     "execution_count": 111,
     "metadata": {},
     "output_type": "execute_result"
    },
    {
     "data": {
      "image/png": "[encoded data removed]",
      "text/plain": [
       "<Figure size 432x288 with 1 Axes>"
      ]
     },
     "metadata": {
      "needs_background": "light"
     },
     "output_type": "display_data"
    }
   ],
   "source": [
    "extra_hist = monthly_percent_collected[monthly_percent_collected[\"Percentage of Rent Paid\"]<100]\n",
    "extra_hist = extra_hist[extra_hist[\"Percentage of Rent Paid\"]>0]\n",
    "extra_hist.hist()"
   ]
  },
  {
   "cell_type": "code",
   "execution_count": 157,
   "metadata": {},
   "outputs": [],
   "source": [
    "monthly_percent_collected_chart = monthly_percent_collected_chart.rename({\"Percent Collected\":\"Date\",\"Avg_Percent_of_Rent_Paid\":\"value\"})"
   ]
  },
  {
   "cell_type": "code",
   "execution_count": 159,
   "metadata": {},
   "outputs": [
    {
     "data": {
      "text/html": [
       "\n",
       "<div id=\"altair-viz-5ba2cab725994ab3a70abe383559f3fc\"></div>\n",
       "<script type=\"text/javascript\">\n",
       "  (function(spec, embedOpt){\n",
       "    const outputDiv = document.getElementById(\"altair-viz-5ba2cab725994ab3a70abe383559f3fc\");\n",
       "    const paths = {\n",
       "      \"vega\": \"https://cdn.jsdelivr.net/npm//vega@5?noext\",\n",
       "      \"vega-lib\": \"https://cdn.jsdelivr.net/npm//vega-lib?noext\",\n",
       "      \"vega-lite\": \"https://cdn.jsdelivr.net/npm//vega-lite@4.0.2?noext\",\n",
       "      \"vega-embed\": \"https://cdn.jsdelivr.net/npm//vega-embed@6?noext\",\n",
       "    };\n",
       "\n",
       "    function loadScript(lib) {\n",
       "      return new Promise(function(resolve, reject) {\n",
       "        var s = document.createElement('script');\n",
       "        s.src = paths[lib];\n",
       "        s.async = true;\n",
       "        s.onload = () => resolve(paths[lib]);\n",
       "        s.onerror = () => reject(`Error loading script: ${paths[lib]}`);\n",
       "        document.getElementsByTagName(\"head\")[0].appendChild(s);\n",
       "      });\n",
       "    }\n",
       "\n",
       "    function showError(err) {\n",
       "      outputDiv.innerHTML = `<div class=\"error\" style=\"color:red;\">${err}</div>`;\n",
       "      throw err;\n",
       "    }\n",
       "\n",
       "    function displayChart(vegaEmbed) {\n",
       "      vegaEmbed(outputDiv, spec, embedOpt)\n",
       "        .catch(err => showError(`Javascript Error: ${err.message}<br>This usually means there's a typo in your chart specification. See the javascript console for the full traceback.`));\n",
       "    }\n",
       "\n",
       "    if(typeof define === \"function\" && define.amd) {\n",
       "      requirejs.config({paths});\n",
       "      require([\"vega-embed\"], displayChart, err => showError(`Error loading script: ${err.message}`));\n",
       "    } else if (typeof vegaEmbed === \"function\") {\n",
       "      displayChart(vegaEmbed);\n",
       "    } else {\n",
       "      loadScript(\"vega\")\n",
       "        .then(() => loadScript(\"vega-lite\"))\n",
       "        .then(() => loadScript(\"vega-embed\"))\n",
       "        .catch(showError)\n",
       "        .then(() => displayChart(vegaEmbed));\n",
       "    }\n",
       "  })({\"config\": {\"view\": {\"continuousWidth\": 400, \"continuousHeight\": 300}}, \"layer\": [{\"mark\": {\"type\": \"errorband\", \"extent\": \"ci\"}, \"encoding\": {\"x\": {\"type\": \"temporal\", \"field\": \"Percent Collected\", \"scale\": {\"zero\": false}}, \"y\": {\"type\": \"quantitative\", \"field\": \"value\", \"scale\": {\"zero\": false}}}}, {\"mark\": {\"type\": \"line\", \"color\": \"#FFAA00\"}, \"encoding\": {\"x\": {\"type\": \"temporal\", \"field\": \"Percent Collected\", \"scale\": {\"zero\": false}}, \"y\": {\"type\": \"quantitative\", \"field\": \"value\", \"scale\": {\"zero\": false}}}}], \"data\": {\"name\": \"data-ff1173548bfe5167731e40ecf63407d3\"}, \"$schema\": \"https://vega.github.io/schema/vega-lite/v4.0.2.json\", \"datasets\": {\"data-ff1173548bfe5167731e40ecf63407d3\": [{\"Percent Collected\": \"2019-05-31T00:00:00\", \"value\": 95.53018035349275}, {\"Percent Collected\": \"2019-06-30T00:00:00\", \"value\": 95.3112092799615}, {\"Percent Collected\": \"2019-07-31T00:00:00\", \"value\": 93.96608653846137}, {\"Percent Collected\": \"2019-08-31T00:00:00\", \"value\": 100.77465415614103}, {\"Percent Collected\": \"2019-09-30T00:00:00\", \"value\": 94.89445713598654}, {\"Percent Collected\": \"2020-05-31T00:00:00\", \"value\": 97.28047785267206}, {\"Percent Collected\": \"2020-06-30T00:00:00\", \"value\": 96.78559927797826}, {\"Percent Collected\": \"2020-07-31T00:00:00\", \"value\": 97.29238037989894}, {\"Percent Collected\": \"2020-08-31T00:00:00\", \"value\": 98.75056023082489}, {\"Percent Collected\": \"2020-09-30T00:00:00\", \"value\": 96.70621257665022}]}}, {\"mode\": \"vega-lite\"});\n",
       "</script>"
      ],
      "text/plain": [
       "alt.LayerChart(...)"
      ]
     },
     "execution_count": 159,
     "metadata": {},
     "output_type": "execute_result"
    }
   ],
   "source": [
    "line = line_chart = alt.Chart(monthly_percent_collected_chart).mark_line(color=\"#FFAA00\").encode(\n",
    "        alt.X('Percent Collected',\n",
    "        scale=alt.Scale(zero=False)\n",
    "    ),\n",
    "\n",
    "\n",
    "    alt.Y(\"value\", scale=alt.Scale(zero=False))\n",
    ")\n",
    "\n",
    "band = line_chart = alt.Chart(monthly_percent_collected_chart).mark_errorband(extent='ci').encode(\n",
    "        alt.X('Percent Collected',\n",
    "        scale=alt.Scale(zero=False)\n",
    "    ),\n",
    "\n",
    "\n",
    "    alt.Y(\"value\", scale=alt.Scale(zero=False))\n",
    ")\n",
    "\n",
    "band + line"
   ]
  },
  {
   "cell_type": "code",
   "execution_count": 112,
   "metadata": {},
   "outputs": [
    {
     "data": {
      "text/html": [
       "<div>\n",
       "<style scoped>\n",
       "    .dataframe tbody tr th:only-of-type {\n",
       "        vertical-align: middle;\n",
       "    }\n",
       "\n",
       "    .dataframe tbody tr th {\n",
       "        vertical-align: top;\n",
       "    }\n",
       "\n",
       "    .dataframe thead th {\n",
       "        text-align: right;\n",
       "    }\n",
       "</style>\n",
       "<table border=\"1\" class=\"dataframe\">\n",
       "  <thead>\n",
       "    <tr style=\"text-align: right;\">\n",
       "      <th></th>\n",
       "      <th>Property</th>\n",
       "      <th>Property Name</th>\n",
       "      <th>City</th>\n",
       "      <th>County</th>\n",
       "      <th>Unit</th>\n",
       "      <th>Tenant</th>\n",
       "      <th>Is Subsidized?</th>\n",
       "      <th>Fixed Income?</th>\n",
       "      <th>Date Collected</th>\n",
       "      <th>Percentage of Rent Paid</th>\n",
       "      <th>year</th>\n",
       "      <th>Assistance</th>\n",
       "      <th>Aid</th>\n",
       "    </tr>\n",
       "  </thead>\n",
       "  <tbody>\n",
       "    <tr>\n",
       "      <th>0</th>\n",
       "      <td>304</td>\n",
       "      <td>Almond Terrace</td>\n",
       "      <td>Manteca</td>\n",
       "      <td>San Joaquin</td>\n",
       "      <td>A101</td>\n",
       "      <td>t0028148</td>\n",
       "      <td>Yes Subsidy Subsidy</td>\n",
       "      <td>No Assistance</td>\n",
       "      <td>2019-05-31</td>\n",
       "      <td>98.98</td>\n",
       "      <td>19</td>\n",
       "      <td>Yes Subsidy Subsidy No Assistance</td>\n",
       "      <td>Aid</td>\n",
       "    </tr>\n",
       "    <tr>\n",
       "      <th>1</th>\n",
       "      <td>304</td>\n",
       "      <td>Almond Terrace</td>\n",
       "      <td>Manteca</td>\n",
       "      <td>San Joaquin</td>\n",
       "      <td>A102</td>\n",
       "      <td>t0009751</td>\n",
       "      <td>Yes Subsidy Subsidy</td>\n",
       "      <td>No Assistance</td>\n",
       "      <td>2019-05-31</td>\n",
       "      <td>100.00</td>\n",
       "      <td>19</td>\n",
       "      <td>Yes Subsidy Subsidy No Assistance</td>\n",
       "      <td>Aid</td>\n",
       "    </tr>\n",
       "    <tr>\n",
       "      <th>2</th>\n",
       "      <td>304</td>\n",
       "      <td>Almond Terrace</td>\n",
       "      <td>Manteca</td>\n",
       "      <td>San Joaquin</td>\n",
       "      <td>A103</td>\n",
       "      <td>t0029469</td>\n",
       "      <td>No Subsidy Subsidy</td>\n",
       "      <td>No Assistance</td>\n",
       "      <td>2019-05-31</td>\n",
       "      <td>0.00</td>\n",
       "      <td>19</td>\n",
       "      <td>No Subsidy Subsidy No Assistance</td>\n",
       "      <td>Aid</td>\n",
       "    </tr>\n",
       "    <tr>\n",
       "      <th>3</th>\n",
       "      <td>304</td>\n",
       "      <td>Almond Terrace</td>\n",
       "      <td>Manteca</td>\n",
       "      <td>San Joaquin</td>\n",
       "      <td>A104</td>\n",
       "      <td>t0023101</td>\n",
       "      <td>Yes Subsidy Subsidy</td>\n",
       "      <td>No Assistance</td>\n",
       "      <td>2019-05-31</td>\n",
       "      <td>100.00</td>\n",
       "      <td>19</td>\n",
       "      <td>Yes Subsidy Subsidy No Assistance</td>\n",
       "      <td>Aid</td>\n",
       "    </tr>\n",
       "    <tr>\n",
       "      <th>4</th>\n",
       "      <td>304</td>\n",
       "      <td>Almond Terrace</td>\n",
       "      <td>Manteca</td>\n",
       "      <td>San Joaquin</td>\n",
       "      <td>A105</td>\n",
       "      <td>t0000702</td>\n",
       "      <td>Yes Subsidy Subsidy</td>\n",
       "      <td>SS</td>\n",
       "      <td>2019-05-31</td>\n",
       "      <td>100.00</td>\n",
       "      <td>19</td>\n",
       "      <td>Yes Subsidy Subsidy SS</td>\n",
       "      <td>Aid</td>\n",
       "    </tr>\n",
       "  </tbody>\n",
       "</table>\n",
       "</div>"
      ],
      "text/plain": [
       "  Property   Property Name     City       County  Unit    Tenant  \\\n",
       "0      304  Almond Terrace  Manteca  San Joaquin  A101  t0028148   \n",
       "1      304  Almond Terrace  Manteca  San Joaquin  A102  t0009751   \n",
       "2      304  Almond Terrace  Manteca  San Joaquin  A103  t0029469   \n",
       "3      304  Almond Terrace  Manteca  San Joaquin  A104  t0023101   \n",
       "4      304  Almond Terrace  Manteca  San Joaquin  A105  t0000702   \n",
       "\n",
       "        Is Subsidized?  Fixed Income? Date Collected  Percentage of Rent Paid  \\\n",
       "0  Yes Subsidy Subsidy  No Assistance     2019-05-31                    98.98   \n",
       "1  Yes Subsidy Subsidy  No Assistance     2019-05-31                   100.00   \n",
       "2   No Subsidy Subsidy  No Assistance     2019-05-31                     0.00   \n",
       "3  Yes Subsidy Subsidy  No Assistance     2019-05-31                   100.00   \n",
       "4  Yes Subsidy Subsidy             SS     2019-05-31                   100.00   \n",
       "\n",
       "  year                         Assistance  Aid  \n",
       "0   19  Yes Subsidy Subsidy No Assistance  Aid  \n",
       "1   19  Yes Subsidy Subsidy No Assistance  Aid  \n",
       "2   19   No Subsidy Subsidy No Assistance  Aid  \n",
       "3   19  Yes Subsidy Subsidy No Assistance  Aid  \n",
       "4   19             Yes Subsidy Subsidy SS  Aid  "
      ]
     },
     "execution_count": 112,
     "metadata": {},
     "output_type": "execute_result"
    }
   ],
   "source": [
    "monthly_percent_collected.head()"
   ]
  },
  {
   "cell_type": "code",
   "execution_count": 113,
   "metadata": {},
   "outputs": [
    {
     "data": {
      "text/plain": [
       "<matplotlib.axes._subplots.AxesSubplot at 0x11de0dac8>"
      ]
     },
     "execution_count": 113,
     "metadata": {},
     "output_type": "execute_result"
    },
    {
     "data": {
      "image/png": "[encoded data removed]",
      "text/plain": [
       "<Figure size 432x288 with 1 Axes>"
      ]
     },
     "metadata": {
      "needs_background": "light"
     },
     "output_type": "display_data"
    }
   ],
   "source": [
    "group_hist = monthly_percent_collected[monthly_percent_collected[\"Percentage of Rent Paid\"]<95]\n",
    "group_hist = group_hist[group_hist[\"Percentage of Rent Paid\"]>0]\n",
    "sns.histplot(data=group_hist, x=\"Percentage of Rent Paid\", hue=\"year\", bins=100\n",
    "            )"
   ]
  },
  {
   "cell_type": "markdown",
   "metadata": {},
   "source": [
    "Q: “Are rent shortfalls concentrated in certain properties or regions of the state?”\n"
   ]
  },
  {
   "cell_type": "code",
   "execution_count": 114,
   "metadata": {},
   "outputs": [],
   "source": [
    "monthly_percent_collected = monthly_percent_collected[monthly_percent_collected[\"Percentage of Rent Paid\"]<=100]"
   ]
  },
  {
   "cell_type": "code",
   "execution_count": 115,
   "metadata": {},
   "outputs": [],
   "source": [
    "by_county = monthly_percent_collected[[\"County\",\"Percentage of Rent Paid\"]].groupby(\"County\").describe().reset_index()"
   ]
  },
  {
   "cell_type": "code",
   "execution_count": 116,
   "metadata": {},
   "outputs": [
    {
     "data": {
      "text/html": [
       "<div>\n",
       "<style scoped>\n",
       "    .dataframe tbody tr th:only-of-type {\n",
       "        vertical-align: middle;\n",
       "    }\n",
       "\n",
       "    .dataframe tbody tr th {\n",
       "        vertical-align: top;\n",
       "    }\n",
       "\n",
       "    .dataframe thead tr th {\n",
       "        text-align: left;\n",
       "    }\n",
       "</style>\n",
       "<table border=\"1\" class=\"dataframe\">\n",
       "  <thead>\n",
       "    <tr>\n",
       "      <th></th>\n",
       "      <th>County</th>\n",
       "      <th colspan=\"8\" halign=\"left\">Percentage of Rent Paid</th>\n",
       "    </tr>\n",
       "    <tr>\n",
       "      <th></th>\n",
       "      <th></th>\n",
       "      <th>count</th>\n",
       "      <th>mean</th>\n",
       "      <th>std</th>\n",
       "      <th>min</th>\n",
       "      <th>25%</th>\n",
       "      <th>50%</th>\n",
       "      <th>75%</th>\n",
       "      <th>max</th>\n",
       "    </tr>\n",
       "  </thead>\n",
       "  <tbody>\n",
       "    <tr>\n",
       "      <th>7</th>\n",
       "      <td>San Diego</td>\n",
       "      <td>5002.0</td>\n",
       "      <td>95.61</td>\n",
       "      <td>19.26</td>\n",
       "      <td>0.0</td>\n",
       "      <td>100.00</td>\n",
       "      <td>100.0</td>\n",
       "      <td>100.0</td>\n",
       "      <td>100.0</td>\n",
       "    </tr>\n",
       "    <tr>\n",
       "      <th>6</th>\n",
       "      <td>San Benito</td>\n",
       "      <td>955.0</td>\n",
       "      <td>94.52</td>\n",
       "      <td>20.74</td>\n",
       "      <td>0.0</td>\n",
       "      <td>100.00</td>\n",
       "      <td>100.0</td>\n",
       "      <td>100.0</td>\n",
       "      <td>100.0</td>\n",
       "    </tr>\n",
       "    <tr>\n",
       "      <th>11</th>\n",
       "      <td>Santa Cruz</td>\n",
       "      <td>2219.0</td>\n",
       "      <td>94.03</td>\n",
       "      <td>23.04</td>\n",
       "      <td>0.0</td>\n",
       "      <td>100.00</td>\n",
       "      <td>100.0</td>\n",
       "      <td>100.0</td>\n",
       "      <td>100.0</td>\n",
       "    </tr>\n",
       "    <tr>\n",
       "      <th>8</th>\n",
       "      <td>San Joaquin</td>\n",
       "      <td>2165.0</td>\n",
       "      <td>93.75</td>\n",
       "      <td>24.00</td>\n",
       "      <td>0.0</td>\n",
       "      <td>100.00</td>\n",
       "      <td>100.0</td>\n",
       "      <td>100.0</td>\n",
       "      <td>100.0</td>\n",
       "    </tr>\n",
       "    <tr>\n",
       "      <th>5</th>\n",
       "      <td>Orange</td>\n",
       "      <td>1284.0</td>\n",
       "      <td>92.94</td>\n",
       "      <td>23.84</td>\n",
       "      <td>0.0</td>\n",
       "      <td>100.00</td>\n",
       "      <td>100.0</td>\n",
       "      <td>100.0</td>\n",
       "      <td>100.0</td>\n",
       "    </tr>\n",
       "    <tr>\n",
       "      <th>13</th>\n",
       "      <td>Sonoma</td>\n",
       "      <td>3637.0</td>\n",
       "      <td>92.22</td>\n",
       "      <td>26.16</td>\n",
       "      <td>0.0</td>\n",
       "      <td>100.00</td>\n",
       "      <td>100.0</td>\n",
       "      <td>100.0</td>\n",
       "      <td>100.0</td>\n",
       "    </tr>\n",
       "    <tr>\n",
       "      <th>4</th>\n",
       "      <td>Monterey</td>\n",
       "      <td>3409.0</td>\n",
       "      <td>91.70</td>\n",
       "      <td>26.47</td>\n",
       "      <td>0.0</td>\n",
       "      <td>100.00</td>\n",
       "      <td>100.0</td>\n",
       "      <td>100.0</td>\n",
       "      <td>100.0</td>\n",
       "    </tr>\n",
       "    <tr>\n",
       "      <th>10</th>\n",
       "      <td>Santa Clara</td>\n",
       "      <td>13595.0</td>\n",
       "      <td>90.98</td>\n",
       "      <td>27.81</td>\n",
       "      <td>0.0</td>\n",
       "      <td>100.00</td>\n",
       "      <td>100.0</td>\n",
       "      <td>100.0</td>\n",
       "      <td>100.0</td>\n",
       "    </tr>\n",
       "    <tr>\n",
       "      <th>0</th>\n",
       "      <td>Alameda</td>\n",
       "      <td>23202.0</td>\n",
       "      <td>87.45</td>\n",
       "      <td>32.16</td>\n",
       "      <td>0.0</td>\n",
       "      <td>100.00</td>\n",
       "      <td>100.0</td>\n",
       "      <td>100.0</td>\n",
       "      <td>100.0</td>\n",
       "    </tr>\n",
       "    <tr>\n",
       "      <th>3</th>\n",
       "      <td>Marin</td>\n",
       "      <td>957.0</td>\n",
       "      <td>86.88</td>\n",
       "      <td>32.94</td>\n",
       "      <td>0.0</td>\n",
       "      <td>100.00</td>\n",
       "      <td>100.0</td>\n",
       "      <td>100.0</td>\n",
       "      <td>100.0</td>\n",
       "    </tr>\n",
       "    <tr>\n",
       "      <th>2</th>\n",
       "      <td>Los Angeles</td>\n",
       "      <td>320.0</td>\n",
       "      <td>85.81</td>\n",
       "      <td>33.49</td>\n",
       "      <td>0.0</td>\n",
       "      <td>100.00</td>\n",
       "      <td>100.0</td>\n",
       "      <td>100.0</td>\n",
       "      <td>100.0</td>\n",
       "    </tr>\n",
       "    <tr>\n",
       "      <th>1</th>\n",
       "      <td>Contra Costa</td>\n",
       "      <td>8102.0</td>\n",
       "      <td>85.71</td>\n",
       "      <td>33.98</td>\n",
       "      <td>0.0</td>\n",
       "      <td>100.00</td>\n",
       "      <td>100.0</td>\n",
       "      <td>100.0</td>\n",
       "      <td>100.0</td>\n",
       "    </tr>\n",
       "    <tr>\n",
       "      <th>12</th>\n",
       "      <td>Solano</td>\n",
       "      <td>2825.0</td>\n",
       "      <td>82.18</td>\n",
       "      <td>37.24</td>\n",
       "      <td>0.0</td>\n",
       "      <td>99.25</td>\n",
       "      <td>100.0</td>\n",
       "      <td>100.0</td>\n",
       "      <td>100.0</td>\n",
       "    </tr>\n",
       "    <tr>\n",
       "      <th>14</th>\n",
       "      <td>Yolo</td>\n",
       "      <td>1340.0</td>\n",
       "      <td>77.93</td>\n",
       "      <td>40.11</td>\n",
       "      <td>0.0</td>\n",
       "      <td>94.88</td>\n",
       "      <td>100.0</td>\n",
       "      <td>100.0</td>\n",
       "      <td>100.0</td>\n",
       "    </tr>\n",
       "    <tr>\n",
       "      <th>9</th>\n",
       "      <td>San Mateo</td>\n",
       "      <td>123.0</td>\n",
       "      <td>77.19</td>\n",
       "      <td>42.08</td>\n",
       "      <td>0.0</td>\n",
       "      <td>99.08</td>\n",
       "      <td>100.0</td>\n",
       "      <td>100.0</td>\n",
       "      <td>100.0</td>\n",
       "    </tr>\n",
       "  </tbody>\n",
       "</table>\n",
       "</div>"
      ],
      "text/plain": [
       "          County Percentage of Rent Paid                                    \\\n",
       "                                   count   mean    std  min     25%    50%   \n",
       "7      San Diego                  5002.0  95.61  19.26  0.0  100.00  100.0   \n",
       "6     San Benito                   955.0  94.52  20.74  0.0  100.00  100.0   \n",
       "11    Santa Cruz                  2219.0  94.03  23.04  0.0  100.00  100.0   \n",
       "8    San Joaquin                  2165.0  93.75  24.00  0.0  100.00  100.0   \n",
       "5         Orange                  1284.0  92.94  23.84  0.0  100.00  100.0   \n",
       "13        Sonoma                  3637.0  92.22  26.16  0.0  100.00  100.0   \n",
       "4       Monterey                  3409.0  91.70  26.47  0.0  100.00  100.0   \n",
       "10   Santa Clara                 13595.0  90.98  27.81  0.0  100.00  100.0   \n",
       "0        Alameda                 23202.0  87.45  32.16  0.0  100.00  100.0   \n",
       "3          Marin                   957.0  86.88  32.94  0.0  100.00  100.0   \n",
       "2    Los Angeles                   320.0  85.81  33.49  0.0  100.00  100.0   \n",
       "1   Contra Costa                  8102.0  85.71  33.98  0.0  100.00  100.0   \n",
       "12        Solano                  2825.0  82.18  37.24  0.0   99.25  100.0   \n",
       "14          Yolo                  1340.0  77.93  40.11  0.0   94.88  100.0   \n",
       "9      San Mateo                   123.0  77.19  42.08  0.0   99.08  100.0   \n",
       "\n",
       "                  \n",
       "      75%    max  \n",
       "7   100.0  100.0  \n",
       "6   100.0  100.0  \n",
       "11  100.0  100.0  \n",
       "8   100.0  100.0  \n",
       "5   100.0  100.0  \n",
       "13  100.0  100.0  \n",
       "4   100.0  100.0  \n",
       "10  100.0  100.0  \n",
       "0   100.0  100.0  \n",
       "3   100.0  100.0  \n",
       "2   100.0  100.0  \n",
       "1   100.0  100.0  \n",
       "12  100.0  100.0  \n",
       "14  100.0  100.0  \n",
       "9   100.0  100.0  "
      ]
     },
     "execution_count": 116,
     "metadata": {},
     "output_type": "execute_result"
    }
   ],
   "source": [
    "by_county.sort_values([('Percentage of Rent Paid', 'mean')], ascending=False).round(2)"
   ]
  },
  {
   "cell_type": "code",
   "execution_count": 117,
   "metadata": {},
   "outputs": [],
   "source": [
    "#calculate number of nonpayments by \n",
    "no_payments_county = people_with_nonpayment.groupby(\"County\").count().reset_index()[[\"County\",\"Property\"]]\n",
    "total_counts = df_rent_collected.groupby(\"County\").count().reset_index()[[\"County\",\"Property\"]]\n",
    "no_payments_county = no_payments_county.merge(total_counts,on=\"County\")\n",
    "no_payments_county[\"No Payment as a Percent of Total Payments\"] = no_payments_county.Property_x/no_payments_county.Property_y"
   ]
  },
  {
   "cell_type": "code",
   "execution_count": 118,
   "metadata": {},
   "outputs": [
    {
     "data": {
      "text/html": [
       "<div>\n",
       "<style scoped>\n",
       "    .dataframe tbody tr th:only-of-type {\n",
       "        vertical-align: middle;\n",
       "    }\n",
       "\n",
       "    .dataframe tbody tr th {\n",
       "        vertical-align: top;\n",
       "    }\n",
       "\n",
       "    .dataframe thead th {\n",
       "        text-align: right;\n",
       "    }\n",
       "</style>\n",
       "<table border=\"1\" class=\"dataframe\">\n",
       "  <thead>\n",
       "    <tr style=\"text-align: right;\">\n",
       "      <th>4</th>\n",
       "      <th>Property</th>\n",
       "      <th>Property Name</th>\n",
       "      <th>City</th>\n",
       "      <th>County</th>\n",
       "      <th>Unit</th>\n",
       "      <th>Tenant</th>\n",
       "      <th>Is Subsidized?</th>\n",
       "      <th>Fixed Income?</th>\n",
       "      <th>Tenant Percent Collected 05/01/19 - 05/31/19</th>\n",
       "      <th>Tenant Percent Collected 06/01/19 - 06/30/19</th>\n",
       "      <th>Tenant Percent Collected 07/01/19 - 07/31/19</th>\n",
       "      <th>Tenant Percent Collected 08/01/19 - 08/31/19</th>\n",
       "      <th>Tenant Percent Collected 09/01/19 - 09/30/19</th>\n",
       "      <th>Tenant Percent Collected 05/01/20 - 05/31/20</th>\n",
       "      <th>Tenant Percent Collected 06/01/20 - 06/30/20</th>\n",
       "      <th>Tenant Percent Collected 07/01/20 - 07/31/20</th>\n",
       "      <th>Tenant Percent Collected 08/01/20 - 08/31/20</th>\n",
       "      <th>Tenant Percent Collected 09/01/20 - 09/30/20</th>\n",
       "    </tr>\n",
       "  </thead>\n",
       "  <tbody>\n",
       "  </tbody>\n",
       "</table>\n",
       "</div>"
      ],
      "text/plain": [
       "Empty DataFrame\n",
       "Columns: [Property, Property Name, City, County, Unit, Tenant, Is Subsidized?, Fixed Income?, Tenant Percent Collected 05/01/19 - 05/31/19, Tenant Percent Collected 06/01/19 - 06/30/19, Tenant Percent Collected 07/01/19 - 07/31/19, Tenant Percent Collected 08/01/19 - 08/31/19, Tenant Percent Collected 09/01/19 - 09/30/19, Tenant Percent Collected 05/01/20 - 05/31/20, Tenant Percent Collected 06/01/20 - 06/30/20, Tenant Percent Collected 07/01/20 - 07/31/20, Tenant Percent Collected 08/01/20 - 08/31/20, Tenant Percent Collected 09/01/20 - 09/30/20]\n",
       "Index: []"
      ]
     },
     "execution_count": 118,
     "metadata": {},
     "output_type": "execute_result"
    }
   ],
   "source": [
    "people_with_nonpayment[people_with_nonpayment[\"Property Name\"] == \"Quail Run Apartments\"]\n"
   ]
  },
  {
   "cell_type": "code",
   "execution_count": 119,
   "metadata": {},
   "outputs": [
    {
     "data": {
      "text/html": [
       "<div>\n",
       "<style scoped>\n",
       "    .dataframe tbody tr th:only-of-type {\n",
       "        vertical-align: middle;\n",
       "    }\n",
       "\n",
       "    .dataframe tbody tr th {\n",
       "        vertical-align: top;\n",
       "    }\n",
       "\n",
       "    .dataframe thead th {\n",
       "        text-align: right;\n",
       "    }\n",
       "</style>\n",
       "<table border=\"1\" class=\"dataframe\">\n",
       "  <thead>\n",
       "    <tr style=\"text-align: right;\">\n",
       "      <th>4</th>\n",
       "      <th>County</th>\n",
       "      <th>No Payment as a Percent of Total Payments</th>\n",
       "    </tr>\n",
       "  </thead>\n",
       "  <tbody>\n",
       "    <tr>\n",
       "      <th>0</th>\n",
       "      <td>Solano</td>\n",
       "      <td>0.383</td>\n",
       "    </tr>\n",
       "    <tr>\n",
       "      <th>1</th>\n",
       "      <td>Yolo</td>\n",
       "      <td>0.373</td>\n",
       "    </tr>\n",
       "    <tr>\n",
       "      <th>2</th>\n",
       "      <td>Contra Costa</td>\n",
       "      <td>0.323</td>\n",
       "    </tr>\n",
       "    <tr>\n",
       "      <th>3</th>\n",
       "      <td>Marin</td>\n",
       "      <td>0.318</td>\n",
       "    </tr>\n",
       "    <tr>\n",
       "      <th>4</th>\n",
       "      <td>Los Angeles</td>\n",
       "      <td>0.310</td>\n",
       "    </tr>\n",
       "    <tr>\n",
       "      <th>5</th>\n",
       "      <td>Alameda</td>\n",
       "      <td>0.255</td>\n",
       "    </tr>\n",
       "    <tr>\n",
       "      <th>6</th>\n",
       "      <td>San Mateo</td>\n",
       "      <td>0.219</td>\n",
       "    </tr>\n",
       "    <tr>\n",
       "      <th>7</th>\n",
       "      <td>Monterey</td>\n",
       "      <td>0.216</td>\n",
       "    </tr>\n",
       "    <tr>\n",
       "      <th>8</th>\n",
       "      <td>Santa Clara</td>\n",
       "      <td>0.192</td>\n",
       "    </tr>\n",
       "    <tr>\n",
       "      <th>9</th>\n",
       "      <td>Sonoma</td>\n",
       "      <td>0.162</td>\n",
       "    </tr>\n",
       "    <tr>\n",
       "      <th>10</th>\n",
       "      <td>Orange</td>\n",
       "      <td>0.146</td>\n",
       "    </tr>\n",
       "    <tr>\n",
       "      <th>11</th>\n",
       "      <td>Santa Cruz</td>\n",
       "      <td>0.137</td>\n",
       "    </tr>\n",
       "    <tr>\n",
       "      <th>12</th>\n",
       "      <td>San Joaquin</td>\n",
       "      <td>0.123</td>\n",
       "    </tr>\n",
       "    <tr>\n",
       "      <th>13</th>\n",
       "      <td>San Diego</td>\n",
       "      <td>0.077</td>\n",
       "    </tr>\n",
       "    <tr>\n",
       "      <th>14</th>\n",
       "      <td>San Benito</td>\n",
       "      <td>0.050</td>\n",
       "    </tr>\n",
       "  </tbody>\n",
       "</table>\n",
       "</div>"
      ],
      "text/plain": [
       "4         County  No Payment as a Percent of Total Payments\n",
       "0         Solano                                      0.383\n",
       "1           Yolo                                      0.373\n",
       "2   Contra Costa                                      0.323\n",
       "3          Marin                                      0.318\n",
       "4    Los Angeles                                      0.310\n",
       "5        Alameda                                      0.255\n",
       "6      San Mateo                                      0.219\n",
       "7       Monterey                                      0.216\n",
       "8    Santa Clara                                      0.192\n",
       "9         Sonoma                                      0.162\n",
       "10        Orange                                      0.146\n",
       "11    Santa Cruz                                      0.137\n",
       "12   San Joaquin                                      0.123\n",
       "13     San Diego                                      0.077\n",
       "14    San Benito                                      0.050"
      ]
     },
     "execution_count": 119,
     "metadata": {},
     "output_type": "execute_result"
    }
   ],
   "source": [
    "no_payments_county = no_payments_county[[\"County\",\"No Payment as a Percent of Total Payments\"]]\n",
    "no_payments_county.sort_values(\"No Payment as a Percent of Total Payments\",ascending=False).reset_index().drop(columns={\"index\"}).round(3)"
   ]
  },
  {
   "cell_type": "markdown",
   "metadata": {},
   "source": [
    "“Are rent shortfalls concentrated in certain properties?\""
   ]
  },
  {
   "cell_type": "code",
   "execution_count": 120,
   "metadata": {},
   "outputs": [],
   "source": [
    "monthly_percent_collected =monthly_percent_collected.rename(columns={\"Percent Collected\":\"Date Collected\"})"
   ]
  },
  {
   "cell_type": "code",
   "execution_count": 121,
   "metadata": {},
   "outputs": [
    {
     "data": {
      "text/html": [
       "<div>\n",
       "<style scoped>\n",
       "    .dataframe tbody tr th:only-of-type {\n",
       "        vertical-align: middle;\n",
       "    }\n",
       "\n",
       "    .dataframe tbody tr th {\n",
       "        vertical-align: top;\n",
       "    }\n",
       "\n",
       "    .dataframe thead th {\n",
       "        text-align: right;\n",
       "    }\n",
       "</style>\n",
       "<table border=\"1\" class=\"dataframe\">\n",
       "  <thead>\n",
       "    <tr style=\"text-align: right;\">\n",
       "      <th></th>\n",
       "      <th>Property</th>\n",
       "      <th>Property Name</th>\n",
       "      <th>City</th>\n",
       "      <th>County</th>\n",
       "      <th>Unit</th>\n",
       "      <th>Tenant</th>\n",
       "      <th>Is Subsidized?</th>\n",
       "      <th>Fixed Income?</th>\n",
       "      <th>Date Collected</th>\n",
       "      <th>Percentage of Rent Paid</th>\n",
       "      <th>year</th>\n",
       "      <th>Assistance</th>\n",
       "      <th>Aid</th>\n",
       "    </tr>\n",
       "  </thead>\n",
       "  <tbody>\n",
       "    <tr>\n",
       "      <th>0</th>\n",
       "      <td>304</td>\n",
       "      <td>Almond Terrace</td>\n",
       "      <td>Manteca</td>\n",
       "      <td>San Joaquin</td>\n",
       "      <td>A101</td>\n",
       "      <td>t0028148</td>\n",
       "      <td>Yes Subsidy Subsidy</td>\n",
       "      <td>No Assistance</td>\n",
       "      <td>2019-05-31</td>\n",
       "      <td>98.98</td>\n",
       "      <td>19</td>\n",
       "      <td>Yes Subsidy Subsidy No Assistance</td>\n",
       "      <td>Aid</td>\n",
       "    </tr>\n",
       "    <tr>\n",
       "      <th>1</th>\n",
       "      <td>304</td>\n",
       "      <td>Almond Terrace</td>\n",
       "      <td>Manteca</td>\n",
       "      <td>San Joaquin</td>\n",
       "      <td>A102</td>\n",
       "      <td>t0009751</td>\n",
       "      <td>Yes Subsidy Subsidy</td>\n",
       "      <td>No Assistance</td>\n",
       "      <td>2019-05-31</td>\n",
       "      <td>100.00</td>\n",
       "      <td>19</td>\n",
       "      <td>Yes Subsidy Subsidy No Assistance</td>\n",
       "      <td>Aid</td>\n",
       "    </tr>\n",
       "    <tr>\n",
       "      <th>2</th>\n",
       "      <td>304</td>\n",
       "      <td>Almond Terrace</td>\n",
       "      <td>Manteca</td>\n",
       "      <td>San Joaquin</td>\n",
       "      <td>A103</td>\n",
       "      <td>t0029469</td>\n",
       "      <td>No Subsidy Subsidy</td>\n",
       "      <td>No Assistance</td>\n",
       "      <td>2019-05-31</td>\n",
       "      <td>0.00</td>\n",
       "      <td>19</td>\n",
       "      <td>No Subsidy Subsidy No Assistance</td>\n",
       "      <td>Aid</td>\n",
       "    </tr>\n",
       "    <tr>\n",
       "      <th>3</th>\n",
       "      <td>304</td>\n",
       "      <td>Almond Terrace</td>\n",
       "      <td>Manteca</td>\n",
       "      <td>San Joaquin</td>\n",
       "      <td>A104</td>\n",
       "      <td>t0023101</td>\n",
       "      <td>Yes Subsidy Subsidy</td>\n",
       "      <td>No Assistance</td>\n",
       "      <td>2019-05-31</td>\n",
       "      <td>100.00</td>\n",
       "      <td>19</td>\n",
       "      <td>Yes Subsidy Subsidy No Assistance</td>\n",
       "      <td>Aid</td>\n",
       "    </tr>\n",
       "    <tr>\n",
       "      <th>4</th>\n",
       "      <td>304</td>\n",
       "      <td>Almond Terrace</td>\n",
       "      <td>Manteca</td>\n",
       "      <td>San Joaquin</td>\n",
       "      <td>A105</td>\n",
       "      <td>t0000702</td>\n",
       "      <td>Yes Subsidy Subsidy</td>\n",
       "      <td>SS</td>\n",
       "      <td>2019-05-31</td>\n",
       "      <td>100.00</td>\n",
       "      <td>19</td>\n",
       "      <td>Yes Subsidy Subsidy SS</td>\n",
       "      <td>Aid</td>\n",
       "    </tr>\n",
       "  </tbody>\n",
       "</table>\n",
       "</div>"
      ],
      "text/plain": [
       "  Property   Property Name     City       County  Unit    Tenant  \\\n",
       "0      304  Almond Terrace  Manteca  San Joaquin  A101  t0028148   \n",
       "1      304  Almond Terrace  Manteca  San Joaquin  A102  t0009751   \n",
       "2      304  Almond Terrace  Manteca  San Joaquin  A103  t0029469   \n",
       "3      304  Almond Terrace  Manteca  San Joaquin  A104  t0023101   \n",
       "4      304  Almond Terrace  Manteca  San Joaquin  A105  t0000702   \n",
       "\n",
       "        Is Subsidized?  Fixed Income? Date Collected  Percentage of Rent Paid  \\\n",
       "0  Yes Subsidy Subsidy  No Assistance     2019-05-31                    98.98   \n",
       "1  Yes Subsidy Subsidy  No Assistance     2019-05-31                   100.00   \n",
       "2   No Subsidy Subsidy  No Assistance     2019-05-31                     0.00   \n",
       "3  Yes Subsidy Subsidy  No Assistance     2019-05-31                   100.00   \n",
       "4  Yes Subsidy Subsidy             SS     2019-05-31                   100.00   \n",
       "\n",
       "  year                         Assistance  Aid  \n",
       "0   19  Yes Subsidy Subsidy No Assistance  Aid  \n",
       "1   19  Yes Subsidy Subsidy No Assistance  Aid  \n",
       "2   19   No Subsidy Subsidy No Assistance  Aid  \n",
       "3   19  Yes Subsidy Subsidy No Assistance  Aid  \n",
       "4   19             Yes Subsidy Subsidy SS  Aid  "
      ]
     },
     "execution_count": 121,
     "metadata": {},
     "output_type": "execute_result"
    }
   ],
   "source": [
    "monthly_percent_collected.head()"
   ]
  },
  {
   "cell_type": "code",
   "execution_count": 122,
   "metadata": {},
   "outputs": [],
   "source": [
    "by_property = monthly_percent_collected[[\"Property Name\",\"City\",\"County\",\"Percentage of Rent Paid\"]].groupby(\"Property Name\").describe().reset_index().round(2)\n",
    "by_property = by_property.sort_values([('Percentage of Rent Paid', 'mean')], ascending=False).round(2)"
   ]
  },
  {
   "cell_type": "code",
   "execution_count": 123,
   "metadata": {},
   "outputs": [],
   "source": [
    "#get ride of multi index\n",
    "by_property.columns = by_property.columns.map(' '.join)\n",
    "by_property = by_property.sort_values([('Percentage of Rent Paid mean')], ascending=False).round(2)"
   ]
  },
  {
   "cell_type": "code",
   "execution_count": 124,
   "metadata": {},
   "outputs": [
    {
     "data": {
      "text/html": [
       "<div>\n",
       "<style scoped>\n",
       "    .dataframe tbody tr th:only-of-type {\n",
       "        vertical-align: middle;\n",
       "    }\n",
       "\n",
       "    .dataframe tbody tr th {\n",
       "        vertical-align: top;\n",
       "    }\n",
       "\n",
       "    .dataframe thead th {\n",
       "        text-align: right;\n",
       "    }\n",
       "</style>\n",
       "<table border=\"1\" class=\"dataframe\">\n",
       "  <thead>\n",
       "    <tr style=\"text-align: right;\">\n",
       "      <th></th>\n",
       "      <th>Property</th>\n",
       "      <th>Property Name</th>\n",
       "      <th>City</th>\n",
       "      <th>County</th>\n",
       "      <th>Unit</th>\n",
       "      <th>Tenant</th>\n",
       "      <th>Is Subsidized?</th>\n",
       "      <th>Fixed Income?</th>\n",
       "      <th>Date Collected</th>\n",
       "      <th>Percentage of Rent Paid</th>\n",
       "      <th>year</th>\n",
       "      <th>Assistance</th>\n",
       "      <th>Aid</th>\n",
       "    </tr>\n",
       "  </thead>\n",
       "  <tbody>\n",
       "    <tr>\n",
       "      <th>0</th>\n",
       "      <td>304</td>\n",
       "      <td>Almond Terrace</td>\n",
       "      <td>Manteca</td>\n",
       "      <td>San Joaquin</td>\n",
       "      <td>A101</td>\n",
       "      <td>t0028148</td>\n",
       "      <td>Yes Subsidy Subsidy</td>\n",
       "      <td>No Assistance</td>\n",
       "      <td>2019-05-31</td>\n",
       "      <td>98.98</td>\n",
       "      <td>19</td>\n",
       "      <td>Yes Subsidy Subsidy No Assistance</td>\n",
       "      <td>Aid</td>\n",
       "    </tr>\n",
       "    <tr>\n",
       "      <th>1</th>\n",
       "      <td>304</td>\n",
       "      <td>Almond Terrace</td>\n",
       "      <td>Manteca</td>\n",
       "      <td>San Joaquin</td>\n",
       "      <td>A102</td>\n",
       "      <td>t0009751</td>\n",
       "      <td>Yes Subsidy Subsidy</td>\n",
       "      <td>No Assistance</td>\n",
       "      <td>2019-05-31</td>\n",
       "      <td>100.00</td>\n",
       "      <td>19</td>\n",
       "      <td>Yes Subsidy Subsidy No Assistance</td>\n",
       "      <td>Aid</td>\n",
       "    </tr>\n",
       "    <tr>\n",
       "      <th>2</th>\n",
       "      <td>304</td>\n",
       "      <td>Almond Terrace</td>\n",
       "      <td>Manteca</td>\n",
       "      <td>San Joaquin</td>\n",
       "      <td>A103</td>\n",
       "      <td>t0029469</td>\n",
       "      <td>No Subsidy Subsidy</td>\n",
       "      <td>No Assistance</td>\n",
       "      <td>2019-05-31</td>\n",
       "      <td>0.00</td>\n",
       "      <td>19</td>\n",
       "      <td>No Subsidy Subsidy No Assistance</td>\n",
       "      <td>Aid</td>\n",
       "    </tr>\n",
       "    <tr>\n",
       "      <th>3</th>\n",
       "      <td>304</td>\n",
       "      <td>Almond Terrace</td>\n",
       "      <td>Manteca</td>\n",
       "      <td>San Joaquin</td>\n",
       "      <td>A104</td>\n",
       "      <td>t0023101</td>\n",
       "      <td>Yes Subsidy Subsidy</td>\n",
       "      <td>No Assistance</td>\n",
       "      <td>2019-05-31</td>\n",
       "      <td>100.00</td>\n",
       "      <td>19</td>\n",
       "      <td>Yes Subsidy Subsidy No Assistance</td>\n",
       "      <td>Aid</td>\n",
       "    </tr>\n",
       "    <tr>\n",
       "      <th>4</th>\n",
       "      <td>304</td>\n",
       "      <td>Almond Terrace</td>\n",
       "      <td>Manteca</td>\n",
       "      <td>San Joaquin</td>\n",
       "      <td>A105</td>\n",
       "      <td>t0000702</td>\n",
       "      <td>Yes Subsidy Subsidy</td>\n",
       "      <td>SS</td>\n",
       "      <td>2019-05-31</td>\n",
       "      <td>100.00</td>\n",
       "      <td>19</td>\n",
       "      <td>Yes Subsidy Subsidy SS</td>\n",
       "      <td>Aid</td>\n",
       "    </tr>\n",
       "  </tbody>\n",
       "</table>\n",
       "</div>"
      ],
      "text/plain": [
       "  Property   Property Name     City       County  Unit    Tenant  \\\n",
       "0      304  Almond Terrace  Manteca  San Joaquin  A101  t0028148   \n",
       "1      304  Almond Terrace  Manteca  San Joaquin  A102  t0009751   \n",
       "2      304  Almond Terrace  Manteca  San Joaquin  A103  t0029469   \n",
       "3      304  Almond Terrace  Manteca  San Joaquin  A104  t0023101   \n",
       "4      304  Almond Terrace  Manteca  San Joaquin  A105  t0000702   \n",
       "\n",
       "        Is Subsidized?  Fixed Income? Date Collected  Percentage of Rent Paid  \\\n",
       "0  Yes Subsidy Subsidy  No Assistance     2019-05-31                    98.98   \n",
       "1  Yes Subsidy Subsidy  No Assistance     2019-05-31                   100.00   \n",
       "2   No Subsidy Subsidy  No Assistance     2019-05-31                     0.00   \n",
       "3  Yes Subsidy Subsidy  No Assistance     2019-05-31                   100.00   \n",
       "4  Yes Subsidy Subsidy             SS     2019-05-31                   100.00   \n",
       "\n",
       "  year                         Assistance  Aid  \n",
       "0   19  Yes Subsidy Subsidy No Assistance  Aid  \n",
       "1   19  Yes Subsidy Subsidy No Assistance  Aid  \n",
       "2   19   No Subsidy Subsidy No Assistance  Aid  \n",
       "3   19  Yes Subsidy Subsidy No Assistance  Aid  \n",
       "4   19             Yes Subsidy Subsidy SS  Aid  "
      ]
     },
     "execution_count": 124,
     "metadata": {},
     "output_type": "execute_result"
    }
   ],
   "source": [
    "monthly_percent_collected.head()"
   ]
  },
  {
   "cell_type": "code",
   "execution_count": 125,
   "metadata": {},
   "outputs": [],
   "source": [
    "locations = monthly_percent_collected[[\"City\",\"County\",\"Property Name\"]]"
   ]
  },
  {
   "cell_type": "code",
   "execution_count": 126,
   "metadata": {},
   "outputs": [],
   "source": [
    "by_property = by_property.rename(columns={\"Property Name \":\"Property Name\"})"
   ]
  },
  {
   "cell_type": "code",
   "execution_count": 127,
   "metadata": {},
   "outputs": [
    {
     "data": {
      "text/plain": [
       "Index(['City', 'County', 'Property Name'], dtype='object')"
      ]
     },
     "execution_count": 127,
     "metadata": {},
     "output_type": "execute_result"
    }
   ],
   "source": [
    "locations.columns"
   ]
  },
  {
   "cell_type": "code",
   "execution_count": 128,
   "metadata": {},
   "outputs": [],
   "source": [
    "by_property = by_property.merge(locations,on=\"Property Name\")"
   ]
  },
  {
   "cell_type": "code",
   "execution_count": 129,
   "metadata": {},
   "outputs": [],
   "source": [
    "by_property = by_property.drop_duplicates(subset=['Property Name'])\n"
   ]
  },
  {
   "cell_type": "code",
   "execution_count": 130,
   "metadata": {},
   "outputs": [
    {
     "data": {
      "text/html": [
       "<div>\n",
       "<style scoped>\n",
       "    .dataframe tbody tr th:only-of-type {\n",
       "        vertical-align: middle;\n",
       "    }\n",
       "\n",
       "    .dataframe tbody tr th {\n",
       "        vertical-align: top;\n",
       "    }\n",
       "\n",
       "    .dataframe thead th {\n",
       "        text-align: right;\n",
       "    }\n",
       "</style>\n",
       "<table border=\"1\" class=\"dataframe\">\n",
       "  <thead>\n",
       "    <tr style=\"text-align: right;\">\n",
       "      <th></th>\n",
       "      <th>Property Name</th>\n",
       "      <th>Percentage of Rent Paid count</th>\n",
       "      <th>Percentage of Rent Paid mean</th>\n",
       "      <th>Percentage of Rent Paid std</th>\n",
       "      <th>Percentage of Rent Paid min</th>\n",
       "      <th>Percentage of Rent Paid 25%</th>\n",
       "      <th>Percentage of Rent Paid 50%</th>\n",
       "      <th>Percentage of Rent Paid 75%</th>\n",
       "      <th>Percentage of Rent Paid max</th>\n",
       "      <th>City</th>\n",
       "      <th>County</th>\n",
       "    </tr>\n",
       "  </thead>\n",
       "  <tbody>\n",
       "    <tr>\n",
       "      <th>0</th>\n",
       "      <td>Westside Terrace</td>\n",
       "      <td>133.0</td>\n",
       "      <td>98.44</td>\n",
       "      <td>7.33</td>\n",
       "      <td>34.31</td>\n",
       "      <td>100.0</td>\n",
       "      <td>100.0</td>\n",
       "      <td>100.0</td>\n",
       "      <td>100.0</td>\n",
       "      <td>Hollister</td>\n",
       "      <td>San Benito</td>\n",
       "    </tr>\n",
       "    <tr>\n",
       "      <th>133</th>\n",
       "      <td>Pauline Weaver Senior Apartments (Four)</td>\n",
       "      <td>421.0</td>\n",
       "      <td>97.69</td>\n",
       "      <td>13.85</td>\n",
       "      <td>0.00</td>\n",
       "      <td>100.0</td>\n",
       "      <td>100.0</td>\n",
       "      <td>100.0</td>\n",
       "      <td>100.0</td>\n",
       "      <td>Fremont</td>\n",
       "      <td>Alameda</td>\n",
       "    </tr>\n",
       "    <tr>\n",
       "      <th>554</th>\n",
       "      <td>Skeels Apartments</td>\n",
       "      <td>114.0</td>\n",
       "      <td>97.58</td>\n",
       "      <td>12.06</td>\n",
       "      <td>0.00</td>\n",
       "      <td>100.0</td>\n",
       "      <td>100.0</td>\n",
       "      <td>100.0</td>\n",
       "      <td>100.0</td>\n",
       "      <td>Morgan Hill</td>\n",
       "      <td>Santa Clara</td>\n",
       "    </tr>\n",
       "    <tr>\n",
       "      <th>668</th>\n",
       "      <td>Brentwood Senior Commons</td>\n",
       "      <td>700.0</td>\n",
       "      <td>97.36</td>\n",
       "      <td>15.67</td>\n",
       "      <td>0.00</td>\n",
       "      <td>100.0</td>\n",
       "      <td>100.0</td>\n",
       "      <td>100.0</td>\n",
       "      <td>100.0</td>\n",
       "      <td>Brentwood</td>\n",
       "      <td>Contra Costa</td>\n",
       "    </tr>\n",
       "    <tr>\n",
       "      <th>1368</th>\n",
       "      <td>Tierra Linda</td>\n",
       "      <td>142.0</td>\n",
       "      <td>96.77</td>\n",
       "      <td>17.18</td>\n",
       "      <td>0.00</td>\n",
       "      <td>100.0</td>\n",
       "      <td>100.0</td>\n",
       "      <td>100.0</td>\n",
       "      <td>100.0</td>\n",
       "      <td>Watsonville</td>\n",
       "      <td>Santa Cruz</td>\n",
       "    </tr>\n",
       "  </tbody>\n",
       "</table>\n",
       "</div>"
      ],
      "text/plain": [
       "                                Property Name  Percentage of Rent Paid count  \\\n",
       "0                            Westside Terrace                          133.0   \n",
       "133   Pauline Weaver Senior Apartments (Four)                          421.0   \n",
       "554                         Skeels Apartments                          114.0   \n",
       "668                  Brentwood Senior Commons                          700.0   \n",
       "1368                             Tierra Linda                          142.0   \n",
       "\n",
       "      Percentage of Rent Paid mean  Percentage of Rent Paid std  \\\n",
       "0                            98.44                         7.33   \n",
       "133                          97.69                        13.85   \n",
       "554                          97.58                        12.06   \n",
       "668                          97.36                        15.67   \n",
       "1368                         96.77                        17.18   \n",
       "\n",
       "      Percentage of Rent Paid min  Percentage of Rent Paid 25%  \\\n",
       "0                           34.31                        100.0   \n",
       "133                          0.00                        100.0   \n",
       "554                          0.00                        100.0   \n",
       "668                          0.00                        100.0   \n",
       "1368                         0.00                        100.0   \n",
       "\n",
       "      Percentage of Rent Paid 50%  Percentage of Rent Paid 75%  \\\n",
       "0                           100.0                        100.0   \n",
       "133                         100.0                        100.0   \n",
       "554                         100.0                        100.0   \n",
       "668                         100.0                        100.0   \n",
       "1368                        100.0                        100.0   \n",
       "\n",
       "      Percentage of Rent Paid max         City        County  \n",
       "0                           100.0    Hollister    San Benito  \n",
       "133                         100.0      Fremont       Alameda  \n",
       "554                         100.0  Morgan Hill   Santa Clara  \n",
       "668                         100.0    Brentwood  Contra Costa  \n",
       "1368                        100.0  Watsonville    Santa Cruz  "
      ]
     },
     "execution_count": 130,
     "metadata": {},
     "output_type": "execute_result"
    }
   ],
   "source": [
    "by_property.head()"
   ]
  },
  {
   "cell_type": "code",
   "execution_count": 131,
   "metadata": {},
   "outputs": [],
   "source": [
    "by_property.to_csv(\"Eden_Properties.csv\")"
   ]
  },
  {
   "cell_type": "code",
   "execution_count": 132,
   "metadata": {},
   "outputs": [],
   "source": [
    "#get ride of multi index\n",
    "#by_property.columns = by_property.columns.map(' '.join)\n"
   ]
  },
  {
   "cell_type": "code",
   "execution_count": 163,
   "metadata": {},
   "outputs": [
    {
     "data": {
      "text/plain": [
       "<matplotlib.axes._subplots.AxesSubplot at 0x11ffb94e0>"
      ]
     },
     "execution_count": 163,
     "metadata": {},
     "output_type": "execute_result"
    },
    {
     "data": {
      "image/png": "[encoded data removed]",
      "text/plain": [
       "<Figure size 432x288 with 1 Axes>"
      ]
     },
     "metadata": {
      "needs_background": "light"
     },
     "output_type": "display_data"
    }
   ],
   "source": [
    "by_property['P e r c e n t a g e   o f   R e n t   P a i d   m e a n'].hist()"
   ]
  },
  {
   "cell_type": "code",
   "execution_count": 164,
   "metadata": {},
   "outputs": [],
   "source": [
    "monthly_percent_collected[\"CTYNAME\"] = monthly_percent_collected[\"County\"] + \" County\""
   ]
  },
  {
   "cell_type": "code",
   "execution_count": 165,
   "metadata": {},
   "outputs": [],
   "source": [
    "#need to map on FIPS code to be able to map data \n",
    "df_sample = pd.read_csv('https://raw.githubusercontent.com/plotly/datasets/master/minoritymajority.csv')\n",
    "df_sample_r = df_sample[df_sample['STNAME'] == 'California']"
   ]
  },
  {
   "cell_type": "code",
   "execution_count": 166,
   "metadata": {},
   "outputs": [],
   "source": [
    "df_sample_r = df_sample_r[[\"FIPS\",\"CTYNAME\"]]"
   ]
  },
  {
   "cell_type": "code",
   "execution_count": 167,
   "metadata": {},
   "outputs": [],
   "source": [
    "county_map = monthly_percent_collected.merge(df_sample_r,on=\"CTYNAME\",how=\"right\")"
   ]
  },
  {
   "cell_type": "code",
   "execution_count": 168,
   "metadata": {},
   "outputs": [],
   "source": [
    "county_map = county_map[[\"FIPS\",\"Percentage of Rent Paid\"]].rename(columns={\"FIPS\":\"id\",\"Percentage of Rent Paid\":\"rate\"})"
   ]
  },
  {
   "cell_type": "code",
   "execution_count": 169,
   "metadata": {},
   "outputs": [],
   "source": [
    "county_map['rate'] = county_map['rate'].fillna(0.1)"
   ]
  },
  {
   "cell_type": "code",
   "execution_count": 170,
   "metadata": {},
   "outputs": [],
   "source": [
    "county_map['rate'] = np.log2(county_map['rate'])"
   ]
  },
  {
   "cell_type": "code",
   "execution_count": 171,
   "metadata": {},
   "outputs": [],
   "source": [
    "county_map.to_csv(\"counties_map.csv\")"
   ]
  },
  {
   "cell_type": "code",
   "execution_count": 172,
   "metadata": {},
   "outputs": [],
   "source": [
    "from vega_datasets import data\n",
    "\n",
    "counties = alt.topo_feature(data.us_10m.url, 'counties')\n",
    "source = data.unemployment.url"
   ]
  },
  {
   "cell_type": "code",
   "execution_count": 173,
   "metadata": {},
   "outputs": [],
   "source": [
    "source = \"https://raw.githubusercontent.com/qunderriner/eden_rent_roll/main/counties_map.csv\""
   ]
  },
  {
   "cell_type": "code",
   "execution_count": null,
   "metadata": {},
   "outputs": [],
   "source": [
    "alt.Chart(counties).mark_geoshape().encode(\n",
    "    color='rate:Q'\n",
    ").transform_lookup(\n",
    "    lookup='id',\n",
    "    from_=alt.LookupData(source, 'id', ['rate'])\n",
    ").project(\n",
    "    type='albersUsa'\n",
    ").properties(\n",
    "    width=500,\n",
    "    height=300\n",
    ")"
   ]
  },
  {
   "cell_type": "markdown",
   "metadata": {},
   "source": [
    "Does subsidy status change over time?"
   ]
  },
  {
   "cell_type": "code",
   "execution_count": 175,
   "metadata": {},
   "outputs": [],
   "source": [
    "subsidized_filter = [x for x in df_final.columns if x.startswith('Is')]\n",
    "fixed_filer = [x for x in df_final.columns if x.startswith('Fixed Income?')]"
   ]
  },
  {
   "cell_type": "code",
   "execution_count": 176,
   "metadata": {},
   "outputs": [],
   "source": [
    "sub_status = df_final[subsidized_filter]"
   ]
  },
  {
   "cell_type": "code",
   "execution_count": 177,
   "metadata": {},
   "outputs": [],
   "source": [
    "fixed_status = df_final[fixed_filer]"
   ]
  },
  {
   "cell_type": "code",
   "execution_count": 178,
   "metadata": {},
   "outputs": [
    {
     "data": {
      "text/plain": [
       "SS        1416\n",
       "SSI        790\n",
       "SS/SSI     658\n",
       "Name: Fixed Income? 06/01/19 - 06/30/19, dtype: int64"
      ]
     },
     "execution_count": 178,
     "metadata": {},
     "output_type": "execute_result"
    }
   ],
   "source": [
    "fixed_status[\"Fixed Income? 06/01/19 - 06/30/19\"].value_counts()"
   ]
  },
  {
   "cell_type": "code",
   "execution_count": 179,
   "metadata": {},
   "outputs": [],
   "source": [
    "fixed_status = fixed_status.replace({\"SS\": \"Yes\", \"SSI\": \"Yes\",\"SS/SSI\":\"Yes\"})"
   ]
  },
  {
   "cell_type": "code",
   "execution_count": 180,
   "metadata": {},
   "outputs": [
    {
     "data": {
      "text/plain": [
       "0.04409997596731555"
      ]
     },
     "execution_count": 180,
     "metadata": {},
     "output_type": "execute_result"
    }
   ],
   "source": [
    "(sub_status.dropna(axis=0, how='all').shape[0] - sub_status.dropna(axis=0, how='any').shape[0])/sub_status.shape[0]"
   ]
  },
  {
   "cell_type": "code",
   "execution_count": 181,
   "metadata": {},
   "outputs": [
    {
     "data": {
      "text/plain": [
       "0.12100456621004566"
      ]
     },
     "execution_count": 181,
     "metadata": {},
     "output_type": "execute_result"
    }
   ],
   "source": [
    "(fixed_status.dropna(axis=0, how='all').shape[0] - fixed_status.dropna(axis=0, how='any').shape[0])/fixed_status.shape[0]"
   ]
  },
  {
   "cell_type": "markdown",
   "metadata": {},
   "source": [
    "6.3 percent of people have a change of housing subsidy status at some point in the dataset. 12.4 percent of people have a change of SS/SSI status. "
   ]
  },
  {
   "cell_type": "markdown",
   "metadata": {},
   "source": [
    "Q: “(was there more of a drop off [in number of tenants who have moved out]) this year compared to last? Were those dropoffs more concentrated in a certain month?)”"
   ]
  },
  {
   "cell_type": "code",
   "execution_count": 182,
   "metadata": {},
   "outputs": [],
   "source": [
    "#rerun this function without dropping the period column. I ran this all in a seperate notebook, but wanted\n",
    "#the code in the same place \n",
    "def read_in2(file,sheet):\n",
    "    \"\"\"\n",
    "    inputs:\n",
    "        file (str): filepath of excel file\n",
    "        sheet (str): name of sheet in excel sheet\n",
    "    returns:\n",
    "        df (dataframe)\n",
    "    Read in data from a given excel sheet, do some cleaning and then \n",
    "    make new column names that adds the date for financial transaction \n",
    "    and drops the rest of the data. \n",
    "    \"\"\"\n",
    "    df = pd.read_excel(file,sheet_name =sheet)\n",
    "    new_header = df.iloc[4] #grab the forth row for the header\n",
    "    df = df[5:] #take the data less the blank rows\n",
    "    df.columns = new_header\n",
    "    df = df[:-2]#drop bottom two rows, which contain summary info\n",
    "    df = df.reset_index().drop(columns=[\"index\"])\n",
    "    df = df[['Tenant Lease Charge','Is Subsidized?', 'Fixed Income?', 'Tenant Rent Collected',\n",
    "             'Percent Collected',\"Period\",\"Tenant\"]]\n",
    "    df = df.rename(columns={\"Tenant Lease Charge\":\"Tenant Lease Charge\"+\" \"+df[\"Period\"][5],\n",
    "                   \"Tenant Rent Collected\":\"Tenant Rent Charge\"+\" \"+df[\"Period\"][5],\n",
    "                  \"Percent Collected\":\"Tenant Percent Collected\"+\" \"+df[\"Period\"][5],\n",
    "                   'Is Subsidized?':\"Is Subsidized?\"+\" \"+df[\"Period\"][5], \n",
    "                    'Fixed Income?':\"Fixed Income?\"+\" \"+df[\"Period\"][5]}) \n",
    "    #df = df.drop(columns={\"Period\"})\n",
    "    return df"
   ]
  },
  {
   "cell_type": "code",
   "execution_count": 183,
   "metadata": {},
   "outputs": [],
   "source": [
    "df = read_in_check_status(file2,may19_sept19[0])\n",
    "\n",
    "df_list = [df, read_in2(file2,may19_sept19[1]),\n",
    "           read_in2(file2,may19_sept19[2]),\n",
    "           read_in2(file2,may19_sept19[3]),\n",
    "           read_in2(file2,may19_sept19[4]),\n",
    "           read_in2(file1,may2020_sept2020[0]),\n",
    "           read_in2(file1,may2020_sept2020[1]),\n",
    "           read_in2(file1,may2020_sept2020[2]),\n",
    "           read_in2(file1,may2020_sept2020[3]),\n",
    "           read_in2(file1,may2020_sept2020[4])]"
   ]
  },
  {
   "cell_type": "code",
   "execution_count": 185,
   "metadata": {},
   "outputs": [
    {
     "name": "stdout",
     "output_type": "stream",
     "text": [
      "05/31/19 9504\n",
      "06/30/19 9504\n",
      "07/31/19 9504\n",
      "08/31/19 9504\n",
      "09/30/19 9504\n",
      "05/31/20 9362\n",
      "06/30/20 9372\n",
      "07/31/20 9391\n",
      "08/31/20 9502\n",
      "09/30/20 9501\n"
     ]
    }
   ],
   "source": [
    "#get total number of people in units \n",
    "for i in range(len(df_list)):\n",
    "    date = df_list[i][\"Period\"][0][-8:]\n",
    "    \n",
    "    print(date,len(df_list[i]))"
   ]
  },
  {
   "cell_type": "code",
   "execution_count": 186,
   "metadata": {},
   "outputs": [
    {
     "name": "stdout",
     "output_type": "stream",
     "text": [
      "06/30/19 0\n",
      "07/31/19 0\n",
      "08/31/19 0\n",
      "09/30/19 0\n",
      "05/31/20 439\n",
      "06/30/20 39\n",
      "07/31/20 78\n",
      "08/31/20 185\n",
      "09/30/20 1\n"
     ]
    }
   ],
   "source": [
    "#set difference figures \n",
    "last_period = set(df_list[0][\"Tenant\"].unique())\n",
    "for i in range(len(df_list)):\n",
    "    date = df_list[i][\"Period\"][0][-8:]\n",
    "    if i !=0:\n",
    "        last_period = set(df_list[i-1][\"Tenant\"].unique())\n",
    "        this_period = set(df_list[i][\"Tenant\"].unique())\n",
    "        print(date,len(last_period.difference(this_period)))"
   ]
  },
  {
   "cell_type": "markdown",
   "metadata": {},
   "source": [
    "Analysis of new properties "
   ]
  },
  {
   "cell_type": "code",
   "execution_count": null,
   "metadata": {},
   "outputs": [],
   "source": [
    "check_if_good = pd.read_csv(\"Inital_eden_rent_roll_data_19-20_v2.csv\")"
   ]
  },
  {
   "cell_type": "code",
   "execution_count": null,
   "metadata": {},
   "outputs": [],
   "source": [
    "all_hands_on_the_bad_ones = ['Stone Pine Meadows','Quail Run Apartments','Lincoln Corner Apartments',\n",
    "'Vacaville Meadows Drive','Orchard/Maples Apartments','Willows Apartments',\n",
    "'Highlands Apartments', 'Hillside Senior Apartments']"
   ]
  },
  {
   "cell_type": "code",
   "execution_count": null,
   "metadata": {},
   "outputs": [],
   "source": [
    "len(all_hands_on_the_bad_ones)"
   ]
  },
  {
   "cell_type": "code",
   "execution_count": null,
   "metadata": {},
   "outputs": [],
   "source": [
    "check_if_good = check_if_good[check_if_good[\"Property Name\"].isin(all_hands_on_the_bad_ones)]"
   ]
  },
  {
   "cell_type": "code",
   "execution_count": null,
   "metadata": {},
   "outputs": [],
   "source": [
    "fixed_cols_test = ['Property', 'Property Name', 'City', 'County']\n",
    "percent_collected_test = [num for num in check_if_good.columns if (\"Percent\") in num]\n",
    "collect_test = fixed_cols_test + percent_collected_test\n",
    "df_test = check_if_good[collect_test]"
   ]
  },
  {
   "cell_type": "code",
   "execution_count": null,
   "metadata": {},
   "outputs": [],
   "source": [
    "#we lost 742 records if we drop all hands on the bad one. \n",
    "len(df_test.round(2))"
   ]
  },
  {
   "cell_type": "code",
   "execution_count": null,
   "metadata": {},
   "outputs": [],
   "source": [
    "len(check_if_good1)"
   ]
  }
 ],
 "metadata": {
  "kernelspec": {
   "display_name": "Python 3",
   "language": "python",
   "name": "python3"
  },
  "language_info": {
   "codemirror_mode": {
    "name": "ipython",
    "version": 3
   },
   "file_extension": ".py",
   "mimetype": "text/x-python",
   "name": "python",
   "nbconvert_exporter": "python",
   "pygments_lexer": "ipython3",
   "version": "3.7.2"
  }
 },
 "nbformat": 4,
 "nbformat_minor": 2
}
