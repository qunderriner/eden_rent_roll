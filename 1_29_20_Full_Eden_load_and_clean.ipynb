{
 "cells": [
  {
   "cell_type": "markdown",
   "metadata": {},
   "source": [
    "### This file loads, merges and cleans Eden Tenant Data "
   ]
  },
  {
   "cell_type": "code",
   "execution_count": 1,
   "metadata": {},
   "outputs": [],
   "source": [
    "import pandas as pd\n",
    "import numpy as np\n",
    "import os\n",
    "import xlrd\n",
    "import re\n",
    "from functools import reduce\n",
    "from itertools import groupby\n",
    "from matplotlib import pyplot as plt\n",
    "import pandas_dedupe\n",
    "plt.show()\n",
    "import seaborn as sns; sns.set()\n",
    "import altair as alt\n",
    "alt.data_transformers.disable_max_rows()\n",
    "import warnings\n",
    "warnings.filterwarnings('ignore')\n",
    "from fuzzywuzzy import fuzz\n",
    "pd.options.display.float_format = '{:}'.format #get rid of scientific notation \n",
    "\n",
    "import eden_data_functions #this .py file holds the majority of the functions for this analysis \n",
    "pd.set_option('display.max_columns', None)\n",
    "%load_ext autoreload\n",
    "%autoreload 2"
   ]
  },
  {
   "cell_type": "markdown",
   "metadata": {},
   "source": [
    "Get and clean sheet names from excel files"
   ]
  },
  {
   "cell_type": "code",
   "execution_count": 5,
   "metadata": {},
   "outputs": [],
   "source": [
    "may2020_sept2020_location = \"/Users/quinnunderriner/Desktop/Work/eden_rent_roll/TenantLeasePayments_Trending_(Active)_May_2020_Sept_2020.xlsx\"\n",
    "may2019_sept2019_location = \"/Users/quinnunderriner/Desktop/Work/eden_rent_roll/Tenant_Lease_Payments_May 2019_Sept_2019.xlsx\"\n",
    "\n",
    "other_months_2020_location = \"/Users/quinnunderriner/Desktop/Work/eden_rent_roll/Eden_2020_ Tenant_Lease_Payments_.zactive.xlsx\"\n",
    "other_months_2019_location = \"/Users/quinnunderriner/Desktop/Work/eden_rent_roll/Eden_2019_ Tenant_Lease_Payments_.zactive.xlsx\""
   ]
  },
  {
   "cell_type": "code",
   "execution_count": 12,
   "metadata": {},
   "outputs": [],
   "source": [
    "may2020_sept2020_sheet_names = eden_data_functions.get_sheet_names(may2020_sept2020_location)\n",
    "may2019_sept2019_sheet_names = eden_data_functions.get_sheet_names(may2019_sept2019_location)\n",
    "other_months_2020_sheet_names = eden_data_functions.get_sheet_names(other_months_2020_location)\n",
    "other_months_2019_sheet_names = eden_data_functions.get_sheet_names(other_months_2019_location)\n",
    "\n",
    "# need to drop data from earlier in months where we have double data (e.g., May 10,15 and May 31, keeping just end of month)\n",
    "may2020_sept2020_sheet_names = [x for x in may2020_sept2020_sheet_names if not \"15\" in x]\n",
    "may2020_sept2020_sheet_names = [x for x in may2020_sept2020_sheet_names if not \"10\" in x]"
   ]
  },
  {
   "cell_type": "markdown",
   "metadata": {},
   "source": [
    "Load in and merge data "
   ]
  },
  {
   "cell_type": "code",
   "execution_count": 42,
   "metadata": {},
   "outputs": [],
   "source": [
    "first_month = eden_data_functions.read_in_check_status(other_months_2019_location,other_months_2019_sheet_names[0]) \n",
    "\n",
    "full_data = [first_month, eden_data_functions.read_in(other_months_2019_location,other_months_2019_sheet_names[1]),\n",
    "           eden_data_functions.read_in(other_months_2019_location,other_months_2019_sheet_names[2]),\n",
    "           eden_data_functions.read_in(other_months_2019_location,other_months_2019_sheet_names[3]),\n",
    "           eden_data_functions.read_in(may2019_sept2019_location,may2019_sept2019_sheet_names[0]),\n",
    "           eden_data_functions.read_in(may2019_sept2019_location,may2019_sept2019_sheet_names[1]),\n",
    "           eden_data_functions.read_in(may2019_sept2019_location,may2019_sept2019_sheet_names[2]),\n",
    "           eden_data_functions.read_in(may2019_sept2019_location,may2019_sept2019_sheet_names[3]),\n",
    "           eden_data_functions.read_in(may2019_sept2019_location,may2019_sept2019_sheet_names[4]),\n",
    "           eden_data_functions.read_in(other_months_2019_location,other_months_2019_sheet_names[4]),\n",
    "           eden_data_functions.read_in(other_months_2019_location,other_months_2019_sheet_names[5]),\n",
    "           eden_data_functions.read_in(other_months_2019_location,other_months_2019_sheet_names[6]),\n",
    "           #2020\n",
    "           eden_data_functions.read_in(other_months_2020_location,other_months_2020_sheet_names[1]),\n",
    "           eden_data_functions.read_in(other_months_2020_location,other_months_2020_sheet_names[1]),\n",
    "           eden_data_functions.read_in(other_months_2020_location,other_months_2020_sheet_names[2]),\n",
    "           eden_data_functions.read_in(other_months_2020_location,other_months_2020_sheet_names[3]),\n",
    "           eden_data_functions.read_in(may2020_sept2020_location,may2020_sept2020_sheet_names[0]),\n",
    "           eden_data_functions.read_in(may2020_sept2020_location,may2020_sept2020_sheet_names[1]),\n",
    "           eden_data_functions.read_in(may2020_sept2020_location,may2020_sept2020_sheet_names[2]),\n",
    "           eden_data_functions.read_in(may2020_sept2020_location,may2020_sept2020_sheet_names[3]),\n",
    "           eden_data_functions.read_in(may2020_sept2020_location,may2020_sept2020_sheet_names[4]),\n",
    "           eden_data_functions.read_in(other_months_2020_location,other_months_2020_sheet_names[4]),\n",
    "           eden_data_functions.read_in(other_months_2020_location,other_months_2020_sheet_names[5]),\n",
    "           eden_data_functions.read_in(other_months_2020_location,other_months_2020_sheet_names[6])]"
   ]
  },
  {
   "cell_type": "code",
   "execution_count": 198,
   "metadata": {},
   "outputs": [
    {
     "data": {
      "text/plain": [
       "(7810,)"
      ]
     },
     "execution_count": 198,
     "metadata": {},
     "output_type": "execute_result"
    }
   ],
   "source": [
    "full_eden.Name.unique().shape"
   ]
  },
  {
   "cell_type": "code",
   "execution_count": 43,
   "metadata": {},
   "outputs": [],
   "source": [
    "#This lambda function then merges all the dataframes from df_list together \n",
    "full_eden = reduce(lambda left,right: pd.merge(left,right,on='key'), full_data)"
   ]
  },
  {
   "cell_type": "markdown",
   "metadata": {},
   "source": [
    "Here I'm calling a preliminary cleaning function. It removes employee units as well as units that were not completed for the entirity of 2019-2020 (found by looking at Eden's website for properties with high vacencies in the data)"
   ]
  },
  {
   "cell_type": "code",
   "execution_count": 67,
   "metadata": {},
   "outputs": [],
   "source": [
    "full_eden = eden_data_functions.filter_eden_rent_roll(full_eden)\n",
    "#full_eden.to_csv(\"wide_eden_rental_dataset.csv\")"
   ]
  },
  {
   "cell_type": "code",
   "execution_count": 172,
   "metadata": {},
   "outputs": [],
   "source": [
    "#read in Eden residents to see if can match \n",
    "eden_residents = pd.read_csv(\"Eden2018_2019residents.csv\")"
   ]
  },
  {
   "cell_type": "code",
   "execution_count": 122,
   "metadata": {},
   "outputs": [],
   "source": [
    "#clean the data ADD FUNCTION HEADERS \n",
    "df_tenants_clean = eden_data_functions.clean_names(full_eden,\"Name\",\"Tenant\")\n",
    "eden_residents_clean = eden_data_functions.clean_names(eden_residents,\"Member_Name\",\"Tenant_Code\",eden_tenants=False)"
   ]
  },
  {
   "cell_type": "code",
   "execution_count": 174,
   "metadata": {},
   "outputs": [],
   "source": [
    "#filter eden residents by dropping duplicates, data that only exits in 2018, and those that are not heads of households\n",
    "eden_residents_clean = eden_data_functions.filter_eden_resident(eden_residents_clean)"
   ]
  },
  {
   "cell_type": "code",
   "execution_count": 181,
   "metadata": {},
   "outputs": [
    {
     "data": {
      "text/plain": [
       "4058"
      ]
     },
     "execution_count": 181,
     "metadata": {},
     "output_type": "execute_result"
    }
   ],
   "source": [
    "eden_merged = df_tenants_clean.merge(eden_residents_clean,on=\"Match\",how=\"inner\")\n",
    "#without fuzzy matching, but after fixing location names, we get 4058 matched records \n",
    "len(eden_merged)"
   ]
  },
  {
   "cell_type": "code",
   "execution_count": 225,
   "metadata": {},
   "outputs": [],
   "source": [
    "#pd.set_option('display.max_rows', 8000) # we can manually inspect the match ratio if we reset rows we can see\n",
    "merge_table_big = calc_matches(df_tenants_clean,eden_residents_clean)\n"
   ]
  },
  {
   "cell_type": "code",
   "execution_count": 185,
   "metadata": {},
   "outputs": [
    {
     "data": {
      "text/plain": [
       "<matplotlib.axes._subplots.AxesSubplot at 0x138469b70>"
      ]
     },
     "execution_count": 185,
     "metadata": {},
     "output_type": "execute_result"
    },
    {
     "data": {
      "image/png": "[encoded data removed]",
      "text/plain": [
       "<Figure size 432x288 with 1 Axes>"
      ]
     },
     "metadata": {
      "needs_background": "light"
     },
     "output_type": "display_data"
    }
   ],
   "source": [
    "#examine distribution of match scores \n",
    "%matplotlib inline\n",
    "merge_table_big.score.hist()"
   ]
  },
  {
   "cell_type": "code",
   "execution_count": 218,
   "metadata": {},
   "outputs": [],
   "source": [
    "#merge data now using fuzzy matching \n",
    "eden_merged_fuzzy = eden_data_functions.keep_high_scores_and_merge(df_tenants_clean,eden_residents_clean,merge_table_big)"
   ]
  },
  {
   "cell_type": "code",
   "execution_count": 219,
   "metadata": {},
   "outputs": [],
   "source": [
    "# drop and rename cols post merge \n",
    "eden_merged_fuzzy = eden_data_functions.drop_cols_post_merge(eden_merged_fuzzy)"
   ]
  },
  {
   "cell_type": "code",
   "execution_count": 216,
   "metadata": {},
   "outputs": [
    {
     "data": {
      "text/plain": [
       "4046"
      ]
     },
     "execution_count": 216,
     "metadata": {},
     "output_type": "execute_result"
    }
   ],
   "source": [
    "#now we have 4046 Matches \n",
    "eden_merged_fuzzy.Match.nunique()"
   ]
  },
  {
   "cell_type": "code",
   "execution_count": 221,
   "metadata": {},
   "outputs": [],
   "source": [
    "#eden_merged_fuzzy.to_csv(\"2_1_21_Eden_Residents_Matched.csv\")"
   ]
  },
  {
   "cell_type": "code",
   "execution_count": 299,
   "metadata": {},
   "outputs": [],
   "source": []
  },
  {
   "cell_type": "code",
   "execution_count": 300,
   "metadata": {},
   "outputs": [],
   "source": [
    "eden_row_level = eden_data_functions.melt_rows(eden_merged_fuzzy)"
   ]
  },
  {
   "cell_type": "code",
   "execution_count": 305,
   "metadata": {},
   "outputs": [
    {
     "data": {
      "text/plain": [
       "<matplotlib.axes._subplots.AxesSubplot at 0x15d4b5390>"
      ]
     },
     "execution_count": 305,
     "metadata": {},
     "output_type": "execute_result"
    },
    {
     "data": {
      "image/png": "[encoded data removed]",
      "text/plain": [
       "<Figure size 432x288 with 1 Axes>"
      ]
     },
     "metadata": {
      "needs_background": "light"
     },
     "output_type": "display_data"
    }
   ],
   "source": [
    "#clearly need to drop some outliers \n",
    "eden_row_level[\"Tenant Percent Collected\"].hist()"
   ]
  },
  {
   "cell_type": "code",
   "execution_count": 316,
   "metadata": {},
   "outputs": [
    {
     "data": {
      "text/plain": [
       "235"
      ]
     },
     "execution_count": 316,
     "metadata": {},
     "output_type": "execute_result"
    }
   ],
   "source": [
    "#removing payment percentages greater than or less than 500 drops 235 of the ~90k entries \n",
    "len(eden_row_level) - len(eden_row_level[(eden_row_level[\"Tenant Percent Collected\"]>-400)&(eden_row_level[\"Tenant Percent Collected\"]<400)])"
   ]
  },
  {
   "cell_type": "code",
   "execution_count": 312,
   "metadata": {},
   "outputs": [],
   "source": [
    "eden_row_level = eden_row_level[(eden_row_level[\"Tenant Percent Collected\"]>-500)&(eden_row_level[\"Tenant Percent Collected\"]<500)]"
   ]
  },
  {
   "cell_type": "code",
   "execution_count": 317,
   "metadata": {},
   "outputs": [
    {
     "data": {
      "text/plain": [
       "<matplotlib.axes._subplots.AxesSubplot at 0x16c96b2b0>"
      ]
     },
     "execution_count": 317,
     "metadata": {},
     "output_type": "execute_result"
    },
    {
     "data": {
      "image/png": "[encoded data removed]",
      "text/plain": [
       "<Figure size 432x288 with 1 Axes>"
      ]
     },
     "metadata": {
      "needs_background": "light"
     },
     "output_type": "display_data"
    }
   ],
   "source": [
    "eden_row_level[\"Tenant Percent Collected\"].hist()"
   ]
  },
  {
   "cell_type": "code",
   "execution_count": 318,
   "metadata": {},
   "outputs": [],
   "source": [
    "eden_row_level.to_csv(\"2_1_21_eden_row_level_data.csv\")"
   ]
  }
 ],
 "metadata": {
  "kernelspec": {
   "display_name": "Python 3",
   "language": "python",
   "name": "python3"
  },
  "language_info": {
   "codemirror_mode": {
    "name": "ipython",
    "version": 3
   },
   "file_extension": ".py",
   "mimetype": "text/x-python",
   "name": "python",
   "nbconvert_exporter": "python",
   "pygments_lexer": "ipython3",
   "version": "3.7.2"
  }
 },
 "nbformat": 4,
 "nbformat_minor": 2
}
