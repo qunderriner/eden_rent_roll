{
 "cells": [
  {
   "cell_type": "markdown",
   "metadata": {},
   "source": [
    "### This file loads, merges and cleans Eden Tenant Data "
   ]
  },
  {
   "cell_type": "code",
   "execution_count": 1,
   "metadata": {},
   "outputs": [],
   "source": [
    "import pandas as pd\n",
    "import numpy as np\n",
    "import os\n",
    "import xlrd\n",
    "import re\n",
    "from functools import reduce\n",
    "from itertools import groupby\n",
    "from matplotlib import pyplot as plt\n",
    "import pandas_dedupe\n",
    "plt.show()\n",
    "import seaborn as sns; sns.set()\n",
    "import altair as alt\n",
    "alt.data_transformers.disable_max_rows()\n",
    "import warnings\n",
    "warnings.filterwarnings('ignore')\n",
    "from fuzzywuzzy import fuzz\n",
    "pd.options.display.float_format = '{:}'.format #get rid of scientific notation \n",
    "\n",
    "import eden_data_functions #this .py file holds the majority of the functions for this analysis \n",
    "pd.set_option('display.max_columns', None)\n",
    "%load_ext autoreload\n",
    "%autoreload 2"
   ]
  },
  {
   "cell_type": "markdown",
   "metadata": {},
   "source": [
    "Get and clean sheet names from excel files"
   ]
  },
  {
   "cell_type": "code",
   "execution_count": 5,
   "metadata": {},
   "outputs": [],
   "source": [
    "may2020_sept2020_location = \"/Users/quinnunderriner/Desktop/Work/eden_rent_roll/TenantLeasePayments_Trending_(Active)_May_2020_Sept_2020.xlsx\"\n",
    "may2019_sept2019_location = \"/Users/quinnunderriner/Desktop/Work/eden_rent_roll/Tenant_Lease_Payments_May 2019_Sept_2019.xlsx\"\n",
    "\n",
    "other_months_2020_location = \"/Users/quinnunderriner/Desktop/Work/eden_rent_roll/Eden_2020_ Tenant_Lease_Payments_.zactive.xlsx\"\n",
    "other_months_2019_location = \"/Users/quinnunderriner/Desktop/Work/eden_rent_roll/Eden_2019_ Tenant_Lease_Payments_.zactive.xlsx\""
   ]
  },
  {
   "cell_type": "code",
   "execution_count": 12,
   "metadata": {},
   "outputs": [],
   "source": [
    "may2020_sept2020_sheet_names = eden_data_functions.get_sheet_names(may2020_sept2020_location)\n",
    "may2019_sept2019_sheet_names = eden_data_functions.get_sheet_names(may2019_sept2019_location)\n",
    "other_months_2020_sheet_names = eden_data_functions.get_sheet_names(other_months_2020_location)\n",
    "other_months_2019_sheet_names = eden_data_functions.get_sheet_names(other_months_2019_location)\n",
    "\n",
    "# need to drop data from earlier in months where we have double data (e.g., May 10,15 and May 31, keeping just end of month)\n",
    "may2020_sept2020_sheet_names = [x for x in may2020_sept2020_sheet_names if not \"15\" in x]\n",
    "may2020_sept2020_sheet_names = [x for x in may2020_sept2020_sheet_names if not \"10\" in x]"
   ]
  },
  {
   "cell_type": "markdown",
   "metadata": {},
   "source": [
    "Load in and merge data "
   ]
  },
  {
   "cell_type": "code",
   "execution_count": 42,
   "metadata": {},
   "outputs": [],
   "source": [
    "first_month = eden_data_functions.read_in_check_status(other_months_2019_location,other_months_2019_sheet_names[0]) \n",
    "\n",
    "full_data = [first_month, eden_data_functions.read_in(other_months_2019_location,other_months_2019_sheet_names[1]),\n",
    "           eden_data_functions.read_in(other_months_2019_location,other_months_2019_sheet_names[2]),\n",
    "           eden_data_functions.read_in(other_months_2019_location,other_months_2019_sheet_names[3]),\n",
    "           eden_data_functions.read_in(may2019_sept2019_location,may2019_sept2019_sheet_names[0]),\n",
    "           eden_data_functions.read_in(may2019_sept2019_location,may2019_sept2019_sheet_names[1]),\n",
    "           eden_data_functions.read_in(may2019_sept2019_location,may2019_sept2019_sheet_names[2]),\n",
    "           eden_data_functions.read_in(may2019_sept2019_location,may2019_sept2019_sheet_names[3]),\n",
    "           eden_data_functions.read_in(may2019_sept2019_location,may2019_sept2019_sheet_names[4]),\n",
    "           eden_data_functions.read_in(other_months_2019_location,other_months_2019_sheet_names[4]),\n",
    "           eden_data_functions.read_in(other_months_2019_location,other_months_2019_sheet_names[5]),\n",
    "           eden_data_functions.read_in(other_months_2019_location,other_months_2019_sheet_names[6]),\n",
    "           #2020\n",
    "           eden_data_functions.read_in(other_months_2020_location,other_months_2020_sheet_names[1]),\n",
    "           eden_data_functions.read_in(other_months_2020_location,other_months_2020_sheet_names[1]),\n",
    "           eden_data_functions.read_in(other_months_2020_location,other_months_2020_sheet_names[2]),\n",
    "           eden_data_functions.read_in(other_months_2020_location,other_months_2020_sheet_names[3]),\n",
    "           eden_data_functions.read_in(may2020_sept2020_location,may2020_sept2020_sheet_names[0]),\n",
    "           eden_data_functions.read_in(may2020_sept2020_location,may2020_sept2020_sheet_names[1]),\n",
    "           eden_data_functions.read_in(may2020_sept2020_location,may2020_sept2020_sheet_names[2]),\n",
    "           eden_data_functions.read_in(may2020_sept2020_location,may2020_sept2020_sheet_names[3]),\n",
    "           eden_data_functions.read_in(may2020_sept2020_location,may2020_sept2020_sheet_names[4]),\n",
    "           eden_data_functions.read_in(other_months_2020_location,other_months_2020_sheet_names[4]),\n",
    "           eden_data_functions.read_in(other_months_2020_location,other_months_2020_sheet_names[5]),\n",
    "           eden_data_functions.read_in(other_months_2020_location,other_months_2020_sheet_names[6])]"
   ]
  },
  {
   "cell_type": "code",
   "execution_count": 43,
   "metadata": {},
   "outputs": [],
   "source": [
    "#This lambda function then merges all the dataframes from df_list together \n",
    "full_eden = reduce(lambda left,right: pd.merge(left,right,on='key'), full_data)"
   ]
  },
  {
   "cell_type": "markdown",
   "metadata": {},
   "source": [
    "Here I'm calling a preliminary cleaning function. It removes employee units as well as units that were not completed for the entirity of 2019-2020 (found by looking at Eden's website for properties with high vacencies in the data)"
   ]
  },
  {
   "cell_type": "code",
   "execution_count": 65,
   "metadata": {},
   "outputs": [],
   "source": [
    "def filter_eden_rent_roll(df):\n",
    "    \"\"\"\n",
    "    this function removes employee units as well as units that were not completed for the entirity of 2019-2020 \n",
    "    (found by looking at Eden's website for properties with high vacencies in the data)\n",
    "    \"\"\"\n",
    "    df = df.drop(columns=[\"Period\"]) #drop col we dont need anymore \n",
    "    searchfor = [\"employee\",\"manager\"]\n",
    "    df = df[~df.key.str.lower().str.contains('|'.join(searchfor))]\n",
    "    all_hands_on_the_bad_ones = ['Stone Pine Meadows','Quail Run Apartments','Lincoln Corner Apartments',\n",
    "    'Vacaville Meadows Drive','Orchard/Maples Apartments','Willows Apartments',\n",
    "    'Highlands Apartments', 'Hillside Senior Apartments']\n",
    "    df = df[~df[\"Property\"].isin(all_hands_on_the_bad_ones)]\n",
    "    return df "
   ]
  },
  {
   "cell_type": "code",
   "execution_count": 67,
   "metadata": {},
   "outputs": [],
   "source": [
    "full_eden = eden_data_functions.filter_eden_rent_roll(full_eden)\n",
    "#full_eden.to_csv(\"wide_eden_rental_dataset.csv\")"
   ]
  },
  {
   "cell_type": "code",
   "execution_count": 54,
   "metadata": {},
   "outputs": [],
   "source": [
    "#read in Eden residents to see if can match \n",
    "eden_residents = pd.read_csv(\"Eden2018_2019residents.csv\")"
   ]
  },
  {
   "cell_type": "code",
   "execution_count": 75,
   "metadata": {},
   "outputs": [],
   "source": [
    "#clean the data ADD FUNCTION HEADERS \n",
    "df_tenants_clean = eden_data_functions.clean_names(full_eden,\"Name\",\"Tenant\")\n",
    "eden_residents_clean = eden_data_functions.clean_names(eden_residents,\"Member_Name\",\"Tenant_Code\",eden_tenants=False)"
   ]
  },
  {
   "cell_type": "code",
   "execution_count": 78,
   "metadata": {},
   "outputs": [],
   "source": [
    "#filter eden residents by dropping duplicates, data that only exits in 2018, and those that are not heads of households\n",
    "eden_residents_clean = eden_data_functions.filter_eden_resident(eden_residents_clean)"
   ]
  }
 ],
 "metadata": {
  "kernelspec": {
   "display_name": "Python 3",
   "language": "python",
   "name": "python3"
  },
  "language_info": {
   "codemirror_mode": {
    "name": "ipython",
    "version": 3
   },
   "file_extension": ".py",
   "mimetype": "text/x-python",
   "name": "python",
   "nbconvert_exporter": "python",
   "pygments_lexer": "ipython3",
   "version": "3.7.2"
  }
 },
 "nbformat": 4,
 "nbformat_minor": 2
}
