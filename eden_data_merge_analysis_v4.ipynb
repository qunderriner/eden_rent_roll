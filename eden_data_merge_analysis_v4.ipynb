{
 "cells": [
  {
   "cell_type": "code",
   "execution_count": 1,
   "metadata": {},
   "outputs": [],
   "source": [
    "import pandas as pd\n",
    "import numpy as np\n",
    "import os\n",
    "import xlrd\n",
    "from functools import reduce\n",
    "from itertools import groupby\n",
    "from matplotlib import pyplot as plt\n",
    "plt.show()\n",
    "import seaborn as sns; sns.set()\n",
    "import altair as alt\n",
    "alt.data_transformers.disable_max_rows()\n",
    "import warnings\n",
    "warnings.filterwarnings('ignore')"
   ]
  },
  {
   "cell_type": "markdown",
   "metadata": {},
   "source": [
    "To read in these massive excel files first want to extract names of sheets"
   ]
  },
  {
   "cell_type": "code",
   "execution_count": 2,
   "metadata": {},
   "outputs": [],
   "source": [
    "file1 = \"/Users/quinnunderriner/Desktop/Work/eden_rent_roll/TenantLeasePayments_Trending_(Active)_May_2020_Sept_2020.xlsx\"\n",
    "file2 = \"/Users/quinnunderriner/Desktop/Work/eden_rent_roll/Tenant_Lease_Payments_May 2019_Sept_2019.xlsx\""
   ]
  },
  {
   "cell_type": "code",
   "execution_count": 3,
   "metadata": {},
   "outputs": [],
   "source": [
    "xls = xlrd.open_workbook(file1, on_demand=True)\n",
    "may2020_sept2020 = xls.sheet_names()\n",
    "may2020_sept2020 = [x for x in may2020_sept2020 if not x.endswith('Summary')] #we want to drop summary tabs "
   ]
  },
  {
   "cell_type": "code",
   "execution_count": 4,
   "metadata": {},
   "outputs": [],
   "source": [
    "# need to drop data from earlier in months where we have double data \n",
    "may2020_sept2020 = [x for x in may2020_sept2020 if not \"15\" in x]\n",
    "may2020_sept2020 = [x for x in may2020_sept2020 if not \"10\" in x]\n"
   ]
  },
  {
   "cell_type": "code",
   "execution_count": 5,
   "metadata": {},
   "outputs": [],
   "source": [
    "xls2 = xlrd.open_workbook(file2, on_demand=True)\n",
    "may19_sept19 = xls2.sheet_names()"
   ]
  },
  {
   "cell_type": "code",
   "execution_count": 6,
   "metadata": {},
   "outputs": [],
   "source": [
    "def read_in(file,sheet):\n",
    "    \"\"\"\n",
    "    inputs:\n",
    "        file (str): filepath of excel file\n",
    "        sheet (str): name of sheet in excel sheet\n",
    "    returns:\n",
    "        df (dataframe)\n",
    "    Read in data from a given excel sheet, do some cleaning and then \n",
    "    make new column names that adds the date for financial transaction \n",
    "    and drops the rest of the data. \n",
    "    \"\"\"\n",
    "    df = pd.read_excel(file,sheet_name =sheet)\n",
    "    new_header = df.iloc[4] #grab the forth row for the header\n",
    "    df = df[5:] #take the data less the blank rows\n",
    "    df.columns = new_header\n",
    "    df = df[:-2]#drop bottom two rows, which contain summary info\n",
    "    df = df.reset_index().drop(columns=[\"index\"])\n",
    "    df = df[['Tenant Lease Charge','Is Subsidized?', 'Fixed Income?', 'Tenant Rent Collected',\n",
    "             'Percent Collected',\"Period\",\"Tenant\"]]\n",
    "    df = df.rename(columns={\"Tenant Lease Charge\":\"Tenant Lease Charge\"+\" \"+df[\"Period\"][5],\n",
    "                   \"Tenant Rent Collected\":\"Tenant Rent Charge\"+\" \"+df[\"Period\"][5],\n",
    "                  \"Percent Collected\":\"Tenant Percent Collected\"+\" \"+df[\"Period\"][5],\n",
    "                   'Is Subsidized?':\"Is Subsidized?\"+\" \"+df[\"Period\"][5], \n",
    "                    'Fixed Income?':\"Fixed Income?\"+\" \"+df[\"Period\"][5]}) \n",
    "    df = df.drop(columns={\"Period\"})\n",
    "    return df"
   ]
  },
  {
   "cell_type": "code",
   "execution_count": 57,
   "metadata": {},
   "outputs": [],
   "source": [
    "def read_in_check_status(file,sheet):\n",
    "    \"\"\"\n",
    "    inputs:\n",
    "        file (str): filepath of excel file\n",
    "        sheet (str): name of sheet in excel sheet\n",
    "    returns:\n",
    "        df (dataframe)\n",
    "    Read in data from a given excel sheet, do some cleaning \n",
    "    \"\"\"\n",
    "    df = pd.read_excel(file,sheet_name =sheet)\n",
    "    new_header = df.iloc[4] #grab the forth row for the header\n",
    "    df = df[5:] #take the data less the blank rows\n",
    "    df.columns = new_header\n",
    "    df = df[:-2]#drop bottom two rows, which contain summary info\n",
    "    df = df.reset_index().drop(columns=[\"index\"])\n",
    "    df = df.rename(columns={\"Tenant Lease Charge\":\"Tenant Lease Charge\"+\" \"+df[\"Period\"][5],\n",
    "                   \"Tenant Rent Collected\":\"Tenant Rent Charge\"+\" \"+df[\"Period\"][5],\n",
    "                  \"Percent Collected\":\"Tenant Percent Collected\"+\" \"+df[\"Period\"][5]})\n",
    "\n",
    "    #df = df.drop(columns={\"Period\"})\n",
    "    return df"
   ]
  },
  {
   "cell_type": "code",
   "execution_count": 8,
   "metadata": {},
   "outputs": [],
   "source": [
    "def make_header(df):\n",
    "    \"\"\"\n",
    "    inputs:\n",
    "        df (dataframe)\n",
    "    returns:\n",
    "        df (dataframe)\n",
    "    do some basic cleanup of the header row \n",
    "    \"\"\"\n",
    "    new_header = df.iloc[4] #grab the forth row for the header\n",
    "    df = df[5:] #take the data less the blank rows\n",
    "    df.columns = new_header\n",
    "    return df"
   ]
  },
  {
   "cell_type": "code",
   "execution_count": 58,
   "metadata": {},
   "outputs": [],
   "source": [
    "#read in the correct sheets from all files calling read_in function \n",
    "df = read_in_check_status(file2,may19_sept19[0])\n",
    "\n",
    "df_list = [df, read_in(file2,may19_sept19[1]),\n",
    "           read_in(file2,may19_sept19[2]),\n",
    "           read_in(file2,may19_sept19[3]),\n",
    "           read_in(file2,may19_sept19[4]),\n",
    "           read_in(file1,may2020_sept2020[0]),\n",
    "           read_in(file1,may2020_sept2020[1]),\n",
    "           read_in(file1,may2020_sept2020[2]),\n",
    "           read_in(file1,may2020_sept2020[3]),\n",
    "           read_in(file1,may2020_sept2020[4])]"
   ]
  },
  {
   "cell_type": "code",
   "execution_count": 379,
   "metadata": {},
   "outputs": [
    {
     "data": {
      "text/html": [
       "<div>\n",
       "<style scoped>\n",
       "    .dataframe tbody tr th:only-of-type {\n",
       "        vertical-align: middle;\n",
       "    }\n",
       "\n",
       "    .dataframe tbody tr th {\n",
       "        vertical-align: top;\n",
       "    }\n",
       "\n",
       "    .dataframe thead th {\n",
       "        text-align: right;\n",
       "    }\n",
       "</style>\n",
       "<table border=\"1\" class=\"dataframe\">\n",
       "  <thead>\n",
       "    <tr style=\"text-align: right;\">\n",
       "      <th>4</th>\n",
       "      <th>Tenant Lease Charge 06/01/19 - 06/30/19</th>\n",
       "      <th>Is Subsidized? 06/01/19 - 06/30/19</th>\n",
       "      <th>Fixed Income? 06/01/19 - 06/30/19</th>\n",
       "      <th>Tenant Rent Charge 06/01/19 - 06/30/19</th>\n",
       "      <th>Tenant Percent Collected 06/01/19 - 06/30/19</th>\n",
       "      <th>Tenant</th>\n",
       "    </tr>\n",
       "  </thead>\n",
       "  <tbody>\n",
       "    <tr>\n",
       "      <th>0</th>\n",
       "      <td>391</td>\n",
       "      <td>Yes</td>\n",
       "      <td>NaN</td>\n",
       "      <td>391</td>\n",
       "      <td>100</td>\n",
       "      <td>t0028148</td>\n",
       "    </tr>\n",
       "    <tr>\n",
       "      <th>1</th>\n",
       "      <td>229</td>\n",
       "      <td>Yes</td>\n",
       "      <td>NaN</td>\n",
       "      <td>239</td>\n",
       "      <td>104.37</td>\n",
       "      <td>t0009751</td>\n",
       "    </tr>\n",
       "    <tr>\n",
       "      <th>2</th>\n",
       "      <td>0</td>\n",
       "      <td>NaN</td>\n",
       "      <td>NaN</td>\n",
       "      <td>0</td>\n",
       "      <td>0</td>\n",
       "      <td>t0029469</td>\n",
       "    </tr>\n",
       "    <tr>\n",
       "      <th>3</th>\n",
       "      <td>510</td>\n",
       "      <td>Yes</td>\n",
       "      <td>NaN</td>\n",
       "      <td>510</td>\n",
       "      <td>100</td>\n",
       "      <td>t0023101</td>\n",
       "    </tr>\n",
       "    <tr>\n",
       "      <th>4</th>\n",
       "      <td>353</td>\n",
       "      <td>Yes</td>\n",
       "      <td>SS</td>\n",
       "      <td>353</td>\n",
       "      <td>100</td>\n",
       "      <td>t0000702</td>\n",
       "    </tr>\n",
       "    <tr>\n",
       "      <th>...</th>\n",
       "      <td>...</td>\n",
       "      <td>...</td>\n",
       "      <td>...</td>\n",
       "      <td>...</td>\n",
       "      <td>...</td>\n",
       "      <td>...</td>\n",
       "    </tr>\n",
       "    <tr>\n",
       "      <th>9499</th>\n",
       "      <td>374</td>\n",
       "      <td>Yes</td>\n",
       "      <td>SS</td>\n",
       "      <td>374</td>\n",
       "      <td>100</td>\n",
       "      <td>t0028619</td>\n",
       "    </tr>\n",
       "    <tr>\n",
       "      <th>9500</th>\n",
       "      <td>532</td>\n",
       "      <td>Yes</td>\n",
       "      <td>NaN</td>\n",
       "      <td>747</td>\n",
       "      <td>140.41</td>\n",
       "      <td>t0028620</td>\n",
       "    </tr>\n",
       "    <tr>\n",
       "      <th>9501</th>\n",
       "      <td>0</td>\n",
       "      <td>Yes</td>\n",
       "      <td>NaN</td>\n",
       "      <td>0</td>\n",
       "      <td>0</td>\n",
       "      <td>t0028622</td>\n",
       "    </tr>\n",
       "    <tr>\n",
       "      <th>9502</th>\n",
       "      <td>1347</td>\n",
       "      <td>NaN</td>\n",
       "      <td>NaN</td>\n",
       "      <td>1347</td>\n",
       "      <td>100</td>\n",
       "      <td>t0028624</td>\n",
       "    </tr>\n",
       "    <tr>\n",
       "      <th>9503</th>\n",
       "      <td>338</td>\n",
       "      <td>Yes</td>\n",
       "      <td>SSI</td>\n",
       "      <td>343</td>\n",
       "      <td>101.48</td>\n",
       "      <td>t0028627</td>\n",
       "    </tr>\n",
       "  </tbody>\n",
       "</table>\n",
       "<p>9504 rows × 6 columns</p>\n",
       "</div>"
      ],
      "text/plain": [
       "4    Tenant Lease Charge 06/01/19 - 06/30/19  \\\n",
       "0                                        391   \n",
       "1                                        229   \n",
       "2                                          0   \n",
       "3                                        510   \n",
       "4                                        353   \n",
       "...                                      ...   \n",
       "9499                                     374   \n",
       "9500                                     532   \n",
       "9501                                       0   \n",
       "9502                                    1347   \n",
       "9503                                     338   \n",
       "\n",
       "4    Is Subsidized? 06/01/19 - 06/30/19 Fixed Income? 06/01/19 - 06/30/19  \\\n",
       "0                                   Yes                               NaN   \n",
       "1                                   Yes                               NaN   \n",
       "2                                   NaN                               NaN   \n",
       "3                                   Yes                               NaN   \n",
       "4                                   Yes                                SS   \n",
       "...                                 ...                               ...   \n",
       "9499                                Yes                                SS   \n",
       "9500                                Yes                               NaN   \n",
       "9501                                Yes                               NaN   \n",
       "9502                                NaN                               NaN   \n",
       "9503                                Yes                               SSI   \n",
       "\n",
       "4    Tenant Rent Charge 06/01/19 - 06/30/19  \\\n",
       "0                                       391   \n",
       "1                                       239   \n",
       "2                                         0   \n",
       "3                                       510   \n",
       "4                                       353   \n",
       "...                                     ...   \n",
       "9499                                    374   \n",
       "9500                                    747   \n",
       "9501                                      0   \n",
       "9502                                   1347   \n",
       "9503                                    343   \n",
       "\n",
       "4    Tenant Percent Collected 06/01/19 - 06/30/19    Tenant  \n",
       "0                                             100  t0028148  \n",
       "1                                          104.37  t0009751  \n",
       "2                                               0  t0029469  \n",
       "3                                             100  t0023101  \n",
       "4                                             100  t0000702  \n",
       "...                                           ...       ...  \n",
       "9499                                          100  t0028619  \n",
       "9500                                       140.41  t0028620  \n",
       "9501                                            0  t0028622  \n",
       "9502                                          100  t0028624  \n",
       "9503                                       101.48  t0028627  \n",
       "\n",
       "[9504 rows x 6 columns]"
      ]
     },
     "execution_count": 379,
     "metadata": {},
     "output_type": "execute_result"
    }
   ],
   "source": [
    "df_list[1]"
   ]
  },
  {
   "cell_type": "code",
   "execution_count": 59,
   "metadata": {},
   "outputs": [],
   "source": [
    "#This lambda function then merges all the dataframes from df_list together \n",
    "df_final = reduce(lambda left,right: pd.merge(left,right,on='Tenant'), df_list)\n",
    "\n",
    "df_final = df_final.drop(columns=[\"Name\",\"Period\"]) #drop cols"
   ]
  },
  {
   "cell_type": "code",
   "execution_count": 39,
   "metadata": {},
   "outputs": [],
   "source": [
    "#write out initial data to csv\n",
    "df_final.to_csv(\"Inital_eden_rent_roll_data_19-20_v2.csv\")"
   ]
  },
  {
   "cell_type": "markdown",
   "metadata": {},
   "source": [
    "Q: “Have rent collections changed in 2020 compared to last year (e.g., collective rent roll shortfalls, number of tenants with underpayment or no payment in each month)?”\n",
    " \n"
   ]
  },
  {
   "cell_type": "markdown",
   "metadata": {},
   "source": [
    "Need to melt dataset so each row is amount of rent collected in a given month to be able to do groupbys"
   ]
  },
  {
   "cell_type": "code",
   "execution_count": 60,
   "metadata": {},
   "outputs": [],
   "source": [
    "#grab initial fixed columns for first month in dataset \n",
    "fixed_cols = ['Property', 'Property Name', 'City', 'County', 'Unit', 'Tenant',\n",
    "       'Is Subsidized?', 'Fixed Income?']"
   ]
  },
  {
   "cell_type": "code",
   "execution_count": 61,
   "metadata": {},
   "outputs": [],
   "source": [
    "# additionally grab just monthly percentage payment columns \n",
    "percent_collected = [num for num in df_final.columns if (\"Percent\") in num]"
   ]
  },
  {
   "cell_type": "code",
   "execution_count": 62,
   "metadata": {},
   "outputs": [],
   "source": [
    "#merge these two lists in the total list of columns we want so we can melt dataset \n",
    "# for this initial analysis assuming that fixed income status and stuff do not change\n",
    "collect = fixed_cols + percent_collected\n",
    "df_rent_collected = df_final[collect]"
   ]
  },
  {
   "cell_type": "code",
   "execution_count": 63,
   "metadata": {},
   "outputs": [],
   "source": [
    "#create a melted dataset so that each row is a payment \n",
    "monthly_percent_collected = pd.melt(df_rent_collected, id_vars=fixed_cols,var_name='Percent Collected')"
   ]
  },
  {
   "cell_type": "code",
   "execution_count": 98,
   "metadata": {},
   "outputs": [
    {
     "data": {
      "text/html": [
       "<div>\n",
       "<style scoped>\n",
       "    .dataframe tbody tr th:only-of-type {\n",
       "        vertical-align: middle;\n",
       "    }\n",
       "\n",
       "    .dataframe tbody tr th {\n",
       "        vertical-align: top;\n",
       "    }\n",
       "\n",
       "    .dataframe thead th {\n",
       "        text-align: right;\n",
       "    }\n",
       "</style>\n",
       "<table border=\"1\" class=\"dataframe\">\n",
       "  <thead>\n",
       "    <tr style=\"text-align: right;\">\n",
       "      <th></th>\n",
       "      <th>Property</th>\n",
       "      <th>Property Name</th>\n",
       "      <th>City</th>\n",
       "      <th>County</th>\n",
       "      <th>Unit</th>\n",
       "      <th>Tenant</th>\n",
       "      <th>Is Subsidized?</th>\n",
       "      <th>Fixed Income?</th>\n",
       "      <th>Percent Collected</th>\n",
       "      <th>Percentage of Rent Paid</th>\n",
       "      <th>year</th>\n",
       "      <th>Assistance</th>\n",
       "    </tr>\n",
       "  </thead>\n",
       "  <tbody>\n",
       "    <tr>\n",
       "      <th>0</th>\n",
       "      <td>304</td>\n",
       "      <td>Almond Terrace</td>\n",
       "      <td>Manteca</td>\n",
       "      <td>San Joaquin</td>\n",
       "      <td>A101</td>\n",
       "      <td>t0028148</td>\n",
       "      <td>Yes</td>\n",
       "      <td>No Assistance</td>\n",
       "      <td>2019-05-31</td>\n",
       "      <td>98.98</td>\n",
       "      <td>19</td>\n",
       "      <td>Yes No Assistance</td>\n",
       "    </tr>\n",
       "    <tr>\n",
       "      <th>1</th>\n",
       "      <td>304</td>\n",
       "      <td>Almond Terrace</td>\n",
       "      <td>Manteca</td>\n",
       "      <td>San Joaquin</td>\n",
       "      <td>A102</td>\n",
       "      <td>t0009751</td>\n",
       "      <td>Yes</td>\n",
       "      <td>No Assistance</td>\n",
       "      <td>2019-05-31</td>\n",
       "      <td>100.00</td>\n",
       "      <td>19</td>\n",
       "      <td>Yes No Assistance</td>\n",
       "    </tr>\n",
       "    <tr>\n",
       "      <th>2</th>\n",
       "      <td>304</td>\n",
       "      <td>Almond Terrace</td>\n",
       "      <td>Manteca</td>\n",
       "      <td>San Joaquin</td>\n",
       "      <td>A103</td>\n",
       "      <td>t0029469</td>\n",
       "      <td>NaN</td>\n",
       "      <td>No Assistance</td>\n",
       "      <td>2019-05-31</td>\n",
       "      <td>0.00</td>\n",
       "      <td>19</td>\n",
       "      <td>NaN</td>\n",
       "    </tr>\n",
       "    <tr>\n",
       "      <th>3</th>\n",
       "      <td>304</td>\n",
       "      <td>Almond Terrace</td>\n",
       "      <td>Manteca</td>\n",
       "      <td>San Joaquin</td>\n",
       "      <td>A104</td>\n",
       "      <td>t0023101</td>\n",
       "      <td>Yes</td>\n",
       "      <td>No Assistance</td>\n",
       "      <td>2019-05-31</td>\n",
       "      <td>100.00</td>\n",
       "      <td>19</td>\n",
       "      <td>Yes No Assistance</td>\n",
       "    </tr>\n",
       "    <tr>\n",
       "      <th>4</th>\n",
       "      <td>304</td>\n",
       "      <td>Almond Terrace</td>\n",
       "      <td>Manteca</td>\n",
       "      <td>San Joaquin</td>\n",
       "      <td>A105</td>\n",
       "      <td>t0000702</td>\n",
       "      <td>Yes</td>\n",
       "      <td>SS</td>\n",
       "      <td>2019-05-31</td>\n",
       "      <td>100.00</td>\n",
       "      <td>19</td>\n",
       "      <td>Yes SS</td>\n",
       "    </tr>\n",
       "    <tr>\n",
       "      <th>...</th>\n",
       "      <td>...</td>\n",
       "      <td>...</td>\n",
       "      <td>...</td>\n",
       "      <td>...</td>\n",
       "      <td>...</td>\n",
       "      <td>...</td>\n",
       "      <td>...</td>\n",
       "      <td>...</td>\n",
       "      <td>...</td>\n",
       "      <td>...</td>\n",
       "      <td>...</td>\n",
       "      <td>...</td>\n",
       "    </tr>\n",
       "    <tr>\n",
       "      <th>90635</th>\n",
       "      <td>998</td>\n",
       "      <td>Tennyson Garden Apartments</td>\n",
       "      <td>Hayward</td>\n",
       "      <td>Alameda</td>\n",
       "      <td>983-303</td>\n",
       "      <td>t0028619</td>\n",
       "      <td>Yes</td>\n",
       "      <td>SS</td>\n",
       "      <td>2020-09-30</td>\n",
       "      <td>104.52</td>\n",
       "      <td>20</td>\n",
       "      <td>Yes SS</td>\n",
       "    </tr>\n",
       "    <tr>\n",
       "      <th>90636</th>\n",
       "      <td>998</td>\n",
       "      <td>Tennyson Garden Apartments</td>\n",
       "      <td>Hayward</td>\n",
       "      <td>Alameda</td>\n",
       "      <td>983-304</td>\n",
       "      <td>t0028620</td>\n",
       "      <td>Yes</td>\n",
       "      <td>No Assistance</td>\n",
       "      <td>2020-09-30</td>\n",
       "      <td>52.50</td>\n",
       "      <td>20</td>\n",
       "      <td>Yes No Assistance</td>\n",
       "    </tr>\n",
       "    <tr>\n",
       "      <th>90637</th>\n",
       "      <td>998</td>\n",
       "      <td>Tennyson Garden Apartments</td>\n",
       "      <td>Hayward</td>\n",
       "      <td>Alameda</td>\n",
       "      <td>983-305</td>\n",
       "      <td>t0028622</td>\n",
       "      <td>Yes</td>\n",
       "      <td>No Assistance</td>\n",
       "      <td>2020-09-30</td>\n",
       "      <td>100.00</td>\n",
       "      <td>20</td>\n",
       "      <td>Yes No Assistance</td>\n",
       "    </tr>\n",
       "    <tr>\n",
       "      <th>90638</th>\n",
       "      <td>998</td>\n",
       "      <td>Tennyson Garden Apartments</td>\n",
       "      <td>Hayward</td>\n",
       "      <td>Alameda</td>\n",
       "      <td>983-306</td>\n",
       "      <td>t0028624</td>\n",
       "      <td>NaN</td>\n",
       "      <td>No Assistance</td>\n",
       "      <td>2020-09-30</td>\n",
       "      <td>100.00</td>\n",
       "      <td>20</td>\n",
       "      <td>NaN</td>\n",
       "    </tr>\n",
       "    <tr>\n",
       "      <th>90639</th>\n",
       "      <td>998</td>\n",
       "      <td>Tennyson Garden Apartments</td>\n",
       "      <td>Hayward</td>\n",
       "      <td>Alameda</td>\n",
       "      <td>983-307</td>\n",
       "      <td>t0028627</td>\n",
       "      <td>NaN</td>\n",
       "      <td>SSI</td>\n",
       "      <td>2020-09-30</td>\n",
       "      <td>340.60</td>\n",
       "      <td>20</td>\n",
       "      <td>NaN</td>\n",
       "    </tr>\n",
       "  </tbody>\n",
       "</table>\n",
       "<p>90577 rows × 12 columns</p>\n",
       "</div>"
      ],
      "text/plain": [
       "      Property               Property Name     City       County     Unit  \\\n",
       "0          304              Almond Terrace  Manteca  San Joaquin     A101   \n",
       "1          304              Almond Terrace  Manteca  San Joaquin     A102   \n",
       "2          304              Almond Terrace  Manteca  San Joaquin     A103   \n",
       "3          304              Almond Terrace  Manteca  San Joaquin     A104   \n",
       "4          304              Almond Terrace  Manteca  San Joaquin     A105   \n",
       "...        ...                         ...      ...          ...      ...   \n",
       "90635      998  Tennyson Garden Apartments  Hayward      Alameda  983-303   \n",
       "90636      998  Tennyson Garden Apartments  Hayward      Alameda  983-304   \n",
       "90637      998  Tennyson Garden Apartments  Hayward      Alameda  983-305   \n",
       "90638      998  Tennyson Garden Apartments  Hayward      Alameda  983-306   \n",
       "90639      998  Tennyson Garden Apartments  Hayward      Alameda  983-307   \n",
       "\n",
       "         Tenant Is Subsidized?  Fixed Income? Percent Collected  \\\n",
       "0      t0028148            Yes  No Assistance        2019-05-31   \n",
       "1      t0009751            Yes  No Assistance        2019-05-31   \n",
       "2      t0029469            NaN  No Assistance        2019-05-31   \n",
       "3      t0023101            Yes  No Assistance        2019-05-31   \n",
       "4      t0000702            Yes             SS        2019-05-31   \n",
       "...         ...            ...            ...               ...   \n",
       "90635  t0028619            Yes             SS        2020-09-30   \n",
       "90636  t0028620            Yes  No Assistance        2020-09-30   \n",
       "90637  t0028622            Yes  No Assistance        2020-09-30   \n",
       "90638  t0028624            NaN  No Assistance        2020-09-30   \n",
       "90639  t0028627            NaN            SSI        2020-09-30   \n",
       "\n",
       "       Percentage of Rent Paid year         Assistance  \n",
       "0                        98.98   19  Yes No Assistance  \n",
       "1                       100.00   19  Yes No Assistance  \n",
       "2                         0.00   19                NaN  \n",
       "3                       100.00   19  Yes No Assistance  \n",
       "4                       100.00   19             Yes SS  \n",
       "...                        ...  ...                ...  \n",
       "90635                   104.52   20             Yes SS  \n",
       "90636                    52.50   20  Yes No Assistance  \n",
       "90637                   100.00   20  Yes No Assistance  \n",
       "90638                   100.00   20                NaN  \n",
       "90639                   340.60   20                NaN  \n",
       "\n",
       "[90577 rows x 12 columns]"
      ]
     },
     "execution_count": 98,
     "metadata": {},
     "output_type": "execute_result"
    }
   ],
   "source": [
    "monthly_percent_collected"
   ]
  },
  {
   "cell_type": "code",
   "execution_count": 65,
   "metadata": {},
   "outputs": [
    {
     "data": {
      "text/plain": [
       "90640"
      ]
     },
     "execution_count": 65,
     "metadata": {},
     "output_type": "execute_result"
    }
   ],
   "source": [
    "# there are 90,640 payments in this dataset \n",
    "len(monthly_percent_collected)"
   ]
  },
  {
   "cell_type": "code",
   "execution_count": 66,
   "metadata": {},
   "outputs": [],
   "source": [
    "# to group by year, need a year col \n",
    "monthly_percent_collected[\"year\"] = monthly_percent_collected[\"Percent Collected\"].str[-2:]"
   ]
  },
  {
   "cell_type": "code",
   "execution_count": 67,
   "metadata": {},
   "outputs": [
    {
     "data": {
      "text/plain": [
       "Tenant Percent Collected 09/01/20 - 09/30/20    9064\n",
       "Tenant Percent Collected 09/01/19 - 09/30/19    9064\n",
       "Tenant Percent Collected 05/01/19 - 05/31/19    9064\n",
       "Tenant Percent Collected 08/01/20 - 08/31/20    9064\n",
       "Tenant Percent Collected 06/01/19 - 06/30/19    9064\n",
       "Tenant Percent Collected 05/01/20 - 05/31/20    9064\n",
       "Tenant Percent Collected 06/01/20 - 06/30/20    9064\n",
       "Tenant Percent Collected 07/01/20 - 07/31/20    9064\n",
       "Tenant Percent Collected 08/01/19 - 08/31/19    9064\n",
       "Tenant Percent Collected 07/01/19 - 07/31/19    9064\n",
       "Name: Percent Collected, dtype: int64"
      ]
     },
     "execution_count": 67,
     "metadata": {},
     "output_type": "execute_result"
    }
   ],
   "source": [
    "monthly_percent_collected[\"Percent Collected\"].value_counts()"
   ]
  },
  {
   "cell_type": "code",
   "execution_count": 19,
   "metadata": {},
   "outputs": [
    {
     "data": {
      "text/plain": [
       "14577"
      ]
     },
     "execution_count": 19,
     "metadata": {},
     "output_type": "execute_result"
    }
   ],
   "source": [
    "len(monthly_percent_collected[monthly_percent_collected.value > 100])"
   ]
  },
  {
   "cell_type": "code",
   "execution_count": 69,
   "metadata": {},
   "outputs": [
    {
     "data": {
      "text/plain": [
       "0.16082303618711385"
      ]
     },
     "execution_count": 69,
     "metadata": {},
     "output_type": "execute_result"
    }
   ],
   "source": [
    "#16 percent of all payments exceed total, implying paying back rent. \n",
    "len(monthly_percent_collected[monthly_percent_collected.value > 100])/ len(monthly_percent_collected)"
   ]
  },
  {
   "cell_type": "code",
   "execution_count": 21,
   "metadata": {},
   "outputs": [
    {
     "data": {
      "text/plain": [
       "63"
      ]
     },
     "execution_count": 21,
     "metadata": {},
     "output_type": "execute_result"
    }
   ],
   "source": [
    "#negative rent total \n",
    "len(monthly_percent_collected[monthly_percent_collected.value < 0])"
   ]
  },
  {
   "cell_type": "code",
   "execution_count": 22,
   "metadata": {},
   "outputs": [
    {
     "data": {
      "text/plain": [
       "0.0006950573698146514"
      ]
     },
     "execution_count": 22,
     "metadata": {},
     "output_type": "execute_result"
    }
   ],
   "source": [
    "(len(monthly_percent_collected[monthly_percent_collected.value < 0])/len(monthly_percent_collected))"
   ]
  },
  {
   "cell_type": "code",
   "execution_count": 70,
   "metadata": {},
   "outputs": [],
   "source": [
    "#I'm going to drop these negative values as I believe them to be errors. \n",
    "monthly_percent_collected = monthly_percent_collected[monthly_percent_collected.value >= 0]"
   ]
  },
  {
   "cell_type": "code",
   "execution_count": 71,
   "metadata": {},
   "outputs": [
    {
     "data": {
      "text/html": [
       "<div>\n",
       "<style scoped>\n",
       "    .dataframe tbody tr th:only-of-type {\n",
       "        vertical-align: middle;\n",
       "    }\n",
       "\n",
       "    .dataframe tbody tr th {\n",
       "        vertical-align: top;\n",
       "    }\n",
       "\n",
       "    .dataframe thead tr th {\n",
       "        text-align: left;\n",
       "    }\n",
       "\n",
       "    .dataframe thead tr:last-of-type th {\n",
       "        text-align: right;\n",
       "    }\n",
       "</style>\n",
       "<table border=\"1\" class=\"dataframe\">\n",
       "  <thead>\n",
       "    <tr>\n",
       "      <th></th>\n",
       "      <th colspan=\"8\" halign=\"left\">value</th>\n",
       "    </tr>\n",
       "    <tr>\n",
       "      <th></th>\n",
       "      <th>count</th>\n",
       "      <th>mean</th>\n",
       "      <th>std</th>\n",
       "      <th>min</th>\n",
       "      <th>25%</th>\n",
       "      <th>50%</th>\n",
       "      <th>75%</th>\n",
       "      <th>max</th>\n",
       "    </tr>\n",
       "    <tr>\n",
       "      <th>year</th>\n",
       "      <th></th>\n",
       "      <th></th>\n",
       "      <th></th>\n",
       "      <th></th>\n",
       "      <th></th>\n",
       "      <th></th>\n",
       "      <th></th>\n",
       "      <th></th>\n",
       "    </tr>\n",
       "  </thead>\n",
       "  <tbody>\n",
       "    <tr>\n",
       "      <th>19</th>\n",
       "      <td>37847.0</td>\n",
       "      <td>78.49</td>\n",
       "      <td>40.65</td>\n",
       "      <td>0.0</td>\n",
       "      <td>98.74</td>\n",
       "      <td>100.0</td>\n",
       "      <td>100.0</td>\n",
       "      <td>100.0</td>\n",
       "    </tr>\n",
       "    <tr>\n",
       "      <th>20</th>\n",
       "      <td>38153.0</td>\n",
       "      <td>91.36</td>\n",
       "      <td>26.73</td>\n",
       "      <td>0.0</td>\n",
       "      <td>100.00</td>\n",
       "      <td>100.0</td>\n",
       "      <td>100.0</td>\n",
       "      <td>100.0</td>\n",
       "    </tr>\n",
       "  </tbody>\n",
       "</table>\n",
       "</div>"
      ],
      "text/plain": [
       "        value                                                \n",
       "        count   mean    std  min     25%    50%    75%    max\n",
       "year                                                         \n",
       "19    37847.0  78.49  40.65  0.0   98.74  100.0  100.0  100.0\n",
       "20    38153.0  91.36  26.73  0.0  100.00  100.0  100.0  100.0"
      ]
     },
     "execution_count": 71,
     "metadata": {},
     "output_type": "execute_result"
    }
   ],
   "source": [
    "monthly_percent_collected.value = monthly_percent_collected.value.astype(float) #make value type that works with groupby \n",
    "monthly_percent_collected[monthly_percent_collected.value <=100][[\"year\",\"value\"]].groupby(\"year\").describe().round(2)"
   ]
  },
  {
   "cell_type": "code",
   "execution_count": 72,
   "metadata": {},
   "outputs": [
    {
     "data": {
      "text/html": [
       "<div>\n",
       "<style scoped>\n",
       "    .dataframe tbody tr th:only-of-type {\n",
       "        vertical-align: middle;\n",
       "    }\n",
       "\n",
       "    .dataframe tbody tr th {\n",
       "        vertical-align: top;\n",
       "    }\n",
       "\n",
       "    .dataframe thead th {\n",
       "        text-align: right;\n",
       "    }\n",
       "</style>\n",
       "<table border=\"1\" class=\"dataframe\">\n",
       "  <thead>\n",
       "    <tr style=\"text-align: right;\">\n",
       "      <th></th>\n",
       "      <th>value</th>\n",
       "    </tr>\n",
       "    <tr>\n",
       "      <th>year</th>\n",
       "      <th></th>\n",
       "    </tr>\n",
       "  </thead>\n",
       "  <tbody>\n",
       "    <tr>\n",
       "      <th>19</th>\n",
       "      <td>7898.0</td>\n",
       "    </tr>\n",
       "    <tr>\n",
       "      <th>20</th>\n",
       "      <td>2727.0</td>\n",
       "    </tr>\n",
       "  </tbody>\n",
       "</table>\n",
       "</div>"
      ],
      "text/plain": [
       "       value\n",
       "year        \n",
       "19    7898.0\n",
       "20    2727.0"
      ]
     },
     "execution_count": 72,
     "metadata": {},
     "output_type": "execute_result"
    }
   ],
   "source": [
    "#count the number of non payments per year \n",
    "monthly_percent_collected[[\"year\",\"value\"]].groupby('year').agg(lambda x: x.eq(0).sum())"
   ]
  },
  {
   "cell_type": "code",
   "execution_count": 26,
   "metadata": {},
   "outputs": [
    {
     "data": {
      "text/plain": [
       "10625.0"
      ]
     },
     "execution_count": 26,
     "metadata": {},
     "output_type": "execute_result"
    }
   ],
   "source": [
    "7898.0 + 2727.0"
   ]
  },
  {
   "cell_type": "markdown",
   "metadata": {},
   "source": [
    "Q: “For tenants who are short or don't pay rent...is that typically a one-off thing or are they likely to be in arrears multiple months. How far short do they tend to be? Has that shifted in 2020?”"
   ]
  },
  {
   "cell_type": "code",
   "execution_count": 73,
   "metadata": {},
   "outputs": [],
   "source": [
    "#create a datetime column to make altair happy \n",
    "monthly_percent_collected_chart = monthly_percent_collected\n",
    "monthly_percent_collected_chart[\"Percent Collected\"] = monthly_percent_collected_chart[\"Percent Collected\"].str[-8:]\n",
    "monthly_percent_collected_chart[\"Percent Collected\"] = pd.to_datetime(monthly_percent_collected_chart[\"Percent Collected\"])"
   ]
  },
  {
   "cell_type": "code",
   "execution_count": 74,
   "metadata": {},
   "outputs": [],
   "source": [
    "monthly_percent_collected_chart = monthly_percent_collected_chart[[\"value\",\"Percent Collected\"]].groupby(\"Percent Collected\").mean().reset_index()"
   ]
  },
  {
   "cell_type": "markdown",
   "metadata": {},
   "source": [
    "NOTE I DROPPED THE CONFIDENCE BANDS FROM THIS CHART TO MAKE THE NOTEBOOK FILE SMALL ENOUGH TO LOAD ONTO GITHUB\n",
    "CAN BRING THEM BACK EASILY IF NEEDED "
   ]
  },
  {
   "cell_type": "code",
   "execution_count": null,
   "metadata": {},
   "outputs": [],
   "source": [
    "line = line_chart = alt.Chart(monthly_percent_collected_chart).mark_line(color=\"#FFAA00\").encode(\n",
    "        alt.X('Percent Collected',\n",
    "        scale=alt.Scale(zero=False)\n",
    "    ),\n",
    "\n",
    "\n",
    "    alt.Y(\"value\", scale=alt.Scale(zero=False))\n",
    ")\n",
    "\n",
    "band = line_chart = alt.Chart(monthly_percent_collected_chart).mark_errorband(extent='ci').encode(\n",
    "        alt.X('Percent Collected',\n",
    "        scale=alt.Scale(zero=False)\n",
    "    ),\n",
    "\n",
    "\n",
    "    alt.Y(\"value\", scale=alt.Scale(zero=False))\n",
    ")\n",
    "\n",
    "band + line"
   ]
  },
  {
   "cell_type": "code",
   "execution_count": 75,
   "metadata": {},
   "outputs": [
    {
     "data": {
      "text/plain": [
       "2647"
      ]
     },
     "execution_count": 75,
     "metadata": {},
     "output_type": "execute_result"
    }
   ],
   "source": [
    "#melt, group by person, do a value counts \n",
    "people_with_nonpayment = df_rent_collected.loc[~(df_rent_collected != 0).all(axis=1), :]\n",
    "len(people_with_nonpayment)"
   ]
  },
  {
   "cell_type": "markdown",
   "metadata": {},
   "source": [
    "There are 2647 people who have at least one nonpayment.\n"
   ]
  },
  {
   "cell_type": "code",
   "execution_count": 208,
   "metadata": {},
   "outputs": [],
   "source": [
    "people_with_nonpayment_data_only = people_with_nonpayment_data_only.drop(columns=\"conseq_0\")\n",
    "people_with_nonpayment_data_only = people_with_nonpayment[percent_collected]"
   ]
  },
  {
   "cell_type": "code",
   "execution_count": 296,
   "metadata": {},
   "outputs": [],
   "source": [
    "def count0(a):\n",
    "    b = [sum(1 for i in g) for k,g in groupby(a) if k==0]\n",
    "    if len(b)>0:\n",
    "        return b\n",
    "    else:\n",
    "        return [0]\n",
    "people_with_nonpayment_data_only['zeros2'] = people_with_nonpayment_data_only.apply(lambda x: count0(x.values), axis=1)"
   ]
  },
  {
   "cell_type": "code",
   "execution_count": 295,
   "metadata": {},
   "outputs": [],
   "source": [
    "people_with_nonpayment_data_only = people_with_nonpayment[percent_collected]"
   ]
  },
  {
   "cell_type": "code",
   "execution_count": 314,
   "metadata": {},
   "outputs": [
    {
     "data": {
      "text/html": [
       "<div>\n",
       "<style scoped>\n",
       "    .dataframe tbody tr th:only-of-type {\n",
       "        vertical-align: middle;\n",
       "    }\n",
       "\n",
       "    .dataframe tbody tr th {\n",
       "        vertical-align: top;\n",
       "    }\n",
       "\n",
       "    .dataframe thead th {\n",
       "        text-align: right;\n",
       "    }\n",
       "</style>\n",
       "<table border=\"1\" class=\"dataframe\">\n",
       "  <thead>\n",
       "    <tr style=\"text-align: right;\">\n",
       "      <th>4</th>\n",
       "      <th>Tenant Percent Collected 05/01/19 - 05/31/19</th>\n",
       "      <th>Tenant Percent Collected 06/01/19 - 06/30/19</th>\n",
       "      <th>Tenant Percent Collected 07/01/19 - 07/31/19</th>\n",
       "      <th>Tenant Percent Collected 08/01/19 - 08/31/19</th>\n",
       "      <th>Tenant Percent Collected 09/01/19 - 09/30/19</th>\n",
       "      <th>Tenant Percent Collected 05/01/20 - 05/31/20</th>\n",
       "      <th>Tenant Percent Collected 06/01/20 - 06/30/20</th>\n",
       "      <th>Tenant Percent Collected 07/01/20 - 07/31/20</th>\n",
       "      <th>Tenant Percent Collected 08/01/20 - 08/31/20</th>\n",
       "      <th>Tenant Percent Collected 09/01/20 - 09/30/20</th>\n",
       "      <th>zeros2</th>\n",
       "    </tr>\n",
       "  </thead>\n",
       "  <tbody>\n",
       "    <tr>\n",
       "      <th>2</th>\n",
       "      <td>0</td>\n",
       "      <td>0</td>\n",
       "      <td>0</td>\n",
       "      <td>0</td>\n",
       "      <td>0</td>\n",
       "      <td>100</td>\n",
       "      <td>100</td>\n",
       "      <td>100</td>\n",
       "      <td>100</td>\n",
       "      <td>100</td>\n",
       "      <td>[5]</td>\n",
       "    </tr>\n",
       "    <tr>\n",
       "      <th>5</th>\n",
       "      <td>0</td>\n",
       "      <td>0</td>\n",
       "      <td>0</td>\n",
       "      <td>0</td>\n",
       "      <td>0</td>\n",
       "      <td>0</td>\n",
       "      <td>0</td>\n",
       "      <td>0</td>\n",
       "      <td>0</td>\n",
       "      <td>0</td>\n",
       "      <td>[10]</td>\n",
       "    </tr>\n",
       "    <tr>\n",
       "      <th>7</th>\n",
       "      <td>0</td>\n",
       "      <td>0</td>\n",
       "      <td>0</td>\n",
       "      <td>0</td>\n",
       "      <td>0</td>\n",
       "      <td>100</td>\n",
       "      <td>100</td>\n",
       "      <td>100</td>\n",
       "      <td>100</td>\n",
       "      <td>100</td>\n",
       "      <td>[5]</td>\n",
       "    </tr>\n",
       "    <tr>\n",
       "      <th>44</th>\n",
       "      <td>0</td>\n",
       "      <td>0</td>\n",
       "      <td>0</td>\n",
       "      <td>0</td>\n",
       "      <td>0</td>\n",
       "      <td>100</td>\n",
       "      <td>100</td>\n",
       "      <td>100</td>\n",
       "      <td>100</td>\n",
       "      <td>100</td>\n",
       "      <td>[5]</td>\n",
       "    </tr>\n",
       "    <tr>\n",
       "      <th>46</th>\n",
       "      <td>0</td>\n",
       "      <td>0</td>\n",
       "      <td>307.89</td>\n",
       "      <td>100</td>\n",
       "      <td>100</td>\n",
       "      <td>100</td>\n",
       "      <td>100</td>\n",
       "      <td>100</td>\n",
       "      <td>100</td>\n",
       "      <td>100</td>\n",
       "      <td>[2]</td>\n",
       "    </tr>\n",
       "    <tr>\n",
       "      <th>...</th>\n",
       "      <td>...</td>\n",
       "      <td>...</td>\n",
       "      <td>...</td>\n",
       "      <td>...</td>\n",
       "      <td>...</td>\n",
       "      <td>...</td>\n",
       "      <td>...</td>\n",
       "      <td>...</td>\n",
       "      <td>...</td>\n",
       "      <td>...</td>\n",
       "      <td>...</td>\n",
       "    </tr>\n",
       "    <tr>\n",
       "      <th>9057</th>\n",
       "      <td>109.21</td>\n",
       "      <td>100.76</td>\n",
       "      <td>100.68</td>\n",
       "      <td>100.68</td>\n",
       "      <td>100.68</td>\n",
       "      <td>100</td>\n",
       "      <td>100</td>\n",
       "      <td>0</td>\n",
       "      <td>94.64</td>\n",
       "      <td>100</td>\n",
       "      <td>[1]</td>\n",
       "    </tr>\n",
       "    <tr>\n",
       "      <th>9058</th>\n",
       "      <td>0</td>\n",
       "      <td>0</td>\n",
       "      <td>0</td>\n",
       "      <td>0</td>\n",
       "      <td>0</td>\n",
       "      <td>0</td>\n",
       "      <td>0</td>\n",
       "      <td>0</td>\n",
       "      <td>0</td>\n",
       "      <td>0</td>\n",
       "      <td>[10]</td>\n",
       "    </tr>\n",
       "    <tr>\n",
       "      <th>9060</th>\n",
       "      <td>140.04</td>\n",
       "      <td>140.41</td>\n",
       "      <td>139.66</td>\n",
       "      <td>139.66</td>\n",
       "      <td>116.46</td>\n",
       "      <td>0</td>\n",
       "      <td>100</td>\n",
       "      <td>200</td>\n",
       "      <td>100</td>\n",
       "      <td>52.5</td>\n",
       "      <td>[1]</td>\n",
       "    </tr>\n",
       "    <tr>\n",
       "      <th>9061</th>\n",
       "      <td>0</td>\n",
       "      <td>0</td>\n",
       "      <td>0</td>\n",
       "      <td>0</td>\n",
       "      <td>100</td>\n",
       "      <td>100.5</td>\n",
       "      <td>100.5</td>\n",
       "      <td>100.5</td>\n",
       "      <td>100.5</td>\n",
       "      <td>100</td>\n",
       "      <td>[4]</td>\n",
       "    </tr>\n",
       "    <tr>\n",
       "      <th>9063</th>\n",
       "      <td>6.33</td>\n",
       "      <td>101.48</td>\n",
       "      <td>102.07</td>\n",
       "      <td>103.55</td>\n",
       "      <td>104.44</td>\n",
       "      <td>100</td>\n",
       "      <td>25.75</td>\n",
       "      <td>0</td>\n",
       "      <td>50</td>\n",
       "      <td>340.6</td>\n",
       "      <td>[1]</td>\n",
       "    </tr>\n",
       "  </tbody>\n",
       "</table>\n",
       "<p>2647 rows × 11 columns</p>\n",
       "</div>"
      ],
      "text/plain": [
       "4    Tenant Percent Collected 05/01/19 - 05/31/19  \\\n",
       "2                                               0   \n",
       "5                                               0   \n",
       "7                                               0   \n",
       "44                                              0   \n",
       "46                                              0   \n",
       "...                                           ...   \n",
       "9057                                       109.21   \n",
       "9058                                            0   \n",
       "9060                                       140.04   \n",
       "9061                                            0   \n",
       "9063                                         6.33   \n",
       "\n",
       "4    Tenant Percent Collected 06/01/19 - 06/30/19  \\\n",
       "2                                               0   \n",
       "5                                               0   \n",
       "7                                               0   \n",
       "44                                              0   \n",
       "46                                              0   \n",
       "...                                           ...   \n",
       "9057                                       100.76   \n",
       "9058                                            0   \n",
       "9060                                       140.41   \n",
       "9061                                            0   \n",
       "9063                                       101.48   \n",
       "\n",
       "4    Tenant Percent Collected 07/01/19 - 07/31/19  \\\n",
       "2                                               0   \n",
       "5                                               0   \n",
       "7                                               0   \n",
       "44                                              0   \n",
       "46                                         307.89   \n",
       "...                                           ...   \n",
       "9057                                       100.68   \n",
       "9058                                            0   \n",
       "9060                                       139.66   \n",
       "9061                                            0   \n",
       "9063                                       102.07   \n",
       "\n",
       "4    Tenant Percent Collected 08/01/19 - 08/31/19  \\\n",
       "2                                               0   \n",
       "5                                               0   \n",
       "7                                               0   \n",
       "44                                              0   \n",
       "46                                            100   \n",
       "...                                           ...   \n",
       "9057                                       100.68   \n",
       "9058                                            0   \n",
       "9060                                       139.66   \n",
       "9061                                            0   \n",
       "9063                                       103.55   \n",
       "\n",
       "4    Tenant Percent Collected 09/01/19 - 09/30/19  \\\n",
       "2                                               0   \n",
       "5                                               0   \n",
       "7                                               0   \n",
       "44                                              0   \n",
       "46                                            100   \n",
       "...                                           ...   \n",
       "9057                                       100.68   \n",
       "9058                                            0   \n",
       "9060                                       116.46   \n",
       "9061                                          100   \n",
       "9063                                       104.44   \n",
       "\n",
       "4    Tenant Percent Collected 05/01/20 - 05/31/20  \\\n",
       "2                                             100   \n",
       "5                                               0   \n",
       "7                                             100   \n",
       "44                                            100   \n",
       "46                                            100   \n",
       "...                                           ...   \n",
       "9057                                          100   \n",
       "9058                                            0   \n",
       "9060                                            0   \n",
       "9061                                        100.5   \n",
       "9063                                          100   \n",
       "\n",
       "4    Tenant Percent Collected 06/01/20 - 06/30/20  \\\n",
       "2                                             100   \n",
       "5                                               0   \n",
       "7                                             100   \n",
       "44                                            100   \n",
       "46                                            100   \n",
       "...                                           ...   \n",
       "9057                                          100   \n",
       "9058                                            0   \n",
       "9060                                          100   \n",
       "9061                                        100.5   \n",
       "9063                                        25.75   \n",
       "\n",
       "4    Tenant Percent Collected 07/01/20 - 07/31/20  \\\n",
       "2                                             100   \n",
       "5                                               0   \n",
       "7                                             100   \n",
       "44                                            100   \n",
       "46                                            100   \n",
       "...                                           ...   \n",
       "9057                                            0   \n",
       "9058                                            0   \n",
       "9060                                          200   \n",
       "9061                                        100.5   \n",
       "9063                                            0   \n",
       "\n",
       "4    Tenant Percent Collected 08/01/20 - 08/31/20  \\\n",
       "2                                             100   \n",
       "5                                               0   \n",
       "7                                             100   \n",
       "44                                            100   \n",
       "46                                            100   \n",
       "...                                           ...   \n",
       "9057                                        94.64   \n",
       "9058                                            0   \n",
       "9060                                          100   \n",
       "9061                                        100.5   \n",
       "9063                                           50   \n",
       "\n",
       "4    Tenant Percent Collected 09/01/20 - 09/30/20 zeros2  \n",
       "2                                             100    [5]  \n",
       "5                                               0   [10]  \n",
       "7                                             100    [5]  \n",
       "44                                            100    [5]  \n",
       "46                                            100    [2]  \n",
       "...                                           ...    ...  \n",
       "9057                                          100    [1]  \n",
       "9058                                            0   [10]  \n",
       "9060                                         52.5    [1]  \n",
       "9061                                          100    [4]  \n",
       "9063                                        340.6    [1]  \n",
       "\n",
       "[2647 rows x 11 columns]"
      ]
     },
     "execution_count": 314,
     "metadata": {},
     "output_type": "execute_result"
    }
   ],
   "source": [
    "people_with_nonpayment_data_only"
   ]
  },
  {
   "cell_type": "code",
   "execution_count": 315,
   "metadata": {},
   "outputs": [],
   "source": [
    "nonpayment_stretches = []\n",
    "for i in people_with_nonpayment_data_only.zeros2:\n",
    "    nonpayment_stretches += i\n"
   ]
  },
  {
   "cell_type": "code",
   "execution_count": 327,
   "metadata": {},
   "outputs": [
    {
     "data": {
      "text/plain": [
       "3.3037935323383083"
      ]
     },
     "execution_count": 327,
     "metadata": {},
     "output_type": "execute_result"
    }
   ],
   "source": [
    "sum(nonpayment_stretches)/len(nonpayment_stretches)"
   ]
  },
  {
   "cell_type": "markdown",
   "metadata": {},
   "source": [
    "now we want to see if this calculation differs by year"
   ]
  },
  {
   "cell_type": "code",
   "execution_count": 332,
   "metadata": {},
   "outputs": [
    {
     "data": {
      "text/html": [
       "<div>\n",
       "<style scoped>\n",
       "    .dataframe tbody tr th:only-of-type {\n",
       "        vertical-align: middle;\n",
       "    }\n",
       "\n",
       "    .dataframe tbody tr th {\n",
       "        vertical-align: top;\n",
       "    }\n",
       "\n",
       "    .dataframe thead th {\n",
       "        text-align: right;\n",
       "    }\n",
       "</style>\n",
       "<table border=\"1\" class=\"dataframe\">\n",
       "  <thead>\n",
       "    <tr style=\"text-align: right;\">\n",
       "      <th>4</th>\n",
       "      <th>Tenant Percent Collected 05/01/19 - 05/31/19</th>\n",
       "      <th>Tenant Percent Collected 06/01/19 - 06/30/19</th>\n",
       "      <th>Tenant Percent Collected 07/01/19 - 07/31/19</th>\n",
       "      <th>Tenant Percent Collected 08/01/19 - 08/31/19</th>\n",
       "      <th>Tenant Percent Collected 09/01/19 - 09/30/19</th>\n",
       "      <th>zeros2</th>\n",
       "    </tr>\n",
       "  </thead>\n",
       "  <tbody>\n",
       "    <tr>\n",
       "      <th>2</th>\n",
       "      <td>0</td>\n",
       "      <td>0</td>\n",
       "      <td>0</td>\n",
       "      <td>0</td>\n",
       "      <td>0</td>\n",
       "      <td>[5]</td>\n",
       "    </tr>\n",
       "    <tr>\n",
       "      <th>5</th>\n",
       "      <td>0</td>\n",
       "      <td>0</td>\n",
       "      <td>0</td>\n",
       "      <td>0</td>\n",
       "      <td>0</td>\n",
       "      <td>[5]</td>\n",
       "    </tr>\n",
       "    <tr>\n",
       "      <th>7</th>\n",
       "      <td>0</td>\n",
       "      <td>0</td>\n",
       "      <td>0</td>\n",
       "      <td>0</td>\n",
       "      <td>0</td>\n",
       "      <td>[5]</td>\n",
       "    </tr>\n",
       "    <tr>\n",
       "      <th>44</th>\n",
       "      <td>0</td>\n",
       "      <td>0</td>\n",
       "      <td>0</td>\n",
       "      <td>0</td>\n",
       "      <td>0</td>\n",
       "      <td>[5]</td>\n",
       "    </tr>\n",
       "    <tr>\n",
       "      <th>46</th>\n",
       "      <td>0</td>\n",
       "      <td>0</td>\n",
       "      <td>307.89</td>\n",
       "      <td>100</td>\n",
       "      <td>100</td>\n",
       "      <td>[2]</td>\n",
       "    </tr>\n",
       "    <tr>\n",
       "      <th>...</th>\n",
       "      <td>...</td>\n",
       "      <td>...</td>\n",
       "      <td>...</td>\n",
       "      <td>...</td>\n",
       "      <td>...</td>\n",
       "      <td>...</td>\n",
       "    </tr>\n",
       "    <tr>\n",
       "      <th>9057</th>\n",
       "      <td>109.21</td>\n",
       "      <td>100.76</td>\n",
       "      <td>100.68</td>\n",
       "      <td>100.68</td>\n",
       "      <td>100.68</td>\n",
       "      <td>[0]</td>\n",
       "    </tr>\n",
       "    <tr>\n",
       "      <th>9058</th>\n",
       "      <td>0</td>\n",
       "      <td>0</td>\n",
       "      <td>0</td>\n",
       "      <td>0</td>\n",
       "      <td>0</td>\n",
       "      <td>[5]</td>\n",
       "    </tr>\n",
       "    <tr>\n",
       "      <th>9060</th>\n",
       "      <td>140.04</td>\n",
       "      <td>140.41</td>\n",
       "      <td>139.66</td>\n",
       "      <td>139.66</td>\n",
       "      <td>116.46</td>\n",
       "      <td>[0]</td>\n",
       "    </tr>\n",
       "    <tr>\n",
       "      <th>9061</th>\n",
       "      <td>0</td>\n",
       "      <td>0</td>\n",
       "      <td>0</td>\n",
       "      <td>0</td>\n",
       "      <td>100</td>\n",
       "      <td>[4]</td>\n",
       "    </tr>\n",
       "    <tr>\n",
       "      <th>9063</th>\n",
       "      <td>6.33</td>\n",
       "      <td>101.48</td>\n",
       "      <td>102.07</td>\n",
       "      <td>103.55</td>\n",
       "      <td>104.44</td>\n",
       "      <td>[0]</td>\n",
       "    </tr>\n",
       "  </tbody>\n",
       "</table>\n",
       "<p>2647 rows × 6 columns</p>\n",
       "</div>"
      ],
      "text/plain": [
       "4    Tenant Percent Collected 05/01/19 - 05/31/19  \\\n",
       "2                                               0   \n",
       "5                                               0   \n",
       "7                                               0   \n",
       "44                                              0   \n",
       "46                                              0   \n",
       "...                                           ...   \n",
       "9057                                       109.21   \n",
       "9058                                            0   \n",
       "9060                                       140.04   \n",
       "9061                                            0   \n",
       "9063                                         6.33   \n",
       "\n",
       "4    Tenant Percent Collected 06/01/19 - 06/30/19  \\\n",
       "2                                               0   \n",
       "5                                               0   \n",
       "7                                               0   \n",
       "44                                              0   \n",
       "46                                              0   \n",
       "...                                           ...   \n",
       "9057                                       100.76   \n",
       "9058                                            0   \n",
       "9060                                       140.41   \n",
       "9061                                            0   \n",
       "9063                                       101.48   \n",
       "\n",
       "4    Tenant Percent Collected 07/01/19 - 07/31/19  \\\n",
       "2                                               0   \n",
       "5                                               0   \n",
       "7                                               0   \n",
       "44                                              0   \n",
       "46                                         307.89   \n",
       "...                                           ...   \n",
       "9057                                       100.68   \n",
       "9058                                            0   \n",
       "9060                                       139.66   \n",
       "9061                                            0   \n",
       "9063                                       102.07   \n",
       "\n",
       "4    Tenant Percent Collected 08/01/19 - 08/31/19  \\\n",
       "2                                               0   \n",
       "5                                               0   \n",
       "7                                               0   \n",
       "44                                              0   \n",
       "46                                            100   \n",
       "...                                           ...   \n",
       "9057                                       100.68   \n",
       "9058                                            0   \n",
       "9060                                       139.66   \n",
       "9061                                            0   \n",
       "9063                                       103.55   \n",
       "\n",
       "4    Tenant Percent Collected 09/01/19 - 09/30/19 zeros2  \n",
       "2                                               0    [5]  \n",
       "5                                               0    [5]  \n",
       "7                                               0    [5]  \n",
       "44                                              0    [5]  \n",
       "46                                            100    [2]  \n",
       "...                                           ...    ...  \n",
       "9057                                       100.68    [0]  \n",
       "9058                                            0    [5]  \n",
       "9060                                       116.46    [0]  \n",
       "9061                                          100    [4]  \n",
       "9063                                       104.44    [0]  \n",
       "\n",
       "[2647 rows x 6 columns]"
      ]
     },
     "execution_count": 332,
     "metadata": {},
     "output_type": "execute_result"
    }
   ],
   "source": [
    "people_with_nonpayment_19"
   ]
  },
  {
   "cell_type": "code",
   "execution_count": 333,
   "metadata": {},
   "outputs": [
    {
     "data": {
      "text/html": [
       "<div>\n",
       "<style scoped>\n",
       "    .dataframe tbody tr th:only-of-type {\n",
       "        vertical-align: middle;\n",
       "    }\n",
       "\n",
       "    .dataframe tbody tr th {\n",
       "        vertical-align: top;\n",
       "    }\n",
       "\n",
       "    .dataframe thead th {\n",
       "        text-align: right;\n",
       "    }\n",
       "</style>\n",
       "<table border=\"1\" class=\"dataframe\">\n",
       "  <thead>\n",
       "    <tr style=\"text-align: right;\">\n",
       "      <th>4</th>\n",
       "      <th>Tenant Percent Collected 05/01/20 - 05/31/20</th>\n",
       "      <th>Tenant Percent Collected 06/01/20 - 06/30/20</th>\n",
       "      <th>Tenant Percent Collected 07/01/20 - 07/31/20</th>\n",
       "      <th>Tenant Percent Collected 08/01/20 - 08/31/20</th>\n",
       "      <th>Tenant Percent Collected 09/01/20 - 09/30/20</th>\n",
       "      <th>zeros2</th>\n",
       "    </tr>\n",
       "  </thead>\n",
       "  <tbody>\n",
       "    <tr>\n",
       "      <th>2</th>\n",
       "      <td>100</td>\n",
       "      <td>100</td>\n",
       "      <td>100</td>\n",
       "      <td>100</td>\n",
       "      <td>100</td>\n",
       "      <td>[0]</td>\n",
       "    </tr>\n",
       "    <tr>\n",
       "      <th>5</th>\n",
       "      <td>0</td>\n",
       "      <td>0</td>\n",
       "      <td>0</td>\n",
       "      <td>0</td>\n",
       "      <td>0</td>\n",
       "      <td>[5]</td>\n",
       "    </tr>\n",
       "    <tr>\n",
       "      <th>7</th>\n",
       "      <td>100</td>\n",
       "      <td>100</td>\n",
       "      <td>100</td>\n",
       "      <td>100</td>\n",
       "      <td>100</td>\n",
       "      <td>[0]</td>\n",
       "    </tr>\n",
       "    <tr>\n",
       "      <th>44</th>\n",
       "      <td>100</td>\n",
       "      <td>100</td>\n",
       "      <td>100</td>\n",
       "      <td>100</td>\n",
       "      <td>100</td>\n",
       "      <td>[0]</td>\n",
       "    </tr>\n",
       "    <tr>\n",
       "      <th>46</th>\n",
       "      <td>100</td>\n",
       "      <td>100</td>\n",
       "      <td>100</td>\n",
       "      <td>100</td>\n",
       "      <td>100</td>\n",
       "      <td>[0]</td>\n",
       "    </tr>\n",
       "    <tr>\n",
       "      <th>...</th>\n",
       "      <td>...</td>\n",
       "      <td>...</td>\n",
       "      <td>...</td>\n",
       "      <td>...</td>\n",
       "      <td>...</td>\n",
       "      <td>...</td>\n",
       "    </tr>\n",
       "    <tr>\n",
       "      <th>9057</th>\n",
       "      <td>100</td>\n",
       "      <td>100</td>\n",
       "      <td>0</td>\n",
       "      <td>94.64</td>\n",
       "      <td>100</td>\n",
       "      <td>[1]</td>\n",
       "    </tr>\n",
       "    <tr>\n",
       "      <th>9058</th>\n",
       "      <td>0</td>\n",
       "      <td>0</td>\n",
       "      <td>0</td>\n",
       "      <td>0</td>\n",
       "      <td>0</td>\n",
       "      <td>[5]</td>\n",
       "    </tr>\n",
       "    <tr>\n",
       "      <th>9060</th>\n",
       "      <td>0</td>\n",
       "      <td>100</td>\n",
       "      <td>200</td>\n",
       "      <td>100</td>\n",
       "      <td>52.5</td>\n",
       "      <td>[1]</td>\n",
       "    </tr>\n",
       "    <tr>\n",
       "      <th>9061</th>\n",
       "      <td>100.5</td>\n",
       "      <td>100.5</td>\n",
       "      <td>100.5</td>\n",
       "      <td>100.5</td>\n",
       "      <td>100</td>\n",
       "      <td>[0]</td>\n",
       "    </tr>\n",
       "    <tr>\n",
       "      <th>9063</th>\n",
       "      <td>100</td>\n",
       "      <td>25.75</td>\n",
       "      <td>0</td>\n",
       "      <td>50</td>\n",
       "      <td>340.6</td>\n",
       "      <td>[1]</td>\n",
       "    </tr>\n",
       "  </tbody>\n",
       "</table>\n",
       "<p>2647 rows × 6 columns</p>\n",
       "</div>"
      ],
      "text/plain": [
       "4    Tenant Percent Collected 05/01/20 - 05/31/20  \\\n",
       "2                                             100   \n",
       "5                                               0   \n",
       "7                                             100   \n",
       "44                                            100   \n",
       "46                                            100   \n",
       "...                                           ...   \n",
       "9057                                          100   \n",
       "9058                                            0   \n",
       "9060                                            0   \n",
       "9061                                        100.5   \n",
       "9063                                          100   \n",
       "\n",
       "4    Tenant Percent Collected 06/01/20 - 06/30/20  \\\n",
       "2                                             100   \n",
       "5                                               0   \n",
       "7                                             100   \n",
       "44                                            100   \n",
       "46                                            100   \n",
       "...                                           ...   \n",
       "9057                                          100   \n",
       "9058                                            0   \n",
       "9060                                          100   \n",
       "9061                                        100.5   \n",
       "9063                                        25.75   \n",
       "\n",
       "4    Tenant Percent Collected 07/01/20 - 07/31/20  \\\n",
       "2                                             100   \n",
       "5                                               0   \n",
       "7                                             100   \n",
       "44                                            100   \n",
       "46                                            100   \n",
       "...                                           ...   \n",
       "9057                                            0   \n",
       "9058                                            0   \n",
       "9060                                          200   \n",
       "9061                                        100.5   \n",
       "9063                                            0   \n",
       "\n",
       "4    Tenant Percent Collected 08/01/20 - 08/31/20  \\\n",
       "2                                             100   \n",
       "5                                               0   \n",
       "7                                             100   \n",
       "44                                            100   \n",
       "46                                            100   \n",
       "...                                           ...   \n",
       "9057                                        94.64   \n",
       "9058                                            0   \n",
       "9060                                          100   \n",
       "9061                                        100.5   \n",
       "9063                                           50   \n",
       "\n",
       "4    Tenant Percent Collected 09/01/20 - 09/30/20 zeros2  \n",
       "2                                             100    [0]  \n",
       "5                                               0    [5]  \n",
       "7                                             100    [0]  \n",
       "44                                            100    [0]  \n",
       "46                                            100    [0]  \n",
       "...                                           ...    ...  \n",
       "9057                                          100    [1]  \n",
       "9058                                            0    [5]  \n",
       "9060                                         52.5    [1]  \n",
       "9061                                          100    [0]  \n",
       "9063                                        340.6    [1]  \n",
       "\n",
       "[2647 rows x 6 columns]"
      ]
     },
     "execution_count": 333,
     "metadata": {},
     "output_type": "execute_result"
    }
   ],
   "source": [
    "people_with_nonpayment_20"
   ]
  },
  {
   "cell_type": "code",
   "execution_count": 334,
   "metadata": {},
   "outputs": [],
   "source": [
    "people_with_nonpayment_19 = people_with_nonpayment[[x for x in people_with_nonpayment if  x.endswith('19')]]\n",
    "people_with_nonpayment_20 = people_with_nonpayment[[x for x in people_with_nonpayment if  x.endswith('20')]]"
   ]
  },
  {
   "cell_type": "code",
   "execution_count": 335,
   "metadata": {},
   "outputs": [],
   "source": [
    "people_with_nonpayment_19['zeros2'] = people_with_nonpayment_19.apply(lambda x: count0(x.values), axis=1)\n",
    "people_with_nonpayment_20['zeros2'] = people_with_nonpayment_20.apply(lambda x: count0(x.values), axis=1)\n"
   ]
  },
  {
   "cell_type": "code",
   "execution_count": 336,
   "metadata": {},
   "outputs": [
    {
     "data": {
      "text/html": [
       "<div>\n",
       "<style scoped>\n",
       "    .dataframe tbody tr th:only-of-type {\n",
       "        vertical-align: middle;\n",
       "    }\n",
       "\n",
       "    .dataframe tbody tr th {\n",
       "        vertical-align: top;\n",
       "    }\n",
       "\n",
       "    .dataframe thead th {\n",
       "        text-align: right;\n",
       "    }\n",
       "</style>\n",
       "<table border=\"1\" class=\"dataframe\">\n",
       "  <thead>\n",
       "    <tr style=\"text-align: right;\">\n",
       "      <th>4</th>\n",
       "      <th>Tenant Percent Collected 05/01/20 - 05/31/20</th>\n",
       "      <th>Tenant Percent Collected 06/01/20 - 06/30/20</th>\n",
       "      <th>Tenant Percent Collected 07/01/20 - 07/31/20</th>\n",
       "      <th>Tenant Percent Collected 08/01/20 - 08/31/20</th>\n",
       "      <th>Tenant Percent Collected 09/01/20 - 09/30/20</th>\n",
       "      <th>zeros2</th>\n",
       "    </tr>\n",
       "  </thead>\n",
       "  <tbody>\n",
       "    <tr>\n",
       "      <th>2</th>\n",
       "      <td>100</td>\n",
       "      <td>100</td>\n",
       "      <td>100</td>\n",
       "      <td>100</td>\n",
       "      <td>100</td>\n",
       "      <td>[0]</td>\n",
       "    </tr>\n",
       "    <tr>\n",
       "      <th>5</th>\n",
       "      <td>0</td>\n",
       "      <td>0</td>\n",
       "      <td>0</td>\n",
       "      <td>0</td>\n",
       "      <td>0</td>\n",
       "      <td>[5]</td>\n",
       "    </tr>\n",
       "    <tr>\n",
       "      <th>7</th>\n",
       "      <td>100</td>\n",
       "      <td>100</td>\n",
       "      <td>100</td>\n",
       "      <td>100</td>\n",
       "      <td>100</td>\n",
       "      <td>[0]</td>\n",
       "    </tr>\n",
       "    <tr>\n",
       "      <th>44</th>\n",
       "      <td>100</td>\n",
       "      <td>100</td>\n",
       "      <td>100</td>\n",
       "      <td>100</td>\n",
       "      <td>100</td>\n",
       "      <td>[0]</td>\n",
       "    </tr>\n",
       "    <tr>\n",
       "      <th>46</th>\n",
       "      <td>100</td>\n",
       "      <td>100</td>\n",
       "      <td>100</td>\n",
       "      <td>100</td>\n",
       "      <td>100</td>\n",
       "      <td>[0]</td>\n",
       "    </tr>\n",
       "  </tbody>\n",
       "</table>\n",
       "</div>"
      ],
      "text/plain": [
       "4  Tenant Percent Collected 05/01/20 - 05/31/20  \\\n",
       "2                                           100   \n",
       "5                                             0   \n",
       "7                                           100   \n",
       "44                                          100   \n",
       "46                                          100   \n",
       "\n",
       "4  Tenant Percent Collected 06/01/20 - 06/30/20  \\\n",
       "2                                           100   \n",
       "5                                             0   \n",
       "7                                           100   \n",
       "44                                          100   \n",
       "46                                          100   \n",
       "\n",
       "4  Tenant Percent Collected 07/01/20 - 07/31/20  \\\n",
       "2                                           100   \n",
       "5                                             0   \n",
       "7                                           100   \n",
       "44                                          100   \n",
       "46                                          100   \n",
       "\n",
       "4  Tenant Percent Collected 08/01/20 - 08/31/20  \\\n",
       "2                                           100   \n",
       "5                                             0   \n",
       "7                                           100   \n",
       "44                                          100   \n",
       "46                                          100   \n",
       "\n",
       "4  Tenant Percent Collected 09/01/20 - 09/30/20 zeros2  \n",
       "2                                           100    [0]  \n",
       "5                                             0    [5]  \n",
       "7                                           100    [0]  \n",
       "44                                          100    [0]  \n",
       "46                                          100    [0]  "
      ]
     },
     "execution_count": 336,
     "metadata": {},
     "output_type": "execute_result"
    }
   ],
   "source": [
    "people_with_nonpayment_20.head()"
   ]
  },
  {
   "cell_type": "code",
   "execution_count": 255,
   "metadata": {},
   "outputs": [],
   "source": [
    "def count_nonpayment(df):\n",
    "    nonpayment_stretches = []\n",
    "    for i in people_with_nonpayment_data_only.zeros2:\n",
    "        nonpayment_stretches += i\n",
    "    return sum(nonpayment_stretches)/len(nonpayment_stretches)"
   ]
  },
  {
   "cell_type": "code",
   "execution_count": 337,
   "metadata": {},
   "outputs": [
    {
     "data": {
      "text/plain": [
       "2.91546696197859"
      ]
     },
     "execution_count": 337,
     "metadata": {},
     "output_type": "execute_result"
    }
   ],
   "source": [
    "nonpayment_stretches_19 = []\n",
    "for i in people_with_nonpayment_19.zeros2:\n",
    "    nonpayment_stretches_19 += i\n",
    "sum(nonpayment_stretches_19)/len(nonpayment_stretches_19)"
   ]
  },
  {
   "cell_type": "code",
   "execution_count": 340,
   "metadata": {},
   "outputs": [
    {
     "data": {
      "text/plain": [
       "(array([ 677.,    0.,  437.,    0.,   99.,    0.,   82.,    0.,   53.,\n",
       "        1361.]),\n",
       " array([0. , 0.5, 1. , 1.5, 2. , 2.5, 3. , 3.5, 4. , 4.5, 5. ]),\n",
       " <a list of 10 Patch objects>)"
      ]
     },
     "execution_count": 340,
     "metadata": {},
     "output_type": "execute_result"
    },
    {
     "data": {
      "image/png": "[encoded data removed]",
      "text/plain": [
       "<Figure size 432x288 with 1 Axes>"
      ]
     },
     "metadata": {
      "needs_background": "light"
     },
     "output_type": "display_data"
    }
   ],
   "source": [
    "plt.hist(nonpayment_stretches_19)"
   ]
  },
  {
   "cell_type": "code",
   "execution_count": 338,
   "metadata": {},
   "outputs": [
    {
     "data": {
      "text/plain": [
       "0.9442520775623269"
      ]
     },
     "execution_count": 338,
     "metadata": {},
     "output_type": "execute_result"
    }
   ],
   "source": [
    "nonpayment_stretches_20 = []\n",
    "for i in people_with_nonpayment_20.zeros2:\n",
    "    nonpayment_stretches_20 += i\n",
    "sum(nonpayment_stretches_20)/len(nonpayment_stretches_20)"
   ]
  },
  {
   "cell_type": "code",
   "execution_count": 341,
   "metadata": {},
   "outputs": [
    {
     "data": {
      "text/plain": [
       "(array([1421.,    0.,  981.,    0.,  167.,    0.,   79.,    0.,   25.,\n",
       "         215.]),\n",
       " array([0. , 0.5, 1. , 1.5, 2. , 2.5, 3. , 3.5, 4. , 4.5, 5. ]),\n",
       " <a list of 10 Patch objects>)"
      ]
     },
     "execution_count": 341,
     "metadata": {},
     "output_type": "execute_result"
    },
    {
     "data": {
      "image/png": "[encoded data removed]",
      "text/plain": [
       "<Figure size 432x288 with 1 Axes>"
      ]
     },
     "metadata": {
      "needs_background": "light"
     },
     "output_type": "display_data"
    }
   ],
   "source": [
    "plt.hist(nonpayment_stretches_20)"
   ]
  },
  {
   "cell_type": "code",
   "execution_count": 77,
   "metadata": {},
   "outputs": [],
   "source": [
    "nonpayment_only = people_with_nonpayment[['Tenant Percent Collected 05/01/19 - 05/31/19',\n",
    "       'Tenant Percent Collected 06/01/19 - 06/30/19',\n",
    "       'Tenant Percent Collected 07/01/19 - 07/31/19',\n",
    "       'Tenant Percent Collected 08/01/19 - 08/31/19',\n",
    "       'Tenant Percent Collected 09/01/19 - 09/30/19',\n",
    "       'Tenant Percent Collected 05/01/20 - 05/31/20',\n",
    "       'Tenant Percent Collected 06/01/20 - 06/30/20',\n",
    "       'Tenant Percent Collected 07/01/20 - 07/31/20',\n",
    "       'Tenant Percent Collected 08/01/20 - 08/31/20',\n",
    "       'Tenant Percent Collected 09/01/20 - 09/30/20']]"
   ]
  },
  {
   "cell_type": "code",
   "execution_count": 78,
   "metadata": {},
   "outputs": [],
   "source": [
    "melted_nonpayment = pd.melt(people_with_nonpayment, id_vars=fixed_cols,var_name='Percent Collected')"
   ]
  },
  {
   "cell_type": "code",
   "execution_count": 79,
   "metadata": {},
   "outputs": [],
   "source": [
    "melted_nonpayment = melted_nonpayment[['Tenant', 'value']]\n",
    "melted_nonpayment.value = melted_nonpayment.value.astype(float)"
   ]
  },
  {
   "cell_type": "markdown",
   "metadata": {},
   "source": [
    "now calculate the total number of nonpayments in the dataset"
   ]
  },
  {
   "cell_type": "code",
   "execution_count": 81,
   "metadata": {},
   "outputs": [
    {
     "data": {
      "text/html": [
       "<div>\n",
       "<style scoped>\n",
       "    .dataframe tbody tr th:only-of-type {\n",
       "        vertical-align: middle;\n",
       "    }\n",
       "\n",
       "    .dataframe tbody tr th {\n",
       "        vertical-align: top;\n",
       "    }\n",
       "\n",
       "    .dataframe thead th {\n",
       "        text-align: right;\n",
       "    }\n",
       "</style>\n",
       "<table border=\"1\" class=\"dataframe\">\n",
       "  <thead>\n",
       "    <tr style=\"text-align: right;\">\n",
       "      <th></th>\n",
       "      <th>Tenant</th>\n",
       "      <th>value</th>\n",
       "    </tr>\n",
       "  </thead>\n",
       "  <tbody>\n",
       "    <tr>\n",
       "      <th>0</th>\n",
       "      <td>t0029469</td>\n",
       "      <td>0.0</td>\n",
       "    </tr>\n",
       "    <tr>\n",
       "      <th>1</th>\n",
       "      <td>t0000690</td>\n",
       "      <td>0.0</td>\n",
       "    </tr>\n",
       "    <tr>\n",
       "      <th>2</th>\n",
       "      <td>t0098684</td>\n",
       "      <td>0.0</td>\n",
       "    </tr>\n",
       "    <tr>\n",
       "      <th>3</th>\n",
       "      <td>t0852179</td>\n",
       "      <td>0.0</td>\n",
       "    </tr>\n",
       "    <tr>\n",
       "      <th>4</th>\n",
       "      <td>t0029300</td>\n",
       "      <td>0.0</td>\n",
       "    </tr>\n",
       "    <tr>\n",
       "      <th>...</th>\n",
       "      <td>...</td>\n",
       "      <td>...</td>\n",
       "    </tr>\n",
       "    <tr>\n",
       "      <th>26465</th>\n",
       "      <td>t0028617</td>\n",
       "      <td>100.0</td>\n",
       "    </tr>\n",
       "    <tr>\n",
       "      <th>26466</th>\n",
       "      <td>t0028632</td>\n",
       "      <td>0.0</td>\n",
       "    </tr>\n",
       "    <tr>\n",
       "      <th>26467</th>\n",
       "      <td>t0028620</td>\n",
       "      <td>52.5</td>\n",
       "    </tr>\n",
       "    <tr>\n",
       "      <th>26468</th>\n",
       "      <td>t0028622</td>\n",
       "      <td>100.0</td>\n",
       "    </tr>\n",
       "    <tr>\n",
       "      <th>26469</th>\n",
       "      <td>t0028627</td>\n",
       "      <td>340.6</td>\n",
       "    </tr>\n",
       "  </tbody>\n",
       "</table>\n",
       "<p>26470 rows × 2 columns</p>\n",
       "</div>"
      ],
      "text/plain": [
       "         Tenant  value\n",
       "0      t0029469    0.0\n",
       "1      t0000690    0.0\n",
       "2      t0098684    0.0\n",
       "3      t0852179    0.0\n",
       "4      t0029300    0.0\n",
       "...         ...    ...\n",
       "26465  t0028617  100.0\n",
       "26466  t0028632    0.0\n",
       "26467  t0028620   52.5\n",
       "26468  t0028622  100.0\n",
       "26469  t0028627  340.6\n",
       "\n",
       "[26470 rows x 2 columns]"
      ]
     },
     "execution_count": 81,
     "metadata": {},
     "output_type": "execute_result"
    }
   ],
   "source": [
    "melted_nonpayment"
   ]
  },
  {
   "cell_type": "markdown",
   "metadata": {},
   "source": [
    "10625 Total nonpayments in the dataset. "
   ]
  },
  {
   "cell_type": "code",
   "execution_count": 83,
   "metadata": {},
   "outputs": [
    {
     "data": {
      "text/plain": [
       "10625"
      ]
     },
     "execution_count": 83,
     "metadata": {},
     "output_type": "execute_result"
    }
   ],
   "source": [
    "(melted_nonpayment.value == 0).sum()"
   ]
  },
  {
   "cell_type": "code",
   "execution_count": 85,
   "metadata": {},
   "outputs": [],
   "source": [
    "melted_nonpayment_des = melted_nonpayment.groupby(\"Tenant\").describe().reset_index()"
   ]
  },
  {
   "cell_type": "code",
   "execution_count": 88,
   "metadata": {},
   "outputs": [
    {
     "data": {
      "text/html": [
       "<div>\n",
       "<style scoped>\n",
       "    .dataframe tbody tr th:only-of-type {\n",
       "        vertical-align: middle;\n",
       "    }\n",
       "\n",
       "    .dataframe tbody tr th {\n",
       "        vertical-align: top;\n",
       "    }\n",
       "\n",
       "    .dataframe thead th {\n",
       "        text-align: right;\n",
       "    }\n",
       "</style>\n",
       "<table border=\"1\" class=\"dataframe\">\n",
       "  <thead>\n",
       "    <tr style=\"text-align: right;\">\n",
       "      <th></th>\n",
       "      <th>value</th>\n",
       "    </tr>\n",
       "    <tr>\n",
       "      <th>Fixed Income?</th>\n",
       "      <th></th>\n",
       "    </tr>\n",
       "  </thead>\n",
       "  <tbody>\n",
       "    <tr>\n",
       "      <th>No Assistance</th>\n",
       "      <td>89.59</td>\n",
       "    </tr>\n",
       "    <tr>\n",
       "      <th>SS</th>\n",
       "      <td>99.16</td>\n",
       "    </tr>\n",
       "    <tr>\n",
       "      <th>SS/SSI</th>\n",
       "      <td>100.77</td>\n",
       "    </tr>\n",
       "    <tr>\n",
       "      <th>SSI</th>\n",
       "      <td>100.32</td>\n",
       "    </tr>\n",
       "  </tbody>\n",
       "</table>\n",
       "</div>"
      ],
      "text/plain": [
       "                value\n",
       "Fixed Income?        \n",
       "No Assistance   89.59\n",
       "SS              99.16\n",
       "SS/SSI         100.77\n",
       "SSI            100.32"
      ]
     },
     "execution_count": 88,
     "metadata": {},
     "output_type": "execute_result"
    }
   ],
   "source": [
    "monthly_percent_collected[\"Fixed Income?\"] = monthly_percent_collected[\"Fixed Income?\"].replace(np.nan, 'No Assistance', regex=True)\n",
    "monthly_percent_collected[[\"Fixed Income?\",\"value\"]].groupby(\"Fixed Income?\").mean().round(2)"
   ]
  },
  {
   "cell_type": "code",
   "execution_count": 87,
   "metadata": {},
   "outputs": [
    {
     "data": {
      "text/html": [
       "<div>\n",
       "<style scoped>\n",
       "    .dataframe tbody tr th:only-of-type {\n",
       "        vertical-align: middle;\n",
       "    }\n",
       "\n",
       "    .dataframe tbody tr th {\n",
       "        vertical-align: top;\n",
       "    }\n",
       "\n",
       "    .dataframe thead th {\n",
       "        text-align: right;\n",
       "    }\n",
       "</style>\n",
       "<table border=\"1\" class=\"dataframe\">\n",
       "  <thead>\n",
       "    <tr style=\"text-align: right;\">\n",
       "      <th></th>\n",
       "      <th>Property</th>\n",
       "      <th>Property Name</th>\n",
       "      <th>City</th>\n",
       "      <th>County</th>\n",
       "      <th>Unit</th>\n",
       "      <th>Tenant</th>\n",
       "      <th>Is Subsidized?</th>\n",
       "      <th>Fixed Income?</th>\n",
       "      <th>Percent Collected</th>\n",
       "      <th>value</th>\n",
       "      <th>year</th>\n",
       "    </tr>\n",
       "  </thead>\n",
       "  <tbody>\n",
       "    <tr>\n",
       "      <th>0</th>\n",
       "      <td>304</td>\n",
       "      <td>Almond Terrace</td>\n",
       "      <td>Manteca</td>\n",
       "      <td>San Joaquin</td>\n",
       "      <td>A101</td>\n",
       "      <td>t0028148</td>\n",
       "      <td>Yes</td>\n",
       "      <td>No Assistance</td>\n",
       "      <td>2019-05-31</td>\n",
       "      <td>98.98</td>\n",
       "      <td>19</td>\n",
       "    </tr>\n",
       "    <tr>\n",
       "      <th>1</th>\n",
       "      <td>304</td>\n",
       "      <td>Almond Terrace</td>\n",
       "      <td>Manteca</td>\n",
       "      <td>San Joaquin</td>\n",
       "      <td>A102</td>\n",
       "      <td>t0009751</td>\n",
       "      <td>Yes</td>\n",
       "      <td>No Assistance</td>\n",
       "      <td>2019-05-31</td>\n",
       "      <td>100.00</td>\n",
       "      <td>19</td>\n",
       "    </tr>\n",
       "    <tr>\n",
       "      <th>2</th>\n",
       "      <td>304</td>\n",
       "      <td>Almond Terrace</td>\n",
       "      <td>Manteca</td>\n",
       "      <td>San Joaquin</td>\n",
       "      <td>A103</td>\n",
       "      <td>t0029469</td>\n",
       "      <td>NaN</td>\n",
       "      <td>No Assistance</td>\n",
       "      <td>2019-05-31</td>\n",
       "      <td>0.00</td>\n",
       "      <td>19</td>\n",
       "    </tr>\n",
       "    <tr>\n",
       "      <th>3</th>\n",
       "      <td>304</td>\n",
       "      <td>Almond Terrace</td>\n",
       "      <td>Manteca</td>\n",
       "      <td>San Joaquin</td>\n",
       "      <td>A104</td>\n",
       "      <td>t0023101</td>\n",
       "      <td>Yes</td>\n",
       "      <td>No Assistance</td>\n",
       "      <td>2019-05-31</td>\n",
       "      <td>100.00</td>\n",
       "      <td>19</td>\n",
       "    </tr>\n",
       "    <tr>\n",
       "      <th>4</th>\n",
       "      <td>304</td>\n",
       "      <td>Almond Terrace</td>\n",
       "      <td>Manteca</td>\n",
       "      <td>San Joaquin</td>\n",
       "      <td>A105</td>\n",
       "      <td>t0000702</td>\n",
       "      <td>Yes</td>\n",
       "      <td>SS</td>\n",
       "      <td>2019-05-31</td>\n",
       "      <td>100.00</td>\n",
       "      <td>19</td>\n",
       "    </tr>\n",
       "  </tbody>\n",
       "</table>\n",
       "</div>"
      ],
      "text/plain": [
       "  Property   Property Name     City       County  Unit    Tenant  \\\n",
       "0      304  Almond Terrace  Manteca  San Joaquin  A101  t0028148   \n",
       "1      304  Almond Terrace  Manteca  San Joaquin  A102  t0009751   \n",
       "2      304  Almond Terrace  Manteca  San Joaquin  A103  t0029469   \n",
       "3      304  Almond Terrace  Manteca  San Joaquin  A104  t0023101   \n",
       "4      304  Almond Terrace  Manteca  San Joaquin  A105  t0000702   \n",
       "\n",
       "  Is Subsidized?  Fixed Income? Percent Collected   value year  \n",
       "0            Yes  No Assistance        2019-05-31   98.98   19  \n",
       "1            Yes  No Assistance        2019-05-31  100.00   19  \n",
       "2            NaN  No Assistance        2019-05-31    0.00   19  \n",
       "3            Yes  No Assistance        2019-05-31  100.00   19  \n",
       "4            Yes             SS        2019-05-31  100.00   19  "
      ]
     },
     "execution_count": 87,
     "metadata": {},
     "output_type": "execute_result"
    }
   ],
   "source": [
    "monthly_percent_collected.head()"
   ]
  },
  {
   "cell_type": "code",
   "execution_count": 89,
   "metadata": {},
   "outputs": [],
   "source": [
    "df_rent_collected[\"Fixed Income?\"] = df_rent_collected[\"Fixed Income?\"].replace(np.nan, 'No Assistance', regex=True)\n",
    "df_rent_collected[\"Is Subsidized?\"] = df_rent_collected[\"Is Subsidized?\"].replace(np.nan, 'No', regex=True)\n",
    "df_rent_collected[\"Is Subsidized?\"] = df_rent_collected[\"Is Subsidized?\"] + \" \" + \"Subsidy\"\n",
    "df_rent_collected[\"Assistance\"] = df_rent_collected[\"Is Subsidized?\"] +\" \"+ df_rent_collected[\"Fixed Income?\"]"
   ]
  },
  {
   "cell_type": "code",
   "execution_count": 90,
   "metadata": {},
   "outputs": [
    {
     "data": {
      "text/plain": [
       "No Assistance    6239\n",
       "SS               1413\n",
       "SSI               768\n",
       "SS/SSI            644\n",
       "Name: Fixed Income?, dtype: int64"
      ]
     },
     "execution_count": 90,
     "metadata": {},
     "output_type": "execute_result"
    }
   ],
   "source": [
    "df_rent_collected[\"Fixed Income?\"].value_counts()"
   ]
  },
  {
   "cell_type": "code",
   "execution_count": 91,
   "metadata": {},
   "outputs": [
    {
     "data": {
      "text/plain": [
       "No Subsidy     5617\n",
       "Yes Subsidy    3447\n",
       "Name: Is Subsidized?, dtype: int64"
      ]
     },
     "execution_count": 91,
     "metadata": {},
     "output_type": "execute_result"
    }
   ],
   "source": [
    "df_rent_collected[\"Is Subsidized?\"].value_counts()"
   ]
  },
  {
   "cell_type": "code",
   "execution_count": 92,
   "metadata": {},
   "outputs": [
    {
     "data": {
      "text/plain": [
       "0.49724183583406883"
      ]
     },
     "execution_count": 92,
     "metadata": {},
     "output_type": "execute_result"
    }
   ],
   "source": [
    "4507 /(5617 + 3447)"
   ]
  },
  {
   "cell_type": "markdown",
   "metadata": {},
   "source": [
    "0.49 percent of people have no form of gov assistance "
   ]
  },
  {
   "cell_type": "code",
   "execution_count": 93,
   "metadata": {},
   "outputs": [
    {
     "data": {
      "text/plain": [
       "No Subsidy No Assistance     4507\n",
       "Yes Subsidy No Assistance    1732\n",
       "Yes Subsidy SS                768\n",
       "No Subsidy SS                 645\n",
       "Yes Subsidy SSI               485\n",
       "Yes Subsidy SS/SSI            462\n",
       "No Subsidy SSI                283\n",
       "No Subsidy SS/SSI             182\n",
       "Name: Assistance, dtype: int64"
      ]
     },
     "execution_count": 93,
     "metadata": {},
     "output_type": "execute_result"
    }
   ],
   "source": [
    "df_rent_collected[\"Assistance\"].value_counts()"
   ]
  },
  {
   "cell_type": "code",
   "execution_count": 94,
   "metadata": {},
   "outputs": [],
   "source": [
    "monthly_percent_collected[\"Assistance\"] = monthly_percent_collected[\"Is Subsidized?\"] +\" \"+ monthly_percent_collected[\"Fixed Income?\"]"
   ]
  },
  {
   "cell_type": "code",
   "execution_count": 100,
   "metadata": {},
   "outputs": [],
   "source": [
    "monthly_percent_collected = monthly_percent_collected.rename(columns={\"value\":\"Percentage of Rent Paid\"})"
   ]
  },
  {
   "cell_type": "code",
   "execution_count": 102,
   "metadata": {},
   "outputs": [
    {
     "data": {
      "text/html": [
       "<div>\n",
       "<style scoped>\n",
       "    .dataframe tbody tr th:only-of-type {\n",
       "        vertical-align: middle;\n",
       "    }\n",
       "\n",
       "    .dataframe tbody tr th {\n",
       "        vertical-align: top;\n",
       "    }\n",
       "\n",
       "    .dataframe thead th {\n",
       "        text-align: right;\n",
       "    }\n",
       "</style>\n",
       "<table border=\"1\" class=\"dataframe\">\n",
       "  <thead>\n",
       "    <tr style=\"text-align: right;\">\n",
       "      <th></th>\n",
       "      <th></th>\n",
       "      <th>Percentage of Rent Paid</th>\n",
       "    </tr>\n",
       "    <tr>\n",
       "      <th>Fixed Income?</th>\n",
       "      <th>year</th>\n",
       "      <th></th>\n",
       "    </tr>\n",
       "  </thead>\n",
       "  <tbody>\n",
       "    <tr>\n",
       "      <th rowspan=\"2\" valign=\"top\">No Assistance</th>\n",
       "      <th>19</th>\n",
       "      <td>82.99</td>\n",
       "    </tr>\n",
       "    <tr>\n",
       "      <th>20</th>\n",
       "      <td>96.19</td>\n",
       "    </tr>\n",
       "    <tr>\n",
       "      <th rowspan=\"2\" valign=\"top\">SS</th>\n",
       "      <th>19</th>\n",
       "      <td>98.36</td>\n",
       "    </tr>\n",
       "    <tr>\n",
       "      <th>20</th>\n",
       "      <td>99.96</td>\n",
       "    </tr>\n",
       "    <tr>\n",
       "      <th rowspan=\"2\" valign=\"top\">SS/SSI</th>\n",
       "      <th>19</th>\n",
       "      <td>101.35</td>\n",
       "    </tr>\n",
       "    <tr>\n",
       "      <th>20</th>\n",
       "      <td>100.18</td>\n",
       "    </tr>\n",
       "    <tr>\n",
       "      <th rowspan=\"2\" valign=\"top\">SSI</th>\n",
       "      <th>19</th>\n",
       "      <td>101.08</td>\n",
       "    </tr>\n",
       "    <tr>\n",
       "      <th>20</th>\n",
       "      <td>99.55</td>\n",
       "    </tr>\n",
       "  </tbody>\n",
       "</table>\n",
       "</div>"
      ],
      "text/plain": [
       "                    Percentage of Rent Paid\n",
       "Fixed Income? year                         \n",
       "No Assistance 19                      82.99\n",
       "              20                      96.19\n",
       "SS            19                      98.36\n",
       "              20                      99.96\n",
       "SS/SSI        19                     101.35\n",
       "              20                     100.18\n",
       "SSI           19                     101.08\n",
       "              20                      99.55"
      ]
     },
     "execution_count": 102,
     "metadata": {},
     "output_type": "execute_result"
    }
   ],
   "source": [
    "monthly_percent_collected[[\"Fixed Income?\",\"Percentage of Rent Paid\",\"year\"]].groupby([\"Fixed Income?\",\"year\"]).mean().round(2)"
   ]
  },
  {
   "cell_type": "code",
   "execution_count": 103,
   "metadata": {},
   "outputs": [
    {
     "data": {
      "text/html": [
       "<div>\n",
       "<style scoped>\n",
       "    .dataframe tbody tr th:only-of-type {\n",
       "        vertical-align: middle;\n",
       "    }\n",
       "\n",
       "    .dataframe tbody tr th {\n",
       "        vertical-align: top;\n",
       "    }\n",
       "\n",
       "    .dataframe thead th {\n",
       "        text-align: right;\n",
       "    }\n",
       "</style>\n",
       "<table border=\"1\" class=\"dataframe\">\n",
       "  <thead>\n",
       "    <tr style=\"text-align: right;\">\n",
       "      <th></th>\n",
       "      <th></th>\n",
       "      <th>Percentage of Rent Paid</th>\n",
       "    </tr>\n",
       "    <tr>\n",
       "      <th>Is Subsidized?</th>\n",
       "      <th>year</th>\n",
       "      <th></th>\n",
       "    </tr>\n",
       "  </thead>\n",
       "  <tbody>\n",
       "    <tr>\n",
       "      <th rowspan=\"2\" valign=\"top\">Yes</th>\n",
       "      <th>19</th>\n",
       "      <td>105.675739</td>\n",
       "    </tr>\n",
       "    <tr>\n",
       "      <th>20</th>\n",
       "      <td>99.720503</td>\n",
       "    </tr>\n",
       "  </tbody>\n",
       "</table>\n",
       "</div>"
      ],
      "text/plain": [
       "                     Percentage of Rent Paid\n",
       "Is Subsidized? year                         \n",
       "Yes            19                 105.675739\n",
       "               20                  99.720503"
      ]
     },
     "execution_count": 103,
     "metadata": {},
     "output_type": "execute_result"
    }
   ],
   "source": [
    "monthly_percent_collected[[\"Is Subsidized?\",\"Percentage of Rent Paid\",\"year\"]].groupby([\"Is Subsidized?\",\"year\"]).mean()"
   ]
  },
  {
   "cell_type": "code",
   "execution_count": 104,
   "metadata": {},
   "outputs": [],
   "source": [
    "monthly_percent_collected[\"Fixed Income?\"] = monthly_percent_collected[\"Fixed Income?\"].replace(np.nan, 'No Assistance', regex=True)\n",
    "monthly_percent_collected[\"Is Subsidized?\"] = monthly_percent_collected[\"Is Subsidized?\"].replace(np.nan, 'No', regex=True)\n",
    "monthly_percent_collected[\"Is Subsidized?\"] = monthly_percent_collected[\"Is Subsidized?\"] + \" \" + \"Subsidy\"\n",
    "monthly_percent_collected[\"Assistance\"] = monthly_percent_collected[\"Is Subsidized?\"] +\" \"+ monthly_percent_collected[\"Fixed Income?\"]"
   ]
  },
  {
   "cell_type": "code",
   "execution_count": 105,
   "metadata": {},
   "outputs": [
    {
     "data": {
      "text/plain": [
       "No Subsidy No Assistance     45062\n",
       "Yes Subsidy No Assistance    17271\n",
       "Yes Subsidy SS                7677\n",
       "No Subsidy SS                 6449\n",
       "Yes Subsidy SSI               4848\n",
       "Yes Subsidy SS/SSI            4620\n",
       "No Subsidy SSI                2830\n",
       "No Subsidy SS/SSI             1820\n",
       "Name: Assistance, dtype: int64"
      ]
     },
     "execution_count": 105,
     "metadata": {},
     "output_type": "execute_result"
    }
   ],
   "source": [
    "monthly_percent_collected[\"Assistance\"].value_counts()"
   ]
  },
  {
   "cell_type": "code",
   "execution_count": 106,
   "metadata": {},
   "outputs": [],
   "source": [
    "def any_aid(x):\n",
    "    if x == \"No Subsidy No Assistance\":\n",
    "        return \"No Aid\"\n",
    "    else:\n",
    "        return \"Aid\""
   ]
  },
  {
   "cell_type": "code",
   "execution_count": 107,
   "metadata": {},
   "outputs": [],
   "source": [
    "monthly_percent_collected[\"Aid\"] = monthly_percent_collected.Assistance.apply(lambda x: any_aid(x))"
   ]
  },
  {
   "cell_type": "code",
   "execution_count": 109,
   "metadata": {},
   "outputs": [],
   "source": [
    "monthly_percent_collected = monthly_percent_collected.rename(columns={\"value\":\"Percentage of Rent Paid\"})"
   ]
  },
  {
   "cell_type": "code",
   "execution_count": 110,
   "metadata": {},
   "outputs": [
    {
     "data": {
      "text/html": [
       "<div>\n",
       "<style scoped>\n",
       "    .dataframe tbody tr th:only-of-type {\n",
       "        vertical-align: middle;\n",
       "    }\n",
       "\n",
       "    .dataframe tbody tr th {\n",
       "        vertical-align: top;\n",
       "    }\n",
       "\n",
       "    .dataframe thead th {\n",
       "        text-align: right;\n",
       "    }\n",
       "</style>\n",
       "<table border=\"1\" class=\"dataframe\">\n",
       "  <thead>\n",
       "    <tr style=\"text-align: right;\">\n",
       "      <th></th>\n",
       "      <th></th>\n",
       "      <th>Percentage of Rent Paid</th>\n",
       "    </tr>\n",
       "    <tr>\n",
       "      <th>Aid</th>\n",
       "      <th>year</th>\n",
       "      <th></th>\n",
       "    </tr>\n",
       "  </thead>\n",
       "  <tbody>\n",
       "    <tr>\n",
       "      <th rowspan=\"2\" valign=\"top\">Aid</th>\n",
       "      <th>19</th>\n",
       "      <td>102.643698</td>\n",
       "    </tr>\n",
       "    <tr>\n",
       "      <th>20</th>\n",
       "      <td>99.771580</td>\n",
       "    </tr>\n",
       "    <tr>\n",
       "      <th rowspan=\"2\" valign=\"top\">No Aid</th>\n",
       "      <th>19</th>\n",
       "      <td>73.657068</td>\n",
       "    </tr>\n",
       "    <tr>\n",
       "      <th>20</th>\n",
       "      <td>94.904618</td>\n",
       "    </tr>\n",
       "  </tbody>\n",
       "</table>\n",
       "</div>"
      ],
      "text/plain": [
       "             Percentage of Rent Paid\n",
       "Aid    year                         \n",
       "Aid    19                 102.643698\n",
       "       20                  99.771580\n",
       "No Aid 19                  73.657068\n",
       "       20                  94.904618"
      ]
     },
     "execution_count": 110,
     "metadata": {},
     "output_type": "execute_result"
    }
   ],
   "source": [
    "monthly_percent_collected[[\"Aid\",\"Percentage of Rent Paid\",\"year\"]].groupby([\"Aid\",\"year\"]).mean()"
   ]
  },
  {
   "cell_type": "code",
   "execution_count": 111,
   "metadata": {},
   "outputs": [
    {
     "data": {
      "text/plain": [
       "100.00    59528\n",
       "0.00      10625\n",
       "200.00      396\n",
       "100.23      138\n",
       "100.41      118\n",
       "          ...  \n",
       "126.74        1\n",
       "31.69         1\n",
       "81.94         1\n",
       "173.54        1\n",
       "115.73        1\n",
       "Name: Percentage of Rent Paid, Length: 5777, dtype: int64"
      ]
     },
     "execution_count": 111,
     "metadata": {},
     "output_type": "execute_result"
    }
   ],
   "source": [
    "monthly_percent_collected[\"Percentage of Rent Paid\"].value_counts()"
   ]
  },
  {
   "cell_type": "code",
   "execution_count": 112,
   "metadata": {},
   "outputs": [
    {
     "data": {
      "text/plain": [
       "array([[<matplotlib.axes._subplots.AxesSubplot object at 0x12f53fb00>]],\n",
       "      dtype=object)"
      ]
     },
     "execution_count": 112,
     "metadata": {},
     "output_type": "execute_result"
    },
    {
     "data": {
      "image/png": "[encoded data removed]",
      "text/plain": [
       "<Figure size 432x288 with 1 Axes>"
      ]
     },
     "metadata": {
      "needs_background": "light"
     },
     "output_type": "display_data"
    }
   ],
   "source": [
    "monthly_percent_collected[monthly_percent_collected[\"Percentage of Rent Paid\"]<=100].hist()"
   ]
  },
  {
   "cell_type": "code",
   "execution_count": 113,
   "metadata": {},
   "outputs": [
    {
     "data": {
      "text/plain": [
       "array([[<matplotlib.axes._subplots.AxesSubplot object at 0x12fad9898>]],\n",
       "      dtype=object)"
      ]
     },
     "execution_count": 113,
     "metadata": {},
     "output_type": "execute_result"
    },
    {
     "data": {
      "image/png": "[encoded data removed]",
      "text/plain": [
       "<Figure size 432x288 with 1 Axes>"
      ]
     },
     "metadata": {
      "needs_background": "light"
     },
     "output_type": "display_data"
    }
   ],
   "source": [
    "extra_hist = monthly_percent_collected[monthly_percent_collected[\"Percentage of Rent Paid\"]<100]\n",
    "extra_hist = extra_hist[extra_hist[\"Percentage of Rent Paid\"]>0]\n",
    "extra_hist.hist()"
   ]
  },
  {
   "cell_type": "code",
   "execution_count": 114,
   "metadata": {},
   "outputs": [
    {
     "data": {
      "text/html": [
       "<div>\n",
       "<style scoped>\n",
       "    .dataframe tbody tr th:only-of-type {\n",
       "        vertical-align: middle;\n",
       "    }\n",
       "\n",
       "    .dataframe tbody tr th {\n",
       "        vertical-align: top;\n",
       "    }\n",
       "\n",
       "    .dataframe thead th {\n",
       "        text-align: right;\n",
       "    }\n",
       "</style>\n",
       "<table border=\"1\" class=\"dataframe\">\n",
       "  <thead>\n",
       "    <tr style=\"text-align: right;\">\n",
       "      <th></th>\n",
       "      <th>Property</th>\n",
       "      <th>Property Name</th>\n",
       "      <th>City</th>\n",
       "      <th>County</th>\n",
       "      <th>Unit</th>\n",
       "      <th>Tenant</th>\n",
       "      <th>Is Subsidized?</th>\n",
       "      <th>Fixed Income?</th>\n",
       "      <th>Percent Collected</th>\n",
       "      <th>Percentage of Rent Paid</th>\n",
       "      <th>year</th>\n",
       "      <th>Assistance</th>\n",
       "      <th>Aid</th>\n",
       "    </tr>\n",
       "  </thead>\n",
       "  <tbody>\n",
       "    <tr>\n",
       "      <th>0</th>\n",
       "      <td>304</td>\n",
       "      <td>Almond Terrace</td>\n",
       "      <td>Manteca</td>\n",
       "      <td>San Joaquin</td>\n",
       "      <td>A101</td>\n",
       "      <td>t0028148</td>\n",
       "      <td>Yes Subsidy</td>\n",
       "      <td>No Assistance</td>\n",
       "      <td>2019-05-31</td>\n",
       "      <td>98.98</td>\n",
       "      <td>19</td>\n",
       "      <td>Yes Subsidy No Assistance</td>\n",
       "      <td>Aid</td>\n",
       "    </tr>\n",
       "    <tr>\n",
       "      <th>1</th>\n",
       "      <td>304</td>\n",
       "      <td>Almond Terrace</td>\n",
       "      <td>Manteca</td>\n",
       "      <td>San Joaquin</td>\n",
       "      <td>A102</td>\n",
       "      <td>t0009751</td>\n",
       "      <td>Yes Subsidy</td>\n",
       "      <td>No Assistance</td>\n",
       "      <td>2019-05-31</td>\n",
       "      <td>100.00</td>\n",
       "      <td>19</td>\n",
       "      <td>Yes Subsidy No Assistance</td>\n",
       "      <td>Aid</td>\n",
       "    </tr>\n",
       "    <tr>\n",
       "      <th>2</th>\n",
       "      <td>304</td>\n",
       "      <td>Almond Terrace</td>\n",
       "      <td>Manteca</td>\n",
       "      <td>San Joaquin</td>\n",
       "      <td>A103</td>\n",
       "      <td>t0029469</td>\n",
       "      <td>No Subsidy</td>\n",
       "      <td>No Assistance</td>\n",
       "      <td>2019-05-31</td>\n",
       "      <td>0.00</td>\n",
       "      <td>19</td>\n",
       "      <td>No Subsidy No Assistance</td>\n",
       "      <td>No Aid</td>\n",
       "    </tr>\n",
       "    <tr>\n",
       "      <th>3</th>\n",
       "      <td>304</td>\n",
       "      <td>Almond Terrace</td>\n",
       "      <td>Manteca</td>\n",
       "      <td>San Joaquin</td>\n",
       "      <td>A104</td>\n",
       "      <td>t0023101</td>\n",
       "      <td>Yes Subsidy</td>\n",
       "      <td>No Assistance</td>\n",
       "      <td>2019-05-31</td>\n",
       "      <td>100.00</td>\n",
       "      <td>19</td>\n",
       "      <td>Yes Subsidy No Assistance</td>\n",
       "      <td>Aid</td>\n",
       "    </tr>\n",
       "    <tr>\n",
       "      <th>4</th>\n",
       "      <td>304</td>\n",
       "      <td>Almond Terrace</td>\n",
       "      <td>Manteca</td>\n",
       "      <td>San Joaquin</td>\n",
       "      <td>A105</td>\n",
       "      <td>t0000702</td>\n",
       "      <td>Yes Subsidy</td>\n",
       "      <td>SS</td>\n",
       "      <td>2019-05-31</td>\n",
       "      <td>100.00</td>\n",
       "      <td>19</td>\n",
       "      <td>Yes Subsidy SS</td>\n",
       "      <td>Aid</td>\n",
       "    </tr>\n",
       "  </tbody>\n",
       "</table>\n",
       "</div>"
      ],
      "text/plain": [
       "  Property   Property Name     City       County  Unit    Tenant  \\\n",
       "0      304  Almond Terrace  Manteca  San Joaquin  A101  t0028148   \n",
       "1      304  Almond Terrace  Manteca  San Joaquin  A102  t0009751   \n",
       "2      304  Almond Terrace  Manteca  San Joaquin  A103  t0029469   \n",
       "3      304  Almond Terrace  Manteca  San Joaquin  A104  t0023101   \n",
       "4      304  Almond Terrace  Manteca  San Joaquin  A105  t0000702   \n",
       "\n",
       "  Is Subsidized?  Fixed Income? Percent Collected  Percentage of Rent Paid  \\\n",
       "0    Yes Subsidy  No Assistance        2019-05-31                    98.98   \n",
       "1    Yes Subsidy  No Assistance        2019-05-31                   100.00   \n",
       "2     No Subsidy  No Assistance        2019-05-31                     0.00   \n",
       "3    Yes Subsidy  No Assistance        2019-05-31                   100.00   \n",
       "4    Yes Subsidy             SS        2019-05-31                   100.00   \n",
       "\n",
       "  year                 Assistance     Aid  \n",
       "0   19  Yes Subsidy No Assistance     Aid  \n",
       "1   19  Yes Subsidy No Assistance     Aid  \n",
       "2   19   No Subsidy No Assistance  No Aid  \n",
       "3   19  Yes Subsidy No Assistance     Aid  \n",
       "4   19             Yes Subsidy SS     Aid  "
      ]
     },
     "execution_count": 114,
     "metadata": {},
     "output_type": "execute_result"
    }
   ],
   "source": [
    "monthly_percent_collected.head()"
   ]
  },
  {
   "cell_type": "code",
   "execution_count": 115,
   "metadata": {},
   "outputs": [
    {
     "data": {
      "text/plain": [
       "<matplotlib.axes._subplots.AxesSubplot at 0x12f83ad68>"
      ]
     },
     "execution_count": 115,
     "metadata": {},
     "output_type": "execute_result"
    },
    {
     "data": {
      "image/png": "[encoded data removed]",
      "text/plain": [
       "<Figure size 432x288 with 1 Axes>"
      ]
     },
     "metadata": {
      "needs_background": "light"
     },
     "output_type": "display_data"
    }
   ],
   "source": [
    "group_hist = monthly_percent_collected[monthly_percent_collected[\"Percentage of Rent Paid\"]<95]\n",
    "group_hist = group_hist[group_hist[\"Percentage of Rent Paid\"]>0]\n",
    "sns.histplot(data=group_hist, x=\"Percentage of Rent Paid\", hue=\"year\", bins=100\n",
    "            )"
   ]
  },
  {
   "cell_type": "markdown",
   "metadata": {},
   "source": [
    "Q: “Are rent shortfalls concentrated in certain properties or regions of the state?”\n"
   ]
  },
  {
   "cell_type": "code",
   "execution_count": 117,
   "metadata": {},
   "outputs": [],
   "source": [
    "monthly_percent_collected = monthly_percent_collected[monthly_percent_collected[\"Percentage of Rent Paid\"]<=100]"
   ]
  },
  {
   "cell_type": "code",
   "execution_count": 118,
   "metadata": {},
   "outputs": [],
   "source": [
    "by_county = monthly_percent_collected[[\"County\",\"Percentage of Rent Paid\"]].groupby(\"County\").describe().reset_index()"
   ]
  },
  {
   "cell_type": "code",
   "execution_count": 119,
   "metadata": {},
   "outputs": [
    {
     "data": {
      "text/html": [
       "<div>\n",
       "<style scoped>\n",
       "    .dataframe tbody tr th:only-of-type {\n",
       "        vertical-align: middle;\n",
       "    }\n",
       "\n",
       "    .dataframe tbody tr th {\n",
       "        vertical-align: top;\n",
       "    }\n",
       "\n",
       "    .dataframe thead tr th {\n",
       "        text-align: left;\n",
       "    }\n",
       "</style>\n",
       "<table border=\"1\" class=\"dataframe\">\n",
       "  <thead>\n",
       "    <tr>\n",
       "      <th></th>\n",
       "      <th>County</th>\n",
       "      <th colspan=\"8\" halign=\"left\">Percentage of Rent Paid</th>\n",
       "    </tr>\n",
       "    <tr>\n",
       "      <th></th>\n",
       "      <th></th>\n",
       "      <th>count</th>\n",
       "      <th>mean</th>\n",
       "      <th>std</th>\n",
       "      <th>min</th>\n",
       "      <th>25%</th>\n",
       "      <th>50%</th>\n",
       "      <th>75%</th>\n",
       "      <th>max</th>\n",
       "    </tr>\n",
       "  </thead>\n",
       "  <tbody>\n",
       "    <tr>\n",
       "      <th>7</th>\n",
       "      <td>San Diego</td>\n",
       "      <td>5002.0</td>\n",
       "      <td>95.61</td>\n",
       "      <td>19.26</td>\n",
       "      <td>0.0</td>\n",
       "      <td>100.00</td>\n",
       "      <td>100.0</td>\n",
       "      <td>100.0</td>\n",
       "      <td>100.0</td>\n",
       "    </tr>\n",
       "    <tr>\n",
       "      <th>6</th>\n",
       "      <td>San Benito</td>\n",
       "      <td>955.0</td>\n",
       "      <td>94.52</td>\n",
       "      <td>20.74</td>\n",
       "      <td>0.0</td>\n",
       "      <td>100.00</td>\n",
       "      <td>100.0</td>\n",
       "      <td>100.0</td>\n",
       "      <td>100.0</td>\n",
       "    </tr>\n",
       "    <tr>\n",
       "      <th>11</th>\n",
       "      <td>Santa Cruz</td>\n",
       "      <td>2219.0</td>\n",
       "      <td>94.03</td>\n",
       "      <td>23.04</td>\n",
       "      <td>0.0</td>\n",
       "      <td>100.00</td>\n",
       "      <td>100.0</td>\n",
       "      <td>100.0</td>\n",
       "      <td>100.0</td>\n",
       "    </tr>\n",
       "    <tr>\n",
       "      <th>5</th>\n",
       "      <td>Orange</td>\n",
       "      <td>1284.0</td>\n",
       "      <td>92.94</td>\n",
       "      <td>23.84</td>\n",
       "      <td>0.0</td>\n",
       "      <td>100.00</td>\n",
       "      <td>100.0</td>\n",
       "      <td>100.0</td>\n",
       "      <td>100.0</td>\n",
       "    </tr>\n",
       "    <tr>\n",
       "      <th>4</th>\n",
       "      <td>Monterey</td>\n",
       "      <td>3409.0</td>\n",
       "      <td>91.70</td>\n",
       "      <td>26.47</td>\n",
       "      <td>0.0</td>\n",
       "      <td>100.00</td>\n",
       "      <td>100.0</td>\n",
       "      <td>100.0</td>\n",
       "      <td>100.0</td>\n",
       "    </tr>\n",
       "    <tr>\n",
       "      <th>10</th>\n",
       "      <td>Santa Clara</td>\n",
       "      <td>13595.0</td>\n",
       "      <td>90.98</td>\n",
       "      <td>27.81</td>\n",
       "      <td>0.0</td>\n",
       "      <td>100.00</td>\n",
       "      <td>100.0</td>\n",
       "      <td>100.0</td>\n",
       "      <td>100.0</td>\n",
       "    </tr>\n",
       "    <tr>\n",
       "      <th>0</th>\n",
       "      <td>Alameda</td>\n",
       "      <td>23202.0</td>\n",
       "      <td>87.45</td>\n",
       "      <td>32.16</td>\n",
       "      <td>0.0</td>\n",
       "      <td>100.00</td>\n",
       "      <td>100.0</td>\n",
       "      <td>100.0</td>\n",
       "      <td>100.0</td>\n",
       "    </tr>\n",
       "    <tr>\n",
       "      <th>3</th>\n",
       "      <td>Marin</td>\n",
       "      <td>957.0</td>\n",
       "      <td>86.88</td>\n",
       "      <td>32.94</td>\n",
       "      <td>0.0</td>\n",
       "      <td>100.00</td>\n",
       "      <td>100.0</td>\n",
       "      <td>100.0</td>\n",
       "      <td>100.0</td>\n",
       "    </tr>\n",
       "    <tr>\n",
       "      <th>2</th>\n",
       "      <td>Los Angeles</td>\n",
       "      <td>320.0</td>\n",
       "      <td>85.81</td>\n",
       "      <td>33.49</td>\n",
       "      <td>0.0</td>\n",
       "      <td>100.00</td>\n",
       "      <td>100.0</td>\n",
       "      <td>100.0</td>\n",
       "      <td>100.0</td>\n",
       "    </tr>\n",
       "    <tr>\n",
       "      <th>1</th>\n",
       "      <td>Contra Costa</td>\n",
       "      <td>8102.0</td>\n",
       "      <td>85.71</td>\n",
       "      <td>33.98</td>\n",
       "      <td>0.0</td>\n",
       "      <td>100.00</td>\n",
       "      <td>100.0</td>\n",
       "      <td>100.0</td>\n",
       "      <td>100.0</td>\n",
       "    </tr>\n",
       "    <tr>\n",
       "      <th>8</th>\n",
       "      <td>San Joaquin</td>\n",
       "      <td>2832.0</td>\n",
       "      <td>82.58</td>\n",
       "      <td>37.75</td>\n",
       "      <td>0.0</td>\n",
       "      <td>100.00</td>\n",
       "      <td>100.0</td>\n",
       "      <td>100.0</td>\n",
       "      <td>100.0</td>\n",
       "    </tr>\n",
       "    <tr>\n",
       "      <th>14</th>\n",
       "      <td>Yolo</td>\n",
       "      <td>1340.0</td>\n",
       "      <td>77.93</td>\n",
       "      <td>40.11</td>\n",
       "      <td>0.0</td>\n",
       "      <td>94.88</td>\n",
       "      <td>100.0</td>\n",
       "      <td>100.0</td>\n",
       "      <td>100.0</td>\n",
       "    </tr>\n",
       "    <tr>\n",
       "      <th>9</th>\n",
       "      <td>San Mateo</td>\n",
       "      <td>123.0</td>\n",
       "      <td>77.19</td>\n",
       "      <td>42.08</td>\n",
       "      <td>0.0</td>\n",
       "      <td>99.08</td>\n",
       "      <td>100.0</td>\n",
       "      <td>100.0</td>\n",
       "      <td>100.0</td>\n",
       "    </tr>\n",
       "    <tr>\n",
       "      <th>13</th>\n",
       "      <td>Sonoma</td>\n",
       "      <td>5295.0</td>\n",
       "      <td>75.59</td>\n",
       "      <td>42.58</td>\n",
       "      <td>0.0</td>\n",
       "      <td>83.31</td>\n",
       "      <td>100.0</td>\n",
       "      <td>100.0</td>\n",
       "      <td>100.0</td>\n",
       "    </tr>\n",
       "    <tr>\n",
       "      <th>12</th>\n",
       "      <td>Solano</td>\n",
       "      <td>7365.0</td>\n",
       "      <td>58.14</td>\n",
       "      <td>48.84</td>\n",
       "      <td>0.0</td>\n",
       "      <td>0.00</td>\n",
       "      <td>100.0</td>\n",
       "      <td>100.0</td>\n",
       "      <td>100.0</td>\n",
       "    </tr>\n",
       "  </tbody>\n",
       "</table>\n",
       "</div>"
      ],
      "text/plain": [
       "          County Percentage of Rent Paid                                    \\\n",
       "                                   count   mean    std  min     25%    50%   \n",
       "7      San Diego                  5002.0  95.61  19.26  0.0  100.00  100.0   \n",
       "6     San Benito                   955.0  94.52  20.74  0.0  100.00  100.0   \n",
       "11    Santa Cruz                  2219.0  94.03  23.04  0.0  100.00  100.0   \n",
       "5         Orange                  1284.0  92.94  23.84  0.0  100.00  100.0   \n",
       "4       Monterey                  3409.0  91.70  26.47  0.0  100.00  100.0   \n",
       "10   Santa Clara                 13595.0  90.98  27.81  0.0  100.00  100.0   \n",
       "0        Alameda                 23202.0  87.45  32.16  0.0  100.00  100.0   \n",
       "3          Marin                   957.0  86.88  32.94  0.0  100.00  100.0   \n",
       "2    Los Angeles                   320.0  85.81  33.49  0.0  100.00  100.0   \n",
       "1   Contra Costa                  8102.0  85.71  33.98  0.0  100.00  100.0   \n",
       "8    San Joaquin                  2832.0  82.58  37.75  0.0  100.00  100.0   \n",
       "14          Yolo                  1340.0  77.93  40.11  0.0   94.88  100.0   \n",
       "9      San Mateo                   123.0  77.19  42.08  0.0   99.08  100.0   \n",
       "13        Sonoma                  5295.0  75.59  42.58  0.0   83.31  100.0   \n",
       "12        Solano                  7365.0  58.14  48.84  0.0    0.00  100.0   \n",
       "\n",
       "                  \n",
       "      75%    max  \n",
       "7   100.0  100.0  \n",
       "6   100.0  100.0  \n",
       "11  100.0  100.0  \n",
       "5   100.0  100.0  \n",
       "4   100.0  100.0  \n",
       "10  100.0  100.0  \n",
       "0   100.0  100.0  \n",
       "3   100.0  100.0  \n",
       "2   100.0  100.0  \n",
       "1   100.0  100.0  \n",
       "8   100.0  100.0  \n",
       "14  100.0  100.0  \n",
       "9   100.0  100.0  \n",
       "13  100.0  100.0  \n",
       "12  100.0  100.0  "
      ]
     },
     "execution_count": 119,
     "metadata": {},
     "output_type": "execute_result"
    }
   ],
   "source": [
    "by_county.sort_values([('Percentage of Rent Paid', 'mean')], ascending=False).round(2)"
   ]
  },
  {
   "cell_type": "code",
   "execution_count": 120,
   "metadata": {},
   "outputs": [],
   "source": [
    "#calculate number of nonpayments by \n",
    "no_payments_county = people_with_nonpayment.groupby(\"County\").count().reset_index()[[\"County\",\"Property\"]]\n",
    "total_counts = df_rent_collected.groupby(\"County\").count().reset_index()[[\"County\",\"Property\"]]\n",
    "no_payments_county = no_payments_county.merge(total_counts,on=\"County\")\n",
    "no_payments_county[\"No Payment as a Percent of Total Payments\"] = no_payments_county.Property_x/no_payments_county.Property_y"
   ]
  },
  {
   "cell_type": "code",
   "execution_count": 121,
   "metadata": {},
   "outputs": [
    {
     "data": {
      "text/html": [
       "<div>\n",
       "<style scoped>\n",
       "    .dataframe tbody tr th:only-of-type {\n",
       "        vertical-align: middle;\n",
       "    }\n",
       "\n",
       "    .dataframe tbody tr th {\n",
       "        vertical-align: top;\n",
       "    }\n",
       "\n",
       "    .dataframe thead th {\n",
       "        text-align: right;\n",
       "    }\n",
       "</style>\n",
       "<table border=\"1\" class=\"dataframe\">\n",
       "  <thead>\n",
       "    <tr style=\"text-align: right;\">\n",
       "      <th>4</th>\n",
       "      <th>County</th>\n",
       "      <th>No Payment as a Percent of Total Payments</th>\n",
       "    </tr>\n",
       "  </thead>\n",
       "  <tbody>\n",
       "    <tr>\n",
       "      <th>0</th>\n",
       "      <td>Solano</td>\n",
       "      <td>0.739</td>\n",
       "    </tr>\n",
       "    <tr>\n",
       "      <th>1</th>\n",
       "      <td>Sonoma</td>\n",
       "      <td>0.411</td>\n",
       "    </tr>\n",
       "    <tr>\n",
       "      <th>2</th>\n",
       "      <td>Yolo</td>\n",
       "      <td>0.373</td>\n",
       "    </tr>\n",
       "    <tr>\n",
       "      <th>3</th>\n",
       "      <td>Contra Costa</td>\n",
       "      <td>0.323</td>\n",
       "    </tr>\n",
       "    <tr>\n",
       "      <th>4</th>\n",
       "      <td>San Joaquin</td>\n",
       "      <td>0.322</td>\n",
       "    </tr>\n",
       "    <tr>\n",
       "      <th>5</th>\n",
       "      <td>Marin</td>\n",
       "      <td>0.318</td>\n",
       "    </tr>\n",
       "    <tr>\n",
       "      <th>6</th>\n",
       "      <td>Los Angeles</td>\n",
       "      <td>0.310</td>\n",
       "    </tr>\n",
       "    <tr>\n",
       "      <th>7</th>\n",
       "      <td>Alameda</td>\n",
       "      <td>0.255</td>\n",
       "    </tr>\n",
       "    <tr>\n",
       "      <th>8</th>\n",
       "      <td>San Mateo</td>\n",
       "      <td>0.219</td>\n",
       "    </tr>\n",
       "    <tr>\n",
       "      <th>9</th>\n",
       "      <td>Monterey</td>\n",
       "      <td>0.216</td>\n",
       "    </tr>\n",
       "    <tr>\n",
       "      <th>10</th>\n",
       "      <td>Santa Clara</td>\n",
       "      <td>0.192</td>\n",
       "    </tr>\n",
       "    <tr>\n",
       "      <th>11</th>\n",
       "      <td>Orange</td>\n",
       "      <td>0.146</td>\n",
       "    </tr>\n",
       "    <tr>\n",
       "      <th>12</th>\n",
       "      <td>Santa Cruz</td>\n",
       "      <td>0.137</td>\n",
       "    </tr>\n",
       "    <tr>\n",
       "      <th>13</th>\n",
       "      <td>San Diego</td>\n",
       "      <td>0.077</td>\n",
       "    </tr>\n",
       "    <tr>\n",
       "      <th>14</th>\n",
       "      <td>San Benito</td>\n",
       "      <td>0.050</td>\n",
       "    </tr>\n",
       "  </tbody>\n",
       "</table>\n",
       "</div>"
      ],
      "text/plain": [
       "4         County  No Payment as a Percent of Total Payments\n",
       "0         Solano                                      0.739\n",
       "1         Sonoma                                      0.411\n",
       "2           Yolo                                      0.373\n",
       "3   Contra Costa                                      0.323\n",
       "4    San Joaquin                                      0.322\n",
       "5          Marin                                      0.318\n",
       "6    Los Angeles                                      0.310\n",
       "7        Alameda                                      0.255\n",
       "8      San Mateo                                      0.219\n",
       "9       Monterey                                      0.216\n",
       "10   Santa Clara                                      0.192\n",
       "11        Orange                                      0.146\n",
       "12    Santa Cruz                                      0.137\n",
       "13     San Diego                                      0.077\n",
       "14    San Benito                                      0.050"
      ]
     },
     "execution_count": 121,
     "metadata": {},
     "output_type": "execute_result"
    }
   ],
   "source": [
    "no_payments_county = no_payments_county[[\"County\",\"No Payment as a Percent of Total Payments\"]]\n",
    "no_payments_county.sort_values(\"No Payment as a Percent of Total Payments\",ascending=False).reset_index().drop(columns={\"index\"}).round(3)"
   ]
  },
  {
   "cell_type": "markdown",
   "metadata": {},
   "source": [
    "“Are rent shortfalls concentrated in certain properties?\""
   ]
  },
  {
   "cell_type": "code",
   "execution_count": 123,
   "metadata": {},
   "outputs": [],
   "source": [
    "monthly_percent_collected =monthly_percent_collected.rename(columns={\"Percent Collected\":\"Date Collected\"})"
   ]
  },
  {
   "cell_type": "code",
   "execution_count": 129,
   "metadata": {},
   "outputs": [
    {
     "data": {
      "text/html": [
       "<div>\n",
       "<style scoped>\n",
       "    .dataframe tbody tr th:only-of-type {\n",
       "        vertical-align: middle;\n",
       "    }\n",
       "\n",
       "    .dataframe tbody tr th {\n",
       "        vertical-align: top;\n",
       "    }\n",
       "\n",
       "    .dataframe thead tr th {\n",
       "        text-align: left;\n",
       "    }\n",
       "</style>\n",
       "<table border=\"1\" class=\"dataframe\">\n",
       "  <thead>\n",
       "    <tr>\n",
       "      <th></th>\n",
       "      <th>Property Name</th>\n",
       "      <th colspan=\"8\" halign=\"left\">Percentage of Rent Paid</th>\n",
       "    </tr>\n",
       "    <tr>\n",
       "      <th></th>\n",
       "      <th></th>\n",
       "      <th>count</th>\n",
       "      <th>mean</th>\n",
       "      <th>std</th>\n",
       "      <th>min</th>\n",
       "      <th>25%</th>\n",
       "      <th>50%</th>\n",
       "      <th>75%</th>\n",
       "      <th>max</th>\n",
       "    </tr>\n",
       "  </thead>\n",
       "  <tbody>\n",
       "    <tr>\n",
       "      <th>134</th>\n",
       "      <td>Westside Terrace</td>\n",
       "      <td>133.0</td>\n",
       "      <td>98.44</td>\n",
       "      <td>7.33</td>\n",
       "      <td>34.31</td>\n",
       "      <td>100.0</td>\n",
       "      <td>100.0</td>\n",
       "      <td>100.0</td>\n",
       "      <td>100.0</td>\n",
       "    </tr>\n",
       "    <tr>\n",
       "      <th>86</th>\n",
       "      <td>Pauline Weaver Senior Apartments (Four)</td>\n",
       "      <td>421.0</td>\n",
       "      <td>97.69</td>\n",
       "      <td>13.85</td>\n",
       "      <td>0.00</td>\n",
       "      <td>100.0</td>\n",
       "      <td>100.0</td>\n",
       "      <td>100.0</td>\n",
       "      <td>100.0</td>\n",
       "    </tr>\n",
       "    <tr>\n",
       "      <th>102</th>\n",
       "      <td>Skeels Apartments</td>\n",
       "      <td>114.0</td>\n",
       "      <td>97.58</td>\n",
       "      <td>12.06</td>\n",
       "      <td>0.00</td>\n",
       "      <td>100.0</td>\n",
       "      <td>100.0</td>\n",
       "      <td>100.0</td>\n",
       "      <td>100.0</td>\n",
       "    </tr>\n",
       "    <tr>\n",
       "      <th>12</th>\n",
       "      <td>Brentwood Senior Commons</td>\n",
       "      <td>700.0</td>\n",
       "      <td>97.36</td>\n",
       "      <td>15.67</td>\n",
       "      <td>0.00</td>\n",
       "      <td>100.0</td>\n",
       "      <td>100.0</td>\n",
       "      <td>100.0</td>\n",
       "      <td>100.0</td>\n",
       "    </tr>\n",
       "    <tr>\n",
       "      <th>115</th>\n",
       "      <td>Tierra Linda</td>\n",
       "      <td>142.0</td>\n",
       "      <td>96.77</td>\n",
       "      <td>17.18</td>\n",
       "      <td>0.00</td>\n",
       "      <td>100.0</td>\n",
       "      <td>100.0</td>\n",
       "      <td>100.0</td>\n",
       "      <td>100.0</td>\n",
       "    </tr>\n",
       "    <tr>\n",
       "      <th>...</th>\n",
       "      <td>...</td>\n",
       "      <td>...</td>\n",
       "      <td>...</td>\n",
       "      <td>...</td>\n",
       "      <td>...</td>\n",
       "      <td>...</td>\n",
       "      <td>...</td>\n",
       "      <td>...</td>\n",
       "      <td>...</td>\n",
       "    </tr>\n",
       "    <tr>\n",
       "      <th>68</th>\n",
       "      <td>Lincoln Corner Apartments</td>\n",
       "      <td>1240.0</td>\n",
       "      <td>43.66</td>\n",
       "      <td>49.24</td>\n",
       "      <td>0.00</td>\n",
       "      <td>0.0</td>\n",
       "      <td>0.0</td>\n",
       "      <td>100.0</td>\n",
       "      <td>100.0</td>\n",
       "    </tr>\n",
       "    <tr>\n",
       "      <th>118</th>\n",
       "      <td>Vacaville Meadows Drive</td>\n",
       "      <td>550.0</td>\n",
       "      <td>42.67</td>\n",
       "      <td>49.20</td>\n",
       "      <td>0.00</td>\n",
       "      <td>0.0</td>\n",
       "      <td>0.0</td>\n",
       "      <td>100.0</td>\n",
       "      <td>100.0</td>\n",
       "    </tr>\n",
       "    <tr>\n",
       "      <th>58</th>\n",
       "      <td>Highlands Apartments</td>\n",
       "      <td>81.0</td>\n",
       "      <td>42.32</td>\n",
       "      <td>49.41</td>\n",
       "      <td>0.00</td>\n",
       "      <td>0.0</td>\n",
       "      <td>0.0</td>\n",
       "      <td>100.0</td>\n",
       "      <td>100.0</td>\n",
       "    </tr>\n",
       "    <tr>\n",
       "      <th>138</th>\n",
       "      <td>Willows Apartments</td>\n",
       "      <td>1060.0</td>\n",
       "      <td>41.24</td>\n",
       "      <td>48.94</td>\n",
       "      <td>0.00</td>\n",
       "      <td>0.0</td>\n",
       "      <td>0.0</td>\n",
       "      <td>100.0</td>\n",
       "      <td>100.0</td>\n",
       "    </tr>\n",
       "    <tr>\n",
       "      <th>89</th>\n",
       "      <td>Quail Run Apartments</td>\n",
       "      <td>1658.0</td>\n",
       "      <td>39.11</td>\n",
       "      <td>48.50</td>\n",
       "      <td>0.00</td>\n",
       "      <td>0.0</td>\n",
       "      <td>0.0</td>\n",
       "      <td>100.0</td>\n",
       "      <td>100.0</td>\n",
       "    </tr>\n",
       "  </tbody>\n",
       "</table>\n",
       "<p>142 rows × 9 columns</p>\n",
       "</div>"
      ],
      "text/plain": [
       "                               Property Name Percentage of Rent Paid         \\\n",
       "                                                               count   mean   \n",
       "134                         Westside Terrace                   133.0  98.44   \n",
       "86   Pauline Weaver Senior Apartments (Four)                   421.0  97.69   \n",
       "102                        Skeels Apartments                   114.0  97.58   \n",
       "12                  Brentwood Senior Commons                   700.0  97.36   \n",
       "115                             Tierra Linda                   142.0  96.77   \n",
       "..                                       ...                     ...    ...   \n",
       "68                 Lincoln Corner Apartments                  1240.0  43.66   \n",
       "118                  Vacaville Meadows Drive                   550.0  42.67   \n",
       "58                      Highlands Apartments                    81.0  42.32   \n",
       "138                       Willows Apartments                  1060.0  41.24   \n",
       "89                      Quail Run Apartments                  1658.0  39.11   \n",
       "\n",
       "                                               \n",
       "       std    min    25%    50%    75%    max  \n",
       "134   7.33  34.31  100.0  100.0  100.0  100.0  \n",
       "86   13.85   0.00  100.0  100.0  100.0  100.0  \n",
       "102  12.06   0.00  100.0  100.0  100.0  100.0  \n",
       "12   15.67   0.00  100.0  100.0  100.0  100.0  \n",
       "115  17.18   0.00  100.0  100.0  100.0  100.0  \n",
       "..     ...    ...    ...    ...    ...    ...  \n",
       "68   49.24   0.00    0.0    0.0  100.0  100.0  \n",
       "118  49.20   0.00    0.0    0.0  100.0  100.0  \n",
       "58   49.41   0.00    0.0    0.0  100.0  100.0  \n",
       "138  48.94   0.00    0.0    0.0  100.0  100.0  \n",
       "89   48.50   0.00    0.0    0.0  100.0  100.0  \n",
       "\n",
       "[142 rows x 9 columns]"
      ]
     },
     "execution_count": 129,
     "metadata": {},
     "output_type": "execute_result"
    }
   ],
   "source": [
    "by_property = monthly_percent_collected[[\"Property Name\",\"Percentage of Rent Paid\"]].groupby(\"Property Name\").describe().reset_index().round(2)\n",
    "by_property.sort_values([('Percentage of Rent Paid', 'mean')], ascending=False).round(2)"
   ]
  },
  {
   "cell_type": "code",
   "execution_count": 130,
   "metadata": {},
   "outputs": [],
   "source": [
    "#get ride of multi index\n",
    "by_property.columns = by_property.columns.map(' '.join)\n"
   ]
  },
  {
   "cell_type": "code",
   "execution_count": 135,
   "metadata": {},
   "outputs": [
    {
     "data": {
      "text/plain": [
       "<matplotlib.axes._subplots.AxesSubplot at 0x1307c3a20>"
      ]
     },
     "execution_count": 135,
     "metadata": {},
     "output_type": "execute_result"
    },
    {
     "data": {
      "image/png": "[encoded data removed]",
      "text/plain": [
       "<Figure size 432x288 with 1 Axes>"
      ]
     },
     "metadata": {
      "needs_background": "light"
     },
     "output_type": "display_data"
    }
   ],
   "source": [
    "by_property[\"Percentage of Rent Paid mean\"].hist()"
   ]
  },
  {
   "cell_type": "code",
   "execution_count": 139,
   "metadata": {},
   "outputs": [],
   "source": [
    "monthly_percent_collected[\"CTYNAME\"] = monthly_percent_collected[\"County\"] + \" County\""
   ]
  },
  {
   "cell_type": "code",
   "execution_count": 137,
   "metadata": {},
   "outputs": [],
   "source": [
    "#need to map on FIPS code to be able to map data \n",
    "df_sample = pd.read_csv('https://raw.githubusercontent.com/plotly/datasets/master/minoritymajority.csv')\n",
    "df_sample_r = df_sample[df_sample['STNAME'] == 'California']"
   ]
  },
  {
   "cell_type": "code",
   "execution_count": 141,
   "metadata": {},
   "outputs": [],
   "source": [
    "df_sample_r = df_sample_r[[\"FIPS\",\"CTYNAME\"]]"
   ]
  },
  {
   "cell_type": "code",
   "execution_count": 186,
   "metadata": {},
   "outputs": [],
   "source": [
    "county_map = monthly_percent_collected.merge(df_sample_r,on=\"CTYNAME\",how=\"right\")"
   ]
  },
  {
   "cell_type": "code",
   "execution_count": 187,
   "metadata": {},
   "outputs": [],
   "source": [
    "county_map = county_map[[\"FIPS\",\"Percentage of Rent Paid\"]].rename(columns={\"FIPS\":\"id\",\"Percentage of Rent Paid\":\"rate\"})"
   ]
  },
  {
   "cell_type": "code",
   "execution_count": 188,
   "metadata": {},
   "outputs": [],
   "source": [
    "county_map['rate'] = county_map['rate'].fillna(0.1)"
   ]
  },
  {
   "cell_type": "code",
   "execution_count": 189,
   "metadata": {},
   "outputs": [],
   "source": [
    "county_map['rate'] = np.log2(county_map['rate'])"
   ]
  },
  {
   "cell_type": "code",
   "execution_count": 190,
   "metadata": {},
   "outputs": [],
   "source": [
    "county_map.to_csv(\"counties_map.csv\")"
   ]
  },
  {
   "cell_type": "code",
   "execution_count": 158,
   "metadata": {},
   "outputs": [],
   "source": [
    "from vega_datasets import data\n",
    "\n",
    "counties = alt.topo_feature(data.us_10m.url, 'counties')\n",
    "source = data.unemployment.url"
   ]
  },
  {
   "cell_type": "code",
   "execution_count": 178,
   "metadata": {},
   "outputs": [],
   "source": [
    "source = \"https://raw.githubusercontent.com/qunderriner/eden_rent_roll/main/counties_map.csv\""
   ]
  },
  {
   "cell_type": "code",
   "execution_count": null,
   "metadata": {},
   "outputs": [],
   "source": [
    "data['logarithm_base2'] = np.log2(data['Salary'])"
   ]
  },
  {
   "cell_type": "code",
   "execution_count": 192,
   "metadata": {},
   "outputs": [
    {
     "data": {
      "text/html": [
       "\n",
       "<div id=\"altair-viz-a049b0adc33447de826c5b0daf40ae5b\"></div>\n",
       "<script type=\"text/javascript\">\n",
       "  (function(spec, embedOpt){\n",
       "    const outputDiv = document.getElementById(\"altair-viz-a049b0adc33447de826c5b0daf40ae5b\");\n",
       "    const paths = {\n",
       "      \"vega\": \"https://cdn.jsdelivr.net/npm//vega@5?noext\",\n",
       "      \"vega-lib\": \"https://cdn.jsdelivr.net/npm//vega-lib?noext\",\n",
       "      \"vega-lite\": \"https://cdn.jsdelivr.net/npm//vega-lite@4.0.2?noext\",\n",
       "      \"vega-embed\": \"https://cdn.jsdelivr.net/npm//vega-embed@6?noext\",\n",
       "    };\n",
       "\n",
       "    function loadScript(lib) {\n",
       "      return new Promise(function(resolve, reject) {\n",
       "        var s = document.createElement('script');\n",
       "        s.src = paths[lib];\n",
       "        s.async = true;\n",
       "        s.onload = () => resolve(paths[lib]);\n",
       "        s.onerror = () => reject(`Error loading script: ${paths[lib]}`);\n",
       "        document.getElementsByTagName(\"head\")[0].appendChild(s);\n",
       "      });\n",
       "    }\n",
       "\n",
       "    function showError(err) {\n",
       "      outputDiv.innerHTML = `<div class=\"error\" style=\"color:red;\">${err}</div>`;\n",
       "      throw err;\n",
       "    }\n",
       "\n",
       "    function displayChart(vegaEmbed) {\n",
       "      vegaEmbed(outputDiv, spec, embedOpt)\n",
       "        .catch(err => showError(`Javascript Error: ${err.message}<br>This usually means there's a typo in your chart specification. See the javascript console for the full traceback.`));\n",
       "    }\n",
       "\n",
       "    if(typeof define === \"function\" && define.amd) {\n",
       "      requirejs.config({paths});\n",
       "      require([\"vega-embed\"], displayChart, err => showError(`Error loading script: ${err.message}`));\n",
       "    } else if (typeof vegaEmbed === \"function\") {\n",
       "      displayChart(vegaEmbed);\n",
       "    } else {\n",
       "      loadScript(\"vega\")\n",
       "        .then(() => loadScript(\"vega-lite\"))\n",
       "        .then(() => loadScript(\"vega-embed\"))\n",
       "        .catch(showError)\n",
       "        .then(() => displayChart(vegaEmbed));\n",
       "    }\n",
       "  })({\"config\": {\"view\": {\"continuousWidth\": 400, \"continuousHeight\": 300}}, \"data\": {\"url\": \"https://vega.github.io/vega-datasets/data/us-10m.json\", \"format\": {\"feature\": \"counties\", \"type\": \"topojson\"}}, \"mark\": \"geoshape\", \"encoding\": {\"color\": {\"type\": \"quantitative\", \"field\": \"rate\"}}, \"height\": 300, \"projection\": {\"type\": \"albersUsa\"}, \"transform\": [{\"lookup\": \"id\", \"from\": {\"data\": {\"url\": \"https://raw.githubusercontent.com/qunderriner/eden_rent_roll/main/counties_map.csv\"}, \"key\": \"id\", \"fields\": [\"rate\"]}}], \"width\": 500, \"$schema\": \"https://vega.github.io/schema/vega-lite/v4.0.2.json\"}, {\"mode\": \"vega-lite\"});\n",
       "</script>"
      ],
      "text/plain": [
       "alt.Chart(...)"
      ]
     },
     "execution_count": 192,
     "metadata": {},
     "output_type": "execute_result"
    }
   ],
   "source": [
    "alt.Chart(counties).mark_geoshape().encode(\n",
    "    color='rate:Q'\n",
    ").transform_lookup(\n",
    "    lookup='id',\n",
    "    from_=alt.LookupData(source, 'id', ['rate'])\n",
    ").project(\n",
    "    type='albersUsa'\n",
    ").properties(\n",
    "    width=500,\n",
    "    height=300\n",
    ")"
   ]
  },
  {
   "cell_type": "markdown",
   "metadata": {},
   "source": [
    "Does subsidy status change over time?"
   ]
  },
  {
   "cell_type": "code",
   "execution_count": 368,
   "metadata": {},
   "outputs": [],
   "source": [
    "subsidized_filter = [x for x in df_final.columns if x.startswith('Is')]\n",
    "fixed_filer = [x for x in df_final.columns if x.startswith('Fixed Income?')]"
   ]
  },
  {
   "cell_type": "code",
   "execution_count": 353,
   "metadata": {},
   "outputs": [],
   "source": [
    "sub_status = df_final[subsidized_filter]"
   ]
  },
  {
   "cell_type": "code",
   "execution_count": 369,
   "metadata": {},
   "outputs": [],
   "source": [
    "fixed_status = df_final[fixed_filer]"
   ]
  },
  {
   "cell_type": "code",
   "execution_count": 372,
   "metadata": {},
   "outputs": [
    {
     "data": {
      "text/plain": [
       "SS        1466\n",
       "SSI        808\n",
       "SS/SSI     670\n",
       "Name: Fixed Income? 06/01/19 - 06/30/19, dtype: int64"
      ]
     },
     "execution_count": 372,
     "metadata": {},
     "output_type": "execute_result"
    }
   ],
   "source": [
    "fixed_status[\"Fixed Income? 06/01/19 - 06/30/19\"].value_counts()"
   ]
  },
  {
   "cell_type": "code",
   "execution_count": 374,
   "metadata": {},
   "outputs": [],
   "source": [
    "fixed_status = fixed_status.replace({\"SS\": \"Yes\", \"SSI\": \"Yes\",\"SS/SSI\":\"Yes\"})"
   ]
  },
  {
   "cell_type": "code",
   "execution_count": 365,
   "metadata": {},
   "outputs": [
    {
     "data": {
      "text/plain": [
       "0.06310679611650485"
      ]
     },
     "execution_count": 365,
     "metadata": {},
     "output_type": "execute_result"
    }
   ],
   "source": [
    "(sub_status.dropna(axis=0, how='all').shape[0] - sub_status.dropna(axis=0, how='any').shape[0])/sub_status.shape[0]"
   ]
  },
  {
   "cell_type": "code",
   "execution_count": 375,
   "metadata": {},
   "outputs": [
    {
     "data": {
      "text/plain": [
       "0.12411738746690203"
      ]
     },
     "execution_count": 375,
     "metadata": {},
     "output_type": "execute_result"
    }
   ],
   "source": [
    "(fixed_status.dropna(axis=0, how='all').shape[0] - fixed_status.dropna(axis=0, how='any').shape[0])/fixed_status.shape[0]"
   ]
  },
  {
   "cell_type": "markdown",
   "metadata": {},
   "source": [
    "6.3 percent of people have a change of housing subsidy status at some point in the dataset. 12.4 percent of people have a change of SS/SSI status. "
   ]
  },
  {
   "cell_type": "markdown",
   "metadata": {},
   "source": [
    "Q: “(was there more of a drop off [in number of tenants who have moved out]) this year compared to last? Were those dropoffs more concentrated in a certain month?)”"
   ]
  },
  {
   "cell_type": "code",
   "execution_count": null,
   "metadata": {},
   "outputs": [],
   "source": [
    "#rerun this function without dropping the period column. I ran this all in a seperate notebook, but wanted\n",
    "#the code in the same place \n",
    "def read_in2(file,sheet):\n",
    "    \"\"\"\n",
    "    inputs:\n",
    "        file (str): filepath of excel file\n",
    "        sheet (str): name of sheet in excel sheet\n",
    "    returns:\n",
    "        df (dataframe)\n",
    "    Read in data from a given excel sheet, do some cleaning and then \n",
    "    make new column names that adds the date for financial transaction \n",
    "    and drops the rest of the data. \n",
    "    \"\"\"\n",
    "    df = pd.read_excel(file,sheet_name =sheet)\n",
    "    new_header = df.iloc[4] #grab the forth row for the header\n",
    "    df = df[5:] #take the data less the blank rows\n",
    "    df.columns = new_header\n",
    "    df = df[:-2]#drop bottom two rows, which contain summary info\n",
    "    df = df.reset_index().drop(columns=[\"index\"])\n",
    "    df = df[['Tenant Lease Charge','Is Subsidized?', 'Fixed Income?', 'Tenant Rent Collected',\n",
    "             'Percent Collected',\"Period\",\"Tenant\"]]\n",
    "    df = df.rename(columns={\"Tenant Lease Charge\":\"Tenant Lease Charge\"+\" \"+df[\"Period\"][5],\n",
    "                   \"Tenant Rent Collected\":\"Tenant Rent Charge\"+\" \"+df[\"Period\"][5],\n",
    "                  \"Percent Collected\":\"Tenant Percent Collected\"+\" \"+df[\"Period\"][5],\n",
    "                   'Is Subsidized?':\"Is Subsidized?\"+\" \"+df[\"Period\"][5], \n",
    "                    'Fixed Income?':\"Fixed Income?\"+\" \"+df[\"Period\"][5]}) \n",
    "    #df = df.drop(columns={\"Period\"})\n",
    "    return df"
   ]
  },
  {
   "cell_type": "code",
   "execution_count": null,
   "metadata": {},
   "outputs": [],
   "source": [
    "df = read_in_check_status(file2,may19_sept19[0])\n",
    "\n",
    "df_list = [df, read_in2(file2,may19_sept19[1]),\n",
    "           read_in2(file2,may19_sept19[2]),\n",
    "           read_in2(file2,may19_sept19[3]),\n",
    "           read_in2(file2,may19_sept19[4]),\n",
    "           read_in2(file1,may2020_sept2020[0]),\n",
    "           read_in2(file1,may2020_sept2020[1]),\n",
    "           read_in2(file1,may2020_sept2020[2]),\n",
    "           read_in2(file1,may2020_sept2020[3]),\n",
    "           read_in2(file1,may2020_sept2020[4])]"
   ]
  },
  {
   "cell_type": "code",
   "execution_count": null,
   "metadata": {},
   "outputs": [],
   "source": [
    "#get total number of people in units \n",
    "for i in range(len(df_list)):\n",
    "    date = df_list[i][\"Period\"][0][-8:]\n",
    "    \n",
    "    print(date,len(df_list[i])"
   ]
  },
  {
   "cell_type": "code",
   "execution_count": null,
   "metadata": {},
   "outputs": [],
   "source": [
    "#set difference figures \n",
    "last_period = set(df_list[0][\"Tenant\"].unique())\n",
    "for i in range(len(df_list)):\n",
    "    date = df_list[i][\"Period\"][0][-8:]\n",
    "    if i !=0:\n",
    "        last_period = set(df_list[i-1][\"Tenant\"].unique())\n",
    "        this_period = set(df_list[i][\"Tenant\"].unique())\n",
    "        print(date,len(last_period.difference(this_period)))"
   ]
  }
 ],
 "metadata": {
  "kernelspec": {
   "display_name": "Python 3",
   "language": "python",
   "name": "python3"
  },
  "language_info": {
   "codemirror_mode": {
    "name": "ipython",
    "version": 3
   },
   "file_extension": ".py",
   "mimetype": "text/x-python",
   "name": "python",
   "nbconvert_exporter": "python",
   "pygments_lexer": "ipython3",
   "version": "3.7.2"
  }
 },
 "nbformat": 4,
 "nbformat_minor": 2
}
