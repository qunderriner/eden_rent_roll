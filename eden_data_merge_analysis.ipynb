{
 "cells": [
  {
   "cell_type": "code",
   "execution_count": 103,
   "metadata": {},
   "outputs": [],
   "source": [
    "import pandas as pd\n",
    "import numpy as np\n",
    "import os\n",
    "import xlrd\n",
    "from functools import reduce"
   ]
  },
  {
   "cell_type": "markdown",
   "metadata": {},
   "source": [
    "To read in these massive excel files first want to extract names of sheets"
   ]
  },
  {
   "cell_type": "code",
   "execution_count": 10,
   "metadata": {},
   "outputs": [],
   "source": [
    "file1 = \"/Users/quinnunderriner/Desktop/Work/eden_rent_roll/TenantLeasePayments_Trending_(Active)_May_2020_Sept_2020.xlsx\"\n",
    "file2 = \"/Users/quinnunderriner/Desktop/Work/eden_rent_roll/Tenant_Lease_Payments_May 2019_Sept_2019.xlsx\""
   ]
  },
  {
   "cell_type": "code",
   "execution_count": 263,
   "metadata": {},
   "outputs": [],
   "source": [
    "xls = xlrd.open_workbook(file1, on_demand=True)\n",
    "may2020_sept2020 = xls.sheet_names()\n",
    "may2020_sept2020 = [x for x in may2020_sept2020 if not x.endswith('Summary')] #we want to drop summary tabs "
   ]
  },
  {
   "cell_type": "code",
   "execution_count": 271,
   "metadata": {},
   "outputs": [],
   "source": [
    "# need to drop data from earlier in months where we have double data \n",
    "may2020_sept2020 = [x for x in may2020_sept2020 if not \"15\" in x]\n",
    "may2020_sept2020 = [x for x in may2020_sept2020 if not \"10\" in x]\n"
   ]
  },
  {
   "cell_type": "code",
   "execution_count": 17,
   "metadata": {},
   "outputs": [
    {
     "name": "stdout",
     "output_type": "stream",
     "text": [
      "['May 31', 'June 30', 'July 31', 'August 31', 'Sept. 30']\n"
     ]
    }
   ],
   "source": [
    "xls2 = xlrd.open_workbook(file2, on_demand=True)\n",
    "may19_sept19 = xls2.sheet_names()"
   ]
  },
  {
   "cell_type": "code",
   "execution_count": 192,
   "metadata": {},
   "outputs": [],
   "source": [
    "def read_in(file,sheet):\n",
    "    \"\"\"\n",
    "    inputs:\n",
    "        file (str): filepath of excel file\n",
    "        sheet (str): name of sheet in excel sheet\n",
    "    returns:\n",
    "        df (dataframe)\n",
    "    Read in data from a given excel sheet, do some cleaning and then \n",
    "    make new column names that adds the date for financial transaction \n",
    "    and drops the rest of the data. \n",
    "    \"\"\"\n",
    "    df = pd.read_excel(file,sheet_name =sheet)\n",
    "    new_header = df.iloc[4] #grab the forth row for the header\n",
    "    df = df[5:] #take the data less the blank rows\n",
    "    df.columns = new_header\n",
    "    df = df[:-2]#drop bottom two rows, which contain summary info\n",
    "    df = df.reset_index().drop(columns=[\"index\"])\n",
    "    df = df[['Tenant Lease Charge','Is Subsidized?', 'Fixed Income?', 'Tenant Rent Collected',\n",
    "             'Percent Collected',\"Period\",\"Tenant\"]]\n",
    "    df = df.rename(columns={\"Tenant Lease Charge\":\"Tenant Lease Charge\"+\" \"+df[\"Period\"][5],\n",
    "                   \"Tenant Rent Collected\":\"Tenant Rent Charge\"+\" \"+df[\"Period\"][5],\n",
    "                  \"Percent Collected\":\"Tenant Percent Collected\"+\" \"+df[\"Period\"][5],\n",
    "                   'Is Subsidized?':\"Is Subsidized?\"+\" \"+df[\"Period\"][5], \n",
    "                    'Fixed Income?':\"Fixed Income?\"+\" \"+df[\"Period\"][5]}) \n",
    "    df = df.drop(columns={\"Period\"})\n",
    "    return df"
   ]
  },
  {
   "cell_type": "code",
   "execution_count": 154,
   "metadata": {},
   "outputs": [],
   "source": [
    "def read_in_check_status(file,sheet):\n",
    "    \"\"\"\n",
    "    inputs:\n",
    "        file (str): filepath of excel file\n",
    "        sheet (str): name of sheet in excel sheet\n",
    "    returns:\n",
    "        df (dataframe)\n",
    "    Read in data from a given excel sheet, do some cleaning and then\n",
    "    create monthly columns checking subsidy status.\n",
    "    \"\"\"\n",
    "    df = pd.read_excel(file,sheet_name =sheet)\n",
    "    new_header = df.iloc[4] #grab the forth row for the header\n",
    "    df = df[5:] #take the data less the blank rows\n",
    "    df.columns = new_header\n",
    "    df = df[:-2]#drop bottom two rows, which contain summary info\n",
    "    df = df.reset_index().drop(columns=[\"index\"])\n",
    "    df = df[['Tenant', 'Is Subsidized?', 'Fixed Income?']]\n",
    "\n",
    "    #df = df.drop(columns={\"Period\"})\n",
    "    return df"
   ]
  },
  {
   "cell_type": "code",
   "execution_count": 310,
   "metadata": {},
   "outputs": [],
   "source": [
    "def make_header(df):\n",
    "    \"\"\"\n",
    "    inputs:\n",
    "        df (dataframe)\n",
    "    returns:\n",
    "        df (dataframe)\n",
    "    do some basic cleanup of the header row \n",
    "    \"\"\"\n",
    "    new_header = df.iloc[4] #grab the forth row for the header\n",
    "    df = df[5:] #take the data less the blank rows\n",
    "    df.columns = new_header\n",
    "    return df"
   ]
  },
  {
   "cell_type": "code",
   "execution_count": 276,
   "metadata": {},
   "outputs": [],
   "source": [
    "#read in the correct sheets from all files calling read_in function \n",
    "df = pd.read_excel(file2,sheet_name =may19_sept19[0])\n",
    "df = make_header(df)\n",
    "\n",
    "df_list = [df, read_in(file2,may19_sept19[1]),\n",
    "           read_in(file2,may19_sept19[2]),\n",
    "           read_in(file2,may19_sept19[3]),\n",
    "           read_in(file2,may19_sept19[4]),\n",
    "           read_in(file1,may2020_sept2020[0]),\n",
    "           read_in(file1,may2020_sept2020[1]),\n",
    "           read_in(file1,may2020_sept2020[2]),\n",
    "           read_in(file1,may2020_sept2020[3]),\n",
    "           read_in(file1,may2020_sept2020[4])]"
   ]
  },
  {
   "cell_type": "code",
   "execution_count": 278,
   "metadata": {},
   "outputs": [],
   "source": [
    "#This lambda function then merges all the dataframes from df_list together \n",
    "df_final = reduce(lambda left,right: pd.merge(left,right,on='Tenant'), df_list)\n",
    "\n",
    "df_final = df_final.drop(columns=[\"Name\",\"Period\"]) #drop cols"
   ]
  },
  {
   "cell_type": "code",
   "execution_count": 281,
   "metadata": {},
   "outputs": [],
   "source": [
    "#write out initial data to csv\n",
    "df_final.to_csv(\"Inital_eden_rent_roll_data_19-20_v2.csv\")"
   ]
  },
  {
   "cell_type": "markdown",
   "metadata": {},
   "source": [
    "Need to melt dataset so each row is amount of rent collected in a given month to be able to do groupbys"
   ]
  },
  {
   "cell_type": "code",
   "execution_count": 212,
   "metadata": {},
   "outputs": [],
   "source": [
    "#grab initial fixed columns for first month in dataset \n",
    "fixed_cols = ['Property', 'Property Name', 'City', 'County', 'Unit', 'Tenant',\n",
    "       'Is Subsidized?', 'Fixed Income?']"
   ]
  },
  {
   "cell_type": "code",
   "execution_count": 286,
   "metadata": {},
   "outputs": [],
   "source": [
    "# additionally grab just monthly percentage payment columns \n",
    "percent_collected = [num for num in df_final.columns if (\"Percent\") in num]"
   ]
  },
  {
   "cell_type": "code",
   "execution_count": 291,
   "metadata": {},
   "outputs": [],
   "source": [
    "#merge these two lists in the total list of columns we want so we can melt dataset \n",
    "# for this initial analysis assuming that fixed income status and stuff do not change\n",
    "collect = fixed_cols + percent_collected\n",
    "df_rent_collected = df_final[collect]"
   ]
  },
  {
   "cell_type": "code",
   "execution_count": 292,
   "metadata": {},
   "outputs": [],
   "source": [
    "#create a melted dataset so that each row is a payment \n",
    "monthly_percent_collected = pd.melt(df_rent_collected, id_vars=fixed_cols,var_name='Percent Collected')"
   ]
  },
  {
   "cell_type": "code",
   "execution_count": 293,
   "metadata": {},
   "outputs": [
    {
     "data": {
      "text/plain": [
       "90640"
      ]
     },
     "execution_count": 293,
     "metadata": {},
     "output_type": "execute_result"
    }
   ],
   "source": [
    "# there are 90,640 payments in this dataset \n",
    "len(monthly_percent_collected)"
   ]
  },
  {
   "cell_type": "code",
   "execution_count": 295,
   "metadata": {},
   "outputs": [],
   "source": [
    "# to group by year, need a year col \n",
    "monthly_percent_collected[\"year\"] = monthly_percent_collected[\"Percent Collected\"].str[-2:]"
   ]
  },
  {
   "cell_type": "code",
   "execution_count": 301,
   "metadata": {},
   "outputs": [
    {
     "data": {
      "text/plain": [
       "14577"
      ]
     },
     "execution_count": 301,
     "metadata": {},
     "output_type": "execute_result"
    }
   ],
   "source": [
    "len(monthly_percent_collected[monthly_percent_collected.value > 100])"
   ]
  },
  {
   "cell_type": "code",
   "execution_count": 308,
   "metadata": {},
   "outputs": [
    {
     "data": {
      "text/plain": [
       "0.16082303618711385"
      ]
     },
     "execution_count": 308,
     "metadata": {},
     "output_type": "execute_result"
    }
   ],
   "source": [
    "#16 percent of all payments exceed total, implying paying back rent. \n",
    "len(monthly_percent_collected[monthly_percent_collected.value > 100])/ len(monthly_percent_collected)"
   ]
  },
  {
   "cell_type": "code",
   "execution_count": 302,
   "metadata": {},
   "outputs": [
    {
     "data": {
      "text/plain": [
       "63"
      ]
     },
     "execution_count": 302,
     "metadata": {},
     "output_type": "execute_result"
    }
   ],
   "source": [
    "#negative rent total \n",
    "len(monthly_percent_collected[monthly_percent_collected.value < 0])"
   ]
  },
  {
   "cell_type": "code",
   "execution_count": 309,
   "metadata": {},
   "outputs": [
    {
     "data": {
      "text/plain": [
       "0.0006950573698146514"
      ]
     },
     "execution_count": 309,
     "metadata": {},
     "output_type": "execute_result"
    }
   ],
   "source": [
    "(len(monthly_percent_collected[monthly_percent_collected.value < 0])/len(monthly_percent_collected))"
   ]
  },
  {
   "cell_type": "code",
   "execution_count": 323,
   "metadata": {},
   "outputs": [],
   "source": [
    "#I'm going to drop these negative values as I believe them to be errors. \n",
    "monthly_percent_collected = monthly_percent_collected[monthly_percent_collected.value >= 0]"
   ]
  },
  {
   "cell_type": "code",
   "execution_count": 327,
   "metadata": {},
   "outputs": [
    {
     "name": "stderr",
     "output_type": "stream",
     "text": [
      "/Users/quinnunderriner/anaconda3/lib/python3.7/site-packages/pandas/core/generic.py:5165: SettingWithCopyWarning: \n",
      "A value is trying to be set on a copy of a slice from a DataFrame.\n",
      "Try using .loc[row_indexer,col_indexer] = value instead\n",
      "\n",
      "See the caveats in the documentation: https://pandas.pydata.org/pandas-docs/stable/user_guide/indexing.html#returning-a-view-versus-a-copy\n",
      "  self[name] = value\n"
     ]
    },
    {
     "data": {
      "text/html": [
       "<div>\n",
       "<style scoped>\n",
       "    .dataframe tbody tr th:only-of-type {\n",
       "        vertical-align: middle;\n",
       "    }\n",
       "\n",
       "    .dataframe tbody tr th {\n",
       "        vertical-align: top;\n",
       "    }\n",
       "\n",
       "    .dataframe thead tr th {\n",
       "        text-align: left;\n",
       "    }\n",
       "\n",
       "    .dataframe thead tr:last-of-type th {\n",
       "        text-align: right;\n",
       "    }\n",
       "</style>\n",
       "<table border=\"1\" class=\"dataframe\">\n",
       "  <thead>\n",
       "    <tr>\n",
       "      <th></th>\n",
       "      <th colspan=\"8\" halign=\"left\">value</th>\n",
       "    </tr>\n",
       "    <tr>\n",
       "      <th></th>\n",
       "      <th>count</th>\n",
       "      <th>mean</th>\n",
       "      <th>std</th>\n",
       "      <th>min</th>\n",
       "      <th>25%</th>\n",
       "      <th>50%</th>\n",
       "      <th>75%</th>\n",
       "      <th>max</th>\n",
       "    </tr>\n",
       "    <tr>\n",
       "      <th>year</th>\n",
       "      <th></th>\n",
       "      <th></th>\n",
       "      <th></th>\n",
       "      <th></th>\n",
       "      <th></th>\n",
       "      <th></th>\n",
       "      <th></th>\n",
       "      <th></th>\n",
       "    </tr>\n",
       "  </thead>\n",
       "  <tbody>\n",
       "    <tr>\n",
       "      <th>19</th>\n",
       "      <td>37847.0</td>\n",
       "      <td>78.487889</td>\n",
       "      <td>40.651772</td>\n",
       "      <td>0.0</td>\n",
       "      <td>98.735</td>\n",
       "      <td>100.0</td>\n",
       "      <td>100.0</td>\n",
       "      <td>100.0</td>\n",
       "    </tr>\n",
       "    <tr>\n",
       "      <th>20</th>\n",
       "      <td>38153.0</td>\n",
       "      <td>91.361198</td>\n",
       "      <td>26.732037</td>\n",
       "      <td>0.0</td>\n",
       "      <td>100.000</td>\n",
       "      <td>100.0</td>\n",
       "      <td>100.0</td>\n",
       "      <td>100.0</td>\n",
       "    </tr>\n",
       "  </tbody>\n",
       "</table>\n",
       "</div>"
      ],
      "text/plain": [
       "        value                                                         \n",
       "        count       mean        std  min      25%    50%    75%    max\n",
       "year                                                                  \n",
       "19    37847.0  78.487889  40.651772  0.0   98.735  100.0  100.0  100.0\n",
       "20    38153.0  91.361198  26.732037  0.0  100.000  100.0  100.0  100.0"
      ]
     },
     "execution_count": 327,
     "metadata": {},
     "output_type": "execute_result"
    }
   ],
   "source": [
    "monthly_percent_collected.value = monthly_percent_collected.value.astype(float) #make value type that works with groupby \n",
    "monthly_percent_collected[monthly_percent_collected.value <=100][[\"year\",\"value\"]].groupby(\"year\").describe()"
   ]
  },
  {
   "cell_type": "code",
   "execution_count": 329,
   "metadata": {},
   "outputs": [
    {
     "data": {
      "text/html": [
       "<div>\n",
       "<style scoped>\n",
       "    .dataframe tbody tr th:only-of-type {\n",
       "        vertical-align: middle;\n",
       "    }\n",
       "\n",
       "    .dataframe tbody tr th {\n",
       "        vertical-align: top;\n",
       "    }\n",
       "\n",
       "    .dataframe thead th {\n",
       "        text-align: right;\n",
       "    }\n",
       "</style>\n",
       "<table border=\"1\" class=\"dataframe\">\n",
       "  <thead>\n",
       "    <tr style=\"text-align: right;\">\n",
       "      <th></th>\n",
       "      <th>value</th>\n",
       "    </tr>\n",
       "    <tr>\n",
       "      <th>year</th>\n",
       "      <th></th>\n",
       "    </tr>\n",
       "  </thead>\n",
       "  <tbody>\n",
       "    <tr>\n",
       "      <th>19</th>\n",
       "      <td>7898.0</td>\n",
       "    </tr>\n",
       "    <tr>\n",
       "      <th>20</th>\n",
       "      <td>2727.0</td>\n",
       "    </tr>\n",
       "  </tbody>\n",
       "</table>\n",
       "</div>"
      ],
      "text/plain": [
       "       value\n",
       "year        \n",
       "19    7898.0\n",
       "20    2727.0"
      ]
     },
     "execution_count": 329,
     "metadata": {},
     "output_type": "execute_result"
    }
   ],
   "source": [
    "#count the number of non payments per year \n",
    "monthly_percent_collected[[\"year\",\"value\"]].groupby('year').agg(lambda x: x.eq(0).sum())"
   ]
  },
  {
   "cell_type": "code",
   "execution_count": 330,
   "metadata": {},
   "outputs": [
    {
     "data": {
      "text/plain": [
       "5171.0"
      ]
     },
     "execution_count": 330,
     "metadata": {},
     "output_type": "execute_result"
    }
   ],
   "source": [
    "7898.0 - 2727.0"
   ]
  },
  {
   "cell_type": "code",
   "execution_count": null,
   "metadata": {},
   "outputs": [],
   "source": [
    "Count of zeros by year "
   ]
  },
  {
   "cell_type": "markdown",
   "metadata": {},
   "source": [
    "if i can order the dates up right could make a nice line chart "
   ]
  }
 ],
 "metadata": {
  "kernelspec": {
   "display_name": "Python 3",
   "language": "python",
   "name": "python3"
  },
  "language_info": {
   "codemirror_mode": {
    "name": "ipython",
    "version": 3
   },
   "file_extension": ".py",
   "mimetype": "text/x-python",
   "name": "python",
   "nbconvert_exporter": "python",
   "pygments_lexer": "ipython3",
   "version": "3.7.2"
  }
 },
 "nbformat": 4,
 "nbformat_minor": 2
}
